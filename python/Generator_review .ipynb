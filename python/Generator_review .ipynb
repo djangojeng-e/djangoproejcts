{
 "cells": [
  {
   "cell_type": "code",
   "execution_count": 1,
   "metadata": {},
   "outputs": [],
   "source": [
    "# Generator \n",
    "\n",
    "# Generator functions allow you to declare a function that behaves like an iterator. \n",
    "# i.e. it can be used in a for loop "
   ]
  },
  {
   "cell_type": "code",
   "execution_count": 4,
   "metadata": {},
   "outputs": [
    {
     "name": "stdout",
     "output_type": "stream",
     "text": [
      "499999500000\n"
     ]
    }
   ],
   "source": [
    "# simple function \n",
    "\n",
    "def firstn(n):\n",
    "    num = 0\n",
    "    nums = []\n",
    "    while num < n:\n",
    "        nums.append(num)\n",
    "        num += 1\n",
    "    return nums\n",
    "\n",
    "sum_of_first_n = sum(firstn(1000000))\n",
    "print(sum_of_first_n)\n",
    "\n",
    "# The code is simple but it does put the full list into the memory. \n",
    "# If the n goes to larger and larger, the memory will consume more. \n",
    "\n",
    "# Hence, alternatively, we can use the generator pattern. "
   ]
  },
  {
   "cell_type": "code",
   "execution_count": 7,
   "metadata": {},
   "outputs": [
    {
     "data": {
      "text/plain": [
       "499999500000"
      ]
     },
     "execution_count": 7,
     "metadata": {},
     "output_type": "execute_result"
    }
   ],
   "source": [
    "# Generator Pattern \n",
    "\n",
    "class firstn(object):\n",
    "    def __init__(self, n):\n",
    "        self.n = n \n",
    "        self.num = 0\n",
    "        \n",
    "    def __iter__(self):\n",
    "        return self\n",
    "    \n",
    "    def __next__(self):\n",
    "        return self.next()\n",
    "    \n",
    "    def next(self):\n",
    "        if self.num < self.n:\n",
    "            cur, self.num = self.num, self.num+1\n",
    "            return cur \n",
    "        else:\n",
    "            raise StopIteration()\n",
    "            \n",
    "\n",
    "sum_of_first_n = sum(firstn(1000000))\n",
    "sum_of_first_n"
   ]
  },
  {
   "cell_type": "code",
   "execution_count": 9,
   "metadata": {},
   "outputs": [
    {
     "data": {
      "text/plain": [
       "499999500000"
      ]
     },
     "execution_count": 9,
     "metadata": {},
     "output_type": "execute_result"
    }
   ],
   "source": [
    "# Instead of using the above class, \n",
    "# We can think of using generator function as a convenient shortcut to building iterators \n",
    "# Building the above iterator as a generator function as below \n",
    "\n",
    "# A generator that yields items instead of returning a list \n",
    "\n",
    "def firstn(n):\n",
    "    num = 0\n",
    "    while num < n:\n",
    "        yield num \n",
    "        num += 1 \n",
    "        \n",
    "sum_of_first_n = sum(firstn(1000000))\n",
    "sum_of_first_n"
   ]
  },
  {
   "cell_type": "code",
   "execution_count": null,
   "metadata": {},
   "outputs": [],
   "source": []
  },
  {
   "cell_type": "code",
   "execution_count": null,
   "metadata": {},
   "outputs": [],
   "source": []
  }
 ],
 "metadata": {
  "kernelspec": {
   "display_name": "Python 3",
   "language": "python",
   "name": "python3"
  },
  "language_info": {
   "codemirror_mode": {
    "name": "ipython",
    "version": 3
   },
   "file_extension": ".py",
   "mimetype": "text/x-python",
   "name": "python",
   "nbconvert_exporter": "python",
   "pygments_lexer": "ipython3",
   "version": "3.8.0"
  }
 },
 "nbformat": 4,
 "nbformat_minor": 4
}
