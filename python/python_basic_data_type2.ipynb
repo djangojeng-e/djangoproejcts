{
 "cells": [
  {
   "cell_type": "code",
   "execution_count": 4,
   "metadata": {},
   "outputs": [
    {
     "name": "stdout",
     "output_type": "stream",
     "text": [
      "(0, -1, 12, 2123.44, 100, 'Django')\n",
      "<class 'tuple'>\n",
      "('python', 'Django', 200, 'GoLang')\n",
      "<class 'tuple'>\n",
      "('Django', 'Python', 'JavaScript')\n",
      "<class 'tuple'>\n"
     ]
    }
   ],
   "source": [
    "# 튜플 생성하기 \n",
    "# 정수, 실수, 문자열을 가진 튜플을 생성 \n",
    "# () 안에 데이터를 , 로 분리하고 변수에 할당하면 생성됩니다. \n",
    "\n",
    "tup = (0, -1, 12, 2123.44, 100, 'Django')\n",
    "print(tup)\n",
    "print(type(tup))\n",
    "\n",
    "# 문자열 3개, 숫자 1개로 이루어진 튜플 생성 \n",
    "\n",
    "tup2 = ('python', 'Django', 200, 'GoLang')\n",
    "print(tup2)\n",
    "print(type(tup2))\n",
    "\n",
    "# () 를 사용하지 않고 생성하는 방법 \n",
    "tup3 = \"Django\", \"Python\", \"JavaScript\"\n",
    "print(tup3)\n",
    "print(type(tup3))"
   ]
  },
  {
   "cell_type": "code",
   "execution_count": 5,
   "metadata": {},
   "outputs": [
    {
     "name": "stdout",
     "output_type": "stream",
     "text": [
      "()\n",
      "<class 'tuple'>\n"
     ]
    }
   ],
   "source": [
    "# 비어있는 튜플을 생성하기 \n",
    "empty_tup = () \n",
    "print(empty_tup)\n",
    "print(type(empty_tup))"
   ]
  },
  {
   "cell_type": "code",
   "execution_count": 7,
   "metadata": {},
   "outputs": [
    {
     "name": "stdout",
     "output_type": "stream",
     "text": [
      "100\n",
      "<class 'int'>\n",
      "(100,)\n",
      "<class 'tuple'>\n"
     ]
    }
   ],
   "source": [
    "# 1개의 데이터만 가진 튜플 생성하기 \n",
    "single_tup = (100)\n",
    "print(single_tup)\n",
    "print(type(single_tup))\n",
    "\n",
    "# 값이 한개일때, 요소의 끝에 , 를 붙여줘야 1개의 값을 가진 튜플이 생성됩니다. \n",
    "single_tup = (100,)\n",
    "print(single_tup)\n",
    "print(type(single_tup))"
   ]
  },
  {
   "cell_type": "code",
   "execution_count": 12,
   "metadata": {},
   "outputs": [
    {
     "name": "stdout",
     "output_type": "stream",
     "text": [
      "d\n",
      "j\n",
      "a\n",
      "n\n",
      "g\n",
      "o\n",
      "\n",
      "o\n",
      "g\n",
      "n\n",
      "a\n",
      "j\n",
      "d\n"
     ]
    }
   ],
   "source": [
    "tup = ('d', 'j', 'a', 'n', 'g', 'o')\n",
    "\n",
    "print(tup[0])\n",
    "print(tup[1])\n",
    "print(tup[2])\n",
    "print(tup[3])\n",
    "print(tup[4])\n",
    "print(tup[5])\n",
    "\n",
    "print()\n",
    "\n",
    "print(tup[-1])\n",
    "print(tup[-2])\n",
    "print(tup[-3])\n",
    "print(tup[-4])\n",
    "print(tup[-5])\n",
    "print(tup[-6])"
   ]
  },
  {
   "cell_type": "code",
   "execution_count": 13,
   "metadata": {},
   "outputs": [
    {
     "ename": "TypeError",
     "evalue": "'tuple' object does not support item assignment",
     "output_type": "error",
     "traceback": [
      "\u001b[0;31m---------------------------------------------------------------------------\u001b[0m",
      "\u001b[0;31mTypeError\u001b[0m                                 Traceback (most recent call last)",
      "\u001b[0;32m<ipython-input-13-253c803b15bb>\u001b[0m in \u001b[0;36m<module>\u001b[0;34m\u001b[0m\n\u001b[1;32m      3\u001b[0m \u001b[0;34m\u001b[0m\u001b[0m\n\u001b[1;32m      4\u001b[0m \u001b[0mtup\u001b[0m \u001b[0;34m=\u001b[0m \u001b[0;34m(\u001b[0m\u001b[0;34m'd'\u001b[0m\u001b[0;34m,\u001b[0m \u001b[0;34m'j'\u001b[0m\u001b[0;34m,\u001b[0m \u001b[0;34m'a'\u001b[0m\u001b[0;34m,\u001b[0m \u001b[0;34m'n'\u001b[0m\u001b[0;34m,\u001b[0m \u001b[0;34m'g'\u001b[0m\u001b[0;34m,\u001b[0m \u001b[0;34m'o'\u001b[0m\u001b[0;34m)\u001b[0m\u001b[0;34m\u001b[0m\u001b[0;34m\u001b[0m\u001b[0m\n\u001b[0;32m----> 5\u001b[0;31m \u001b[0mtup\u001b[0m\u001b[0;34m[\u001b[0m\u001b[0;36m1\u001b[0m\u001b[0;34m]\u001b[0m \u001b[0;34m=\u001b[0m \u001b[0;34m'b'\u001b[0m\u001b[0;34m\u001b[0m\u001b[0;34m\u001b[0m\u001b[0m\n\u001b[0m",
      "\u001b[0;31mTypeError\u001b[0m: 'tuple' object does not support item assignment"
     ]
    }
   ],
   "source": [
    "# tuple 은 immutable 합니다. \n",
    "# 값을 바꿀수 없습니다. 값을 바꾸려 하면, 에러가 납니다. \n",
    "\n",
    "tup = ('d', 'j', 'a', 'n', 'g', 'o')\n",
    "tup[1] = 'b'"
   ]
  },
  {
   "cell_type": "code",
   "execution_count": 14,
   "metadata": {},
   "outputs": [
    {
     "name": "stdout",
     "output_type": "stream",
     "text": [
      "('d', 'j', 'a')\n",
      "('a', 'n', 'g')\n"
     ]
    }
   ],
   "source": [
    "# 튜플 슬라이싱 하기 \n",
    "\n",
    "tup = ('d', 'j', 'a', 'n', 'g', 'o')\n",
    "\n",
    "print(tup[0:3])\n",
    "print(tup[2:5])\n"
   ]
  },
  {
   "cell_type": "code",
   "execution_count": 16,
   "metadata": {},
   "outputs": [
    {
     "name": "stdout",
     "output_type": "stream",
     "text": [
      "('d', 'j', 'a', 'n', 'g', 'o', 'p', 'y', 't', 'h', 'o', 'n')\n",
      "('d', 'j', 'a', 'n', 'g', 'o', 'd', 'j', 'a', 'n', 'g', 'o', 'd', 'j', 'a', 'n', 'g', 'o', 'd', 'j', 'a', 'n', 'g', 'o')\n"
     ]
    }
   ],
   "source": [
    "# +, * 연산자 사용하기 \n",
    "\n",
    "tup = ('d', 'j', 'a', 'n', 'g', 'o')\n",
    "\n",
    "tup1 = ('p', 'y', 't', 'h', 'o', 'n')\n",
    "\n",
    "add_tuples = tup + tup1  # tup 과 tup1 을 합친 새로운 튜플을 생성합니다. \n",
    "print(add_tuples)\n",
    "\n",
    "# tup 을 *을 사용하여 반복합니다 \n",
    "print(tup * 4)\n",
    "\n"
   ]
  },
  {
   "cell_type": "code",
   "execution_count": 19,
   "metadata": {},
   "outputs": [
    {
     "name": "stdout",
     "output_type": "stream",
     "text": [
      "[1, 2, 3, 4, 5]\n",
      "['django', 'python', 'javascript', 'GoLang']\n",
      "[12, 'developer', 32.33]\n",
      "[]\n"
     ]
    }
   ],
   "source": [
    "# 리스트 생성하기 \n",
    "# , 로 분리된 값들을 [] 안에 넣어주면 생성됩니다. \n",
    "list1 = [1, 2, 3, 4, 5]\n",
    "list2 = ['django', 'python', 'javascript', 'GoLang']\n",
    "list3 = [12, 'developer', 32.33]\n",
    "\n",
    "print(list1)\n",
    "print(list2)\n",
    "print(list3)\n",
    "\n",
    "# 비어 있는 리스트를 생성\n",
    "# [] 안에 아무 값도 넣어주지 않으면 비어있는 리스트가 생성됩니다 \n",
    "empty_list = []\n",
    "print(empty_list)"
   ]
  },
  {
   "cell_type": "code",
   "execution_count": 21,
   "metadata": {},
   "outputs": [
    {
     "name": "stdout",
     "output_type": "stream",
     "text": [
      "d\n",
      "j\n",
      "a\n",
      "n\n",
      "g\n",
      "o\n",
      "\n",
      "o\n",
      "g\n",
      "n\n",
      "a\n",
      "j\n",
      "d\n"
     ]
    }
   ],
   "source": [
    "# 리스트 슬라이싱 하기 \n",
    "\n",
    "list1 = ['d', 'j', 'a', 'n', 'g', 'o']\n",
    "print(list1[0])\n",
    "print(list1[1])\n",
    "print(list1[2])\n",
    "print(list1[3])\n",
    "print(list1[4])\n",
    "print(list1[5])\n",
    "print()\n",
    "print(list1[-1])\n",
    "print(list1[-2])\n",
    "print(list1[-3])\n",
    "print(list1[-4])\n",
    "print(list1[-5])\n",
    "print(list1[-6])"
   ]
  },
  {
   "cell_type": "code",
   "execution_count": 22,
   "metadata": {},
   "outputs": [
    {
     "ename": "IndexError",
     "evalue": "list index out of range",
     "output_type": "error",
     "traceback": [
      "\u001b[0;31m---------------------------------------------------------------------------\u001b[0m",
      "\u001b[0;31mIndexError\u001b[0m                                Traceback (most recent call last)",
      "\u001b[0;32m<ipython-input-22-3034fc2e792a>\u001b[0m in \u001b[0;36m<module>\u001b[0;34m\u001b[0m\n\u001b[0;32m----> 1\u001b[0;31m \u001b[0mprint\u001b[0m\u001b[0;34m(\u001b[0m\u001b[0mlist1\u001b[0m\u001b[0;34m[\u001b[0m\u001b[0;36m6\u001b[0m\u001b[0;34m]\u001b[0m\u001b[0;34m)\u001b[0m\u001b[0;34m\u001b[0m\u001b[0;34m\u001b[0m\u001b[0m\n\u001b[0m",
      "\u001b[0;31mIndexError\u001b[0m: list index out of range"
     ]
    }
   ],
   "source": [
    "print(list1[6])"
   ]
  },
  {
   "cell_type": "code",
   "execution_count": 23,
   "metadata": {},
   "outputs": [
    {
     "name": "stdout",
     "output_type": "stream",
     "text": [
      "['d', 'j', 'a']\n",
      "['a', 'n', 'g']\n",
      "['j', 'a', 'n']\n"
     ]
    }
   ],
   "source": [
    "# 리스트 슬라이싱 \n",
    "\n",
    "list1 = ['d', 'j', 'a', 'n', 'g', 'o']\n",
    "print(list1[0:3])\n",
    "print(list1[2:5])\n",
    "print(list1[1:-2])"
   ]
  },
  {
   "cell_type": "code",
   "execution_count": 25,
   "metadata": {},
   "outputs": [
    {
     "name": "stdout",
     "output_type": "stream",
     "text": [
      "['d', 'b', 'a', 'n', 'g', 'o']\n",
      "['d', 'b', 'a', 'n', 'g', 'u']\n"
     ]
    }
   ],
   "source": [
    "# 리스트는 mutable 합니다 \n",
    "\n",
    "list1 = ['d', 'j', 'a', 'n', 'g', 'o']\n",
    "\n",
    "list1[1] = 'b' # 인덱스 1에 해당하는 값을 'b'로 바꿈 \n",
    "print(list1)\n",
    "\n",
    "list1[5] = 'u' # 인덱스 5에 해당하는 값을 'u' 로 바꿈 \n",
    "\n",
    "print(list1)\n"
   ]
  },
  {
   "cell_type": "code",
   "execution_count": 27,
   "metadata": {},
   "outputs": [
    {
     "name": "stdout",
     "output_type": "stream",
     "text": [
      "['d', 'j', 'a', 'n', 'g', 'o', 12, 'developer', 32.33]\n",
      "[1, 2, 3, 4, 5, 1, 2, 3, 4, 5, 1, 2, 3, 4, 5, 1, 2, 3, 4, 5]\n"
     ]
    }
   ],
   "source": [
    "list1 = ['d', 'j', 'a', 'n', 'g', 'o']\n",
    "list2 = [12, 'developer', 32.33]\n",
    "list3 = [1, 2, 3, 4, 5]\n",
    "\n",
    "list_sum = list1 + list2 # + 연산자를 사용하여, list1 과 list2 를 합친 새로운 리스트를 생성 \n",
    "print(list_sum)\n",
    "\n",
    "# * 연산자를 사용하여, list3 을 4번 반복 \n",
    "print(list3 * 4)"
   ]
  },
  {
   "cell_type": "code",
   "execution_count": 32,
   "metadata": {},
   "outputs": [
    {
     "name": "stdout",
     "output_type": "stream",
     "text": [
      "{1, 2, 3, 4, 5}\n",
      "{1, 2, 5, 6, 7}\n",
      "{3, 4}\n",
      "{1, 2, 3, 4, 5, 6, 7}\n",
      "{1, 2, 5}\n",
      "{3, 4, 6, 7}\n"
     ]
    }
   ],
   "source": [
    "# 중복된 값을 가진 리스트를 생성 \n",
    "a = [1, 1, 2, 2, 3, 3, 4, 4, 5, 5]\n",
    "b = [5, 5, 6, 6, 7, 7, 1, 2]\n",
    "\n",
    "s1 = set(a)  # a를 집합으로 선언 \n",
    "s2 = set(b)  # b를 집합으로 선언 \n",
    "\n",
    "print(s1)\n",
    "print(s2)\n",
    "\n",
    "# 차집합 \n",
    "print(s1 - s2)\n",
    "\n",
    "# s1 혹은 s2 에 있는 숫자들 \n",
    "print(s1 | s2)\n",
    "\n",
    "# s1 그리고 s2 에 있는 숫자들 \n",
    "print(s1 & s2)\n",
    "\n",
    "# s1 과 s2 에 있지만, 양쪽에 없는 숫자들 \n",
    "print(s1 ^ s2)"
   ]
  },
  {
   "cell_type": "code",
   "execution_count": 39,
   "metadata": {},
   "outputs": [
    {
     "name": "stdout",
     "output_type": "stream",
     "text": [
      "{'python': 'django', 'Java': 'spring', 'JavaScript': 'nodejs'}\n",
      "<class 'dict'>\n",
      "django\n",
      "spring\n",
      "nodejs\n",
      "{'python': 'django', 'Java': 'spring', 'JavaScript': 'nodejs', 'php': 'Laravel'}\n",
      "{'python': 'django', 'Java': 'spring', 'JavaScript': 'nodejs'}\n"
     ]
    }
   ],
   "source": [
    "# 사전 생성하기 \n",
    "# {} 안에, key:value 형태로 이루어진 자료를 , 로 구분하여 넣어주면 생성됩니다. \n",
    "web_framework = {'python': 'django', 'Java': 'spring', 'JavaScript': 'nodejs'}\n",
    "print(web_framework)\n",
    "print(type(web_framework))\n",
    "\n",
    "# 사전의 데이터를 key 값을 사용해서 접근하기 \n",
    "\n",
    "print(web_framework['python'])\n",
    "print(web_framework['Java'])\n",
    "print(web_framework['JavaScript'])\n",
    "\n",
    "# 사전에 데이터를 추가하기 \n",
    "web_framework['php'] = 'Laravel'\n",
    "\n",
    "print(web_framework)\n",
    "\n",
    "# 사전에 데이터를 삭제하기 \n",
    "del web_framework['php']\n",
    "\n",
    "print(web_framework)"
   ]
  },
  {
   "cell_type": "code",
   "execution_count": 42,
   "metadata": {},
   "outputs": [
    {
     "name": "stdout",
     "output_type": "stream",
     "text": [
      "None\n",
      "<class 'NoneType'>\n",
      "None\n",
      "False\n"
     ]
    }
   ],
   "source": [
    "# None \n",
    "\n",
    "print(None)\n",
    "print(type(None))\n",
    "\n",
    "# 아무값도 반환하지 않는 함수는 None 을 반환합니다. \n",
    "\n",
    "def fun():\n",
    "    pass \n",
    "\n",
    "print(fun())\n",
    "\n",
    "\n",
    "# None 의 불리언값은 False 입니다. \n",
    "print(bool(None))"
   ]
  },
  {
   "cell_type": "code",
   "execution_count": null,
   "metadata": {},
   "outputs": [],
   "source": []
  }
 ],
 "metadata": {
  "kernelspec": {
   "display_name": "Python 3",
   "language": "python",
   "name": "python3"
  },
  "language_info": {
   "codemirror_mode": {
    "name": "ipython",
    "version": 3
   },
   "file_extension": ".py",
   "mimetype": "text/x-python",
   "name": "python",
   "nbconvert_exporter": "python",
   "pygments_lexer": "ipython3",
   "version": "3.8.0"
  }
 },
 "nbformat": 4,
 "nbformat_minor": 4
}
