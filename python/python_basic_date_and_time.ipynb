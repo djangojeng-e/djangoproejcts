{
 "cells": [
  {
   "cell_type": "code",
   "execution_count": 3,
   "metadata": {},
   "outputs": [
    {
     "name": "stdout",
     "output_type": "stream",
     "text": [
      "오늘 날짜는 2020-06-26 입니다\n",
      "올해 신년 날짜는 2020-01-01 입니다\n"
     ]
    }
   ],
   "source": [
    "# Date 를 다룰때 \n",
    "# datetime.date.today() 오늘 날짜를 갖습니다 \n",
    "import datetime\n",
    "today = datetime.date.today()\n",
    "print(f'오늘 날짜는 {today} 입니다')\n",
    "\n",
    "new_year = datetime.date(2020, 1, 1)\n",
    "print(f'올해 신년 날짜는 {new_year} 입니다')"
   ]
  },
  {
   "cell_type": "code",
   "execution_count": 4,
   "metadata": {},
   "outputs": [
    {
     "name": "stdout",
     "output_type": "stream",
     "text": [
      "12:00:00\n",
      "15:00:00\n"
     ]
    }
   ],
   "source": [
    "# Time 을 다룰때 \n",
    "# datetime.time() 은 시간을 갖습니다 \n",
    "import datetime \n",
    "# time 객체 \n",
    "noon = datetime.time(12, 0, 0)\n",
    "print(noon)\n",
    "\n",
    "three_pm = datetime.time(15, 0, 0)\n",
    "print(three_pm)"
   ]
  },
  {
   "cell_type": "code",
   "execution_count": 6,
   "metadata": {},
   "outputs": [
    {
     "name": "stdout",
     "output_type": "stream",
     "text": [
      "2020-06-26 21:06:34.513993\n"
     ]
    }
   ],
   "source": [
    "# Time 을 다룰때, date 와 time 둘의 값을 가진 객체를 가질수 있습니다. \n",
    "# Datetime 객체 \n",
    "import datetime\n",
    "# 현재 날짜와시간 \n",
    "now = datetime.datetime.now()\n",
    "print(now)"
   ]
  },
  {
   "cell_type": "code",
   "execution_count": 7,
   "metadata": {},
   "outputs": [
    {
     "name": "stdout",
     "output_type": "stream",
     "text": [
      "2000-12-18 18:28:00\n"
     ]
    }
   ],
   "source": [
    "import datetime\n",
    "\n",
    "# 특정 datetime \n",
    "\n",
    "my_birthday = datetime.datetime(2000, 12, 18, 18, 28, 0)\n",
    "print(my_birthday)"
   ]
  },
  {
   "cell_type": "code",
   "execution_count": 8,
   "metadata": {},
   "outputs": [
    {
     "name": "stdout",
     "output_type": "stream",
     "text": [
      "2020-06-26\n",
      "2020-06-27\n",
      "2020-06-28\n",
      "2020-06-29\n",
      "2020-06-30\n",
      "2020-07-01\n",
      "2020-07-02\n"
     ]
    }
   ],
   "source": [
    "# 시작날짜부터 끝나는 날짜까지 순회하며\n",
    "# 각 날짜들을 출력 \n",
    "\n",
    "import datetime\n",
    "\n",
    "# 날짜간의 간격을 timedelta 로 지정해줍니다 \n",
    "day_delta = datetime.timedelta(days=1)\n",
    "\n",
    "# 시작 날짜를 start_date 오늘 날짜로 지정해주고 \n",
    "start_date = datetime.date.today()\n",
    "\n",
    "# 끝나는 날짜를, start_date 으로부터 7 time_delta 가 지난 날짜로 지정해 줍니다 (즉, 오늘부터 7일후로 지정)\n",
    "end_date = start_date + 7 * day_delta \n",
    "\n",
    "# 시작날짜부터 끝나는 날짜까지 순회하면서, 각 날짜들을 출력해줍니다 \n",
    "for i in range((end_date - start_date).days):\n",
    "    print(start_date + i*day_delta)"
   ]
  },
  {
   "cell_type": "code",
   "execution_count": 10,
   "metadata": {},
   "outputs": [
    {
     "name": "stdout",
     "output_type": "stream",
     "text": [
      "2020-06-26 21:32:17.872914\n",
      "2020-12-18 00:00:00\n",
      "174 days, 2:27:42.127086\n"
     ]
    }
   ],
   "source": [
    "# timedelta 모듈은 시간간의 차이를 계산할수 있습니다 \n",
    "from datetime import datetime, timedelta \n",
    "now = datetime.now()\n",
    "print(now)\n",
    "later = datetime(2020, 12, 18)\n",
    "print(later)\n",
    "delta = later - now \n",
    "print(delta)"
   ]
  },
  {
   "cell_type": "code",
   "execution_count": 14,
   "metadata": {},
   "outputs": [
    {
     "name": "stdout",
     "output_type": "stream",
     "text": [
      "<class 'datetime.timedelta'>\n",
      "<class 'int'>\n",
      "<class 'int'>\n"
     ]
    }
   ],
   "source": [
    "from datetime import datetime, timedelta \n",
    "now = datetime.now()\n",
    "later = datetime(2020, 12, 18)\n",
    "delta = later - now\n",
    "\n",
    "print(type(delta))\n",
    "\n",
    "print(type(delta.days))\n",
    "\n",
    "print(type(delta.seconds))"
   ]
  },
  {
   "cell_type": "code",
   "execution_count": 16,
   "metadata": {},
   "outputs": [
    {
     "name": "stdout",
     "output_type": "stream",
     "text": [
      "현재날짜 : 2020-06-26\n",
      "현재 날짜에 30일 이후 : 2020-07-26\n"
     ]
    }
   ],
   "source": [
    "# 특정 날짜 이후에 특정 일수 이후의 날짜 \n",
    "\n",
    "from datetime import date, timedelta \n",
    "\n",
    "current_date = date.today().isoformat()\n",
    "days_after = (date.today() + timedelta(days=30)).isoformat()\n",
    "\n",
    "print(f'현재날짜 : {current_date}')\n",
    "print(f'현재 날짜에 30일 이후 : {days_after}')"
   ]
  },
  {
   "cell_type": "code",
   "execution_count": 17,
   "metadata": {},
   "outputs": [
    {
     "name": "stdout",
     "output_type": "stream",
     "text": [
      "현재날짜 : 2020-06-26\n",
      "현재날짜의 30일 이전 날짜 : 2020-05-27\n"
     ]
    }
   ],
   "source": [
    "# 특정 날짜에 특정 일수 이전의 날짜 \n",
    "\n",
    "from datetime import date, timedelta \n",
    "\n",
    "current_date = date.today().isoformat() \n",
    "days_before = (date.today() - timedelta(days=30)).isoformat()\n",
    "\n",
    "print(f'현재날짜 : {current_date}')\n",
    "print(f'현재날짜의 30일 이전 날짜 : {days_before}')"
   ]
  },
  {
   "cell_type": "code",
   "execution_count": 20,
   "metadata": {},
   "outputs": [
    {
     "name": "stdout",
     "output_type": "stream",
     "text": [
      "오늘은 2020-06-26\n",
      "어제는 2020-06-25\n",
      "내일은 2020-06-27\n",
      "어제와 오늘 사이의 시간 : 2 days, 0:00:00\n"
     ]
    }
   ],
   "source": [
    "# 간단한 날짜 계산 \n",
    "import datetime \n",
    "\n",
    "today = datetime.date.today()\n",
    "print(\"오늘은 {}\".format(today))\n",
    "\n",
    "yesterday = today - datetime.timedelta(days=1)\n",
    "print(\"어제는 {}\".format(yesterday))\n",
    "\n",
    "tomorrow = today + datetime.timedelta(days=1)\n",
    "print(\"내일은 {}\".format(tomorrow))\n",
    "\n",
    "print(\"어제와 오늘 사이의 시간 : {}\".format(tomorrow - yesterday))"
   ]
  },
  {
   "cell_type": "code",
   "execution_count": 23,
   "metadata": {},
   "outputs": [
    {
     "name": "stdout",
     "output_type": "stream",
     "text": [
      "2020-07-26\n"
     ]
    }
   ],
   "source": [
    "# substracting months from a date \n",
    "import calendar \n",
    "from datetime import date \n",
    "\n",
    "def monthdelta(date, delta):\n",
    "    m = (date.month + delta) % 12\n",
    "    y = date.year + (date.month + delta - 1) // 12 \n",
    "    if not m: m = 12 \n",
    "    d = min(date.day, calendar.monthrange(y, m)[1])\n",
    "    return date.replace(day=d, month=m, year=y)\n",
    "\n",
    "next_month = monthdelta(date.today(), 1) \n",
    "\n",
    "print(next_month)"
   ]
  },
  {
   "cell_type": "code",
   "execution_count": 26,
   "metadata": {},
   "outputs": [
    {
     "name": "stdout",
     "output_type": "stream",
     "text": [
      "2020-05-26 00:00:00\n"
     ]
    }
   ],
   "source": [
    "# dateutils module 사용하기 \n",
    "\n",
    "import datetime \n",
    "import dateutil.relativedelta \n",
    "\n",
    "d = datetime.datetime.strptime(datetime.date.today().isoformat(), \"%Y-%m-%d\")\n",
    "d2 = d - dateutil.relativedelta.relativedelta(months=1)\n",
    "\n",
    "print(d2)"
   ]
  },
  {
   "cell_type": "code",
   "execution_count": 33,
   "metadata": {},
   "outputs": [
    {
     "name": "stdout",
     "output_type": "stream",
     "text": [
      "2020-06-26 13:37:41.446115\n",
      "2020-06-26 13:37:41.446115+00:00\n",
      "2020-06-26 22:37:41.446115+09:00\n"
     ]
    }
   ],
   "source": [
    "# timezone 바꾸기 \n",
    "\n",
    "from datetime import datetime\n",
    "from dateutil import tz \n",
    "\n",
    "utc = tz.tzutc()\n",
    "local = tz.tzlocal()\n",
    "\n",
    "utc_now = datetime.utcnow()\n",
    "print(utc_now) \n",
    "\n",
    "utc_now = utc_now.replace(tzinfo=utc)\n",
    "print(utc_now)\n",
    "\n",
    "local_now = utc_now.astimezone(local)\n",
    "print(local_now)"
   ]
  },
  {
   "cell_type": "code",
   "execution_count": null,
   "metadata": {},
   "outputs": [],
   "source": []
  }
 ],
 "metadata": {
  "kernelspec": {
   "display_name": "Python 3",
   "language": "python",
   "name": "python3"
  },
  "language_info": {
   "codemirror_mode": {
    "name": "ipython",
    "version": 3
   },
   "file_extension": ".py",
   "mimetype": "text/x-python",
   "name": "python",
   "nbconvert_exporter": "python",
   "pygments_lexer": "ipython3",
   "version": "3.8.0"
  }
 },
 "nbformat": 4,
 "nbformat_minor": 4
}
