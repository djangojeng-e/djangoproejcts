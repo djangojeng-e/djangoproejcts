{
 "cells": [
  {
   "cell_type": "code",
   "execution_count": 2,
   "metadata": {},
   "outputs": [
    {
     "name": "stdout",
     "output_type": "stream",
     "text": [
      "<class 'str'>\n",
      "['__add__', '__class__', '__contains__', '__delattr__', '__dir__', '__doc__', '__eq__', '__format__', '__ge__', '__getattribute__', '__getitem__', '__getnewargs__', '__gt__', '__hash__', '__init__', '__init_subclass__', '__iter__', '__le__', '__len__', '__lt__', '__mod__', '__mul__', '__ne__', '__new__', '__reduce__', '__reduce_ex__', '__repr__', '__rmod__', '__rmul__', '__setattr__', '__sizeof__', '__str__', '__subclasshook__', 'capitalize', 'casefold', 'center', 'count', 'encode', 'endswith', 'expandtabs', 'find', 'format', 'format_map', 'index', 'isalnum', 'isalpha', 'isascii', 'isdecimal', 'isdigit', 'isidentifier', 'islower', 'isnumeric', 'isprintable', 'isspace', 'istitle', 'isupper', 'join', 'ljust', 'lower', 'lstrip', 'maketrans', 'partition', 'replace', 'rfind', 'rindex', 'rjust', 'rpartition', 'rsplit', 'rstrip', 'split', 'splitlines', 'startswith', 'strip', 'swapcase', 'title', 'translate', 'upper', 'zfill']\n",
      "<class 'list'>\n"
     ]
    }
   ],
   "source": [
    "# 두개의 객체를 생성하고, type 확인 하기 \n",
    "# type() 함수를 사용하여 확인할수 있습니다. \n",
    "\n",
    "string1 = \"안녕하세요\"\n",
    "print(type(string1))\n",
    "print(dir(string1))\n",
    "\n",
    "number_list = [1, 123, 12.5, -500]\n",
    "print(type(number_list))"
   ]
  },
  {
   "cell_type": "code",
   "execution_count": 4,
   "metadata": {},
   "outputs": [
    {
     "name": "stdout",
     "output_type": "stream",
     "text": [
      "<class 'str'>\n",
      "['__add__', '__class__', '__contains__', '__delattr__', '__dir__', '__doc__', '__eq__', '__format__', '__ge__', '__getattribute__', '__getitem__', '__getnewargs__', '__gt__', '__hash__', '__init__', '__init_subclass__', '__iter__', '__le__', '__len__', '__lt__', '__mod__', '__mul__', '__ne__', '__new__', '__reduce__', '__reduce_ex__', '__repr__', '__rmod__', '__rmul__', '__setattr__', '__sizeof__', '__str__', '__subclasshook__', 'capitalize', 'casefold', 'center', 'count', 'encode', 'endswith', 'expandtabs', 'find', 'format', 'format_map', 'index', 'isalnum', 'isalpha', 'isascii', 'isdecimal', 'isdigit', 'isidentifier', 'islower', 'isnumeric', 'isprintable', 'isspace', 'istitle', 'isupper', 'join', 'ljust', 'lower', 'lstrip', 'maketrans', 'partition', 'replace', 'rfind', 'rindex', 'rjust', 'rpartition', 'rsplit', 'rstrip', 'split', 'splitlines', 'startswith', 'strip', 'swapcase', 'title', 'translate', 'upper', 'zfill']\n",
      "\n",
      "HELLO WORLD\n",
      "hello world\n"
     ]
    }
   ],
   "source": [
    "# dir 로 확인해 보았을때, \n",
    "# upper() 와 lower() 메서드가 있는것을 확인할수 있는데. \n",
    "# .upper() 와 .lower() 를 사용하여, 객체를 소문자 대문자를 지정하여 출력할수 있습니다.\n",
    "\n",
    "string2 = \"hello world\"\n",
    "print(type(string2))\n",
    "print(dir(string2))\n",
    "print()\n",
    "print(string2.upper())\n",
    "print(string2.lower())"
   ]
  },
  {
   "cell_type": "code",
   "execution_count": 5,
   "metadata": {},
   "outputs": [
    {
     "name": "stdout",
     "output_type": "stream",
     "text": [
      "a 는 ->  40\n",
      "새로운 값을 가진 a 는 - > 50\n",
      "a 의 값은 - >  100\n"
     ]
    }
   ],
   "source": [
    "# local variable \n",
    "# 로컬 변수 \n",
    "\n",
    "def function_local(a):\n",
    "    print('a 는 -> ', a)   # 파라미터로 전달된 값을 a 로 가집니다 \n",
    "    a = 50                # 함수내에 변수 a 에 값 50 을 할당 합니다. \n",
    "    print('새로운 값을 가진 a 는 - >', a)    # 윗줄에서 a 는 50 으로 할당되었기 때문에 a 는 50인 값을 출력할겁니다 \n",
    "\n",
    "# 함수밖에 변수 a 는 100 으로 할당 되었습니다  \n",
    "a = 100  \n",
    "\n",
    "# 함수를 호출 \n",
    "function_local(40)\n",
    "\n",
    "print('a 의 값은 - > ', a)"
   ]
  },
  {
   "cell_type": "code",
   "execution_count": 7,
   "metadata": {},
   "outputs": [
    {
     "name": "stdout",
     "output_type": "stream",
     "text": [
      "a 는 ->  100\n",
      "함수안에 새로운값 이후에 a 는 ->  50\n",
      "a 의 값은 ->  50\n"
     ]
    }
   ],
   "source": [
    "# global statement\n",
    "# global 문 \n",
    "\n",
    "def function_local():\n",
    "    global a             # 함수밖에 있는 a 의 값을 로컬 변수로 가져와서 사용합니다. \n",
    "    print('a 는 -> ', a)  \n",
    "    a = 50               # 함수밖에 있는 a 의 값에 50을 할당합니다   \n",
    "    print('함수안에 새로운값 이후에 a 는 -> ', a)   # 50이 할당된 변수를 출력합니다\n",
    "\n",
    "a = 100\n",
    "function_local()\n",
    "\n",
    "print('a 의 값은 -> ', a)   # a 는 50 이기때문에, 50을 출력합니다 "
   ]
  },
  {
   "cell_type": "code",
   "execution_count": 8,
   "metadata": {},
   "outputs": [
    {
     "name": "stdout",
     "output_type": "stream",
     "text": [
      "안쪽에 있는 a - >  20\n",
      "바깥쪽 a -> 10\n"
     ]
    }
   ],
   "source": [
    "def outside():\n",
    "    a = 10\n",
    "    def inside():\n",
    "        a = 20 \n",
    "        print(\"안쪽에 있는 a - > \", a)\n",
    "    inside()\n",
    "    print(\"바깥쪽 a ->\", a)\n",
    "\n",
    "outside()"
   ]
  },
  {
   "cell_type": "code",
   "execution_count": 9,
   "metadata": {},
   "outputs": [
    {
     "name": "stdout",
     "output_type": "stream",
     "text": [
      "inside() 안에 있는 a 는 -  20\n",
      "outside() 안에 있는 a 의 값 -  20\n"
     ]
    }
   ],
   "source": [
    "def outside():\n",
    "    a = 10\n",
    "    def inside():\n",
    "        nonlocal a\n",
    "        a = 20\n",
    "        print(\"inside() 안에 있는 a 는 - \", a)\n",
    "        \n",
    "    inside()\n",
    "    print(\"outside() 안에 있는 a 의 값 - \", a)\n",
    "\n",
    "outside()"
   ]
  },
  {
   "cell_type": "code",
   "execution_count": 14,
   "metadata": {},
   "outputs": [],
   "source": [
    "# 클래스 생성하기 \n",
    "\n",
    "class Student:\n",
    "    student_class = '1'\n",
    "    student_number = 108801\n",
    "    student_name = \"Djangojeng-e\"\n",
    "    \n",
    "    def introduction(self):\n",
    "        return \"{} 학생은, {} 수업을 듣고, 학생번호는 {} 입니다\".format(self.student_class, self.student_number, self.student_name)\n",
    "    \n",
    "    "
   ]
  },
  {
   "cell_type": "code",
   "execution_count": 13,
   "metadata": {},
   "outputs": [
    {
     "name": "stdout",
     "output_type": "stream",
     "text": [
      "Djangojeng-e\n",
      "1반\n",
      "3061088801\n"
     ]
    }
   ],
   "source": [
    "# 클래스에서 attribute reference (속성 참조)\n",
    "\n",
    "class Student:\n",
    "    name = \"Djangojeng-e\"\n",
    "    student_class = \"1반\"\n",
    "    student_number = 3061088801\n",
    "    \n",
    "# Student.name 을 사용하여, Student 객체의 name 속성을 접근합니다 \n",
    "print(Student.name) \n",
    "\n",
    "# Student.student_class 를 사용하여, Student 객체의 student_class 속성을 접근합니다 \n",
    "print(Student.student_class)\n",
    "\n",
    "# Student.student_number 를 사용하여, student_number 속성을 접근합니다 \n",
    "print(Student.student_number)"
   ]
  },
  {
   "cell_type": "code",
   "execution_count": 18,
   "metadata": {},
   "outputs": [
    {
     "name": "stdout",
     "output_type": "stream",
     "text": [
      "('Djangojeng-e',)\n",
      "1반\n",
      "306108801\n"
     ]
    }
   ],
   "source": [
    "# 클래스 인스턴스화 그리고 __init__ 메서드 \n",
    "\n",
    "# Student라는 클래스를 정의\n",
    "\n",
    "class Student:\n",
    "    def __init__(self, name, student_class, student_number):\n",
    "        self.name = name, \n",
    "        self.student_class = student_class \n",
    "        self.student_number = student_number \n",
    "\n",
    "\n",
    "s = Student('Djangojeng-e', '1반', 306108801)     # Student 클래스의 인스턴스를 생성\n",
    "\n",
    "# Student 클래스의 인스턴스인 s 가 생성되자마자, \n",
    "# def __init__ 이 실행되어, name, student_class, student_number 값들을 자동으로 할당합니다\n",
    "\n",
    "\n",
    "# 따라서, 아래와 같이, 인스턴스를 생성후에 값을 가진 속성들을 접근할수 있습니다.\n",
    "\n",
    "# s.name 을 사용하여, name 을 접근 \n",
    "print(s.name)\n",
    "\n",
    "# s.student_class 를 사용하여, student_class 접근 \n",
    "print(s.student_class)\n",
    "\n",
    "# s.student_number  를 사용하여, student_number 를 접근 \n",
    "print(s.student_number)"
   ]
  },
  {
   "cell_type": "code",
   "execution_count": 23,
   "metadata": {},
   "outputs": [
    {
     "name": "stdout",
     "output_type": "stream",
     "text": [
      "기본 클래스\n",
      "기본 클래스\n",
      "다른 클래스\n"
     ]
    }
   ],
   "source": [
    "# 단일상속, 다중상속 \n",
    "\n",
    "class BaseClass:\n",
    "    base_class = \"기본 클래스\"\n",
    "    \n",
    "    \n",
    "class OtherClass:\n",
    "    other_class = \"다른 클래스\"\n",
    "\n",
    "\n",
    "# 단일클래스 상속     \n",
    "class SingleInheritance(BaseClass):       \n",
    "    pass\n",
    "\n",
    "single = SingleInheritance   # 단일클래스 상속 인스턴스 생성 \n",
    "print(single.base_class)     # BaseClass 에 있는 변수값을 접근할수 있습니다 \n",
    "\n",
    "\n",
    "# 다수의 클래스를 상속받는 클래스를 생성 (다중상속)\n",
    "\n",
    "class MultipleInheritance(BaseClass, OtherClass):\n",
    "    pass \n",
    "\n",
    "multiple = MultipleInheritance     # 다중상속 클래스 인스턴스 생성 \n",
    "print(multiple.base_class)         # BaseClass 의 base_class 값을 출력합니다 \n",
    "print(multiple.other_class)        # OtherClass 의 other_class 값을 출력합니다 \n",
    "\n"
   ]
  },
  {
   "cell_type": "code",
   "execution_count": 28,
   "metadata": {},
   "outputs": [],
   "source": [
    "# 클래스 예시 \n",
    "\n",
    "class CompanyStaff:\n",
    "    def __init__(self, name, designation, age):\n",
    "        self.name = name\n",
    "        self.designation = designation\n",
    "        self.age = age\n",
    "    \n",
    "    def detail(self):\n",
    "        print(f'Name : {self.name} \\n Designation : {self.designation} \\n Age : {self.age}')\n",
    "        \n",
    "\n",
    "class FactoryStaff(CompanyStaff):\n",
    "    def __init__(self, name, designation, age, overtime_allowance):\n",
    "        CompanyStaff.__init__(self, name, designation, age)\n",
    "        self.overtime_allow = overtime_allowance\n",
    "        CompanyStaff.detail(self)\n",
    "        print('추가근무 수당 : ', self.overtime_allow)\n",
    "        \n",
    "\n",
    "class OfficeStaff(CompanyStaff):\n",
    "    def __init__(self, name, designation, age, travel_allowance):\n",
    "        CompanyStaff.__init__(self, name, designation, age)\n",
    "        self.travel_allow = travel_allowance\n",
    "        CompanyStaff.detail(self)\n",
    "        print('출장근무 수당 : ', self.travel_allow)\n",
    "        "
   ]
  },
  {
   "cell_type": "code",
   "execution_count": 29,
   "metadata": {},
   "outputs": [
    {
     "name": "stdout",
     "output_type": "stream",
     "text": [
      "Name : 주호영 \n",
      " Designation : 전기공 \n",
      " Age : 39\n",
      "추가근무 수당 :  20000\n"
     ]
    },
    {
     "data": {
      "text/plain": [
       "<__main__.FactoryStaff at 0x7f801c3e8910>"
      ]
     },
     "execution_count": 29,
     "metadata": {},
     "output_type": "execute_result"
    }
   ],
   "source": [
    "# 생산직원 인스턴스 생성 \n",
    "FactoryStaff('주호영', '전기공', 39, 20000)"
   ]
  },
  {
   "cell_type": "code",
   "execution_count": 30,
   "metadata": {},
   "outputs": [
    {
     "name": "stdout",
     "output_type": "stream",
     "text": [
      "Name : 이성경 \n",
      " Designation : 마케팅 \n",
      " Age : 30\n",
      "출장근무 수당 :  50000\n"
     ]
    },
    {
     "data": {
      "text/plain": [
       "<__main__.OfficeStaff at 0x7f8014950e50>"
      ]
     },
     "execution_count": 30,
     "metadata": {},
     "output_type": "execute_result"
    }
   ],
   "source": [
    "# 사무직원 인스턴스 생성 \n",
    "OfficeStaff('이성경', '마케팅', 30, 50000)"
   ]
  },
  {
   "cell_type": "code",
   "execution_count": null,
   "metadata": {},
   "outputs": [],
   "source": []
  }
 ],
 "metadata": {
  "kernelspec": {
   "display_name": "Python 3",
   "language": "python",
   "name": "python3"
  },
  "language_info": {
   "codemirror_mode": {
    "name": "ipython",
    "version": 3
   },
   "file_extension": ".py",
   "mimetype": "text/x-python",
   "name": "python",
   "nbconvert_exporter": "python",
   "pygments_lexer": "ipython3",
   "version": "3.8.0"
  }
 },
 "nbformat": 4,
 "nbformat_minor": 4
}
