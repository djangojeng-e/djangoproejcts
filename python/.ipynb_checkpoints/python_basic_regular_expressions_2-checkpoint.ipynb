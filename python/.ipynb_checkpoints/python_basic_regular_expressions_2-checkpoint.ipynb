{
 "cells": [
  {
   "cell_type": "code",
   "execution_count": 1,
   "metadata": {},
   "outputs": [
    {
     "name": "stdout",
     "output_type": "stream",
     "text": [
      "['The']\n",
      "매치가 있습니다\n"
     ]
    }
   ],
   "source": [
    "# \\A 지정된 문자가 문자열의 앞에 오면, 매치를 반환합니다. \n",
    "\n",
    "import re \n",
    "txt = \"The rain in Spain\"\n",
    "\n",
    "# 문자열이 \"The\" 라는 문자열로 시작하는지 확인 \n",
    "\n",
    "x = re.findall(\"\\AThe\", txt)\n",
    "print(x)\n",
    "\n",
    "if x:\n",
    "    print(\"매치가 있습니다\")\n",
    "else:\n",
    "    print(\"매치가 없습니다\")"
   ]
  },
  {
   "cell_type": "code",
   "execution_count": 2,
   "metadata": {},
   "outputs": [
    {
     "name": "stdout",
     "output_type": "stream",
     "text": [
      "[]\n",
      "매치가 없습니다\n"
     ]
    }
   ],
   "source": [
    "# \\b 지정된 문자가, 단어의 시작에 있는지 확인 합니다 \n",
    "\n",
    "import re \n",
    "txt = \"The rain in Spain\"\n",
    "\n",
    "x = re.findall(r\"\\bain\", txt)\n",
    "\n",
    "print(x)\n",
    "\n",
    "if x:\n",
    "    print(\"매치가 있습니다\")\n",
    "else:\n",
    "    print(\"매치가 없습니다\")"
   ]
  },
  {
   "cell_type": "code",
   "execution_count": 4,
   "metadata": {},
   "outputs": [
    {
     "name": "stdout",
     "output_type": "stream",
     "text": [
      "['ain', 'ain']\n",
      "매치가 있습니다\n"
     ]
    }
   ],
   "source": [
    "# \\b 지정된 문자가, 단어의 끝에 있는지 확인 합니다. \n",
    "\n",
    "import re \n",
    "txt =\"The rain in Spain\"\n",
    "\n",
    "x = re.findall(r\"ain\\b\", txt)\n",
    "\n",
    "print(x)\n",
    "\n",
    "if x:\n",
    "    print(\"매치가 있습니다\")\n",
    "else:\n",
    "    print(\"매치가 없습니다\")\n"
   ]
  },
  {
   "cell_type": "code",
   "execution_count": 5,
   "metadata": {},
   "outputs": [
    {
     "name": "stdout",
     "output_type": "stream",
     "text": [
      "['ain', 'ain']\n",
      "매치가 있습니다\n"
     ]
    }
   ],
   "source": [
    "# \\B 지정된 문자 \"ain\" 이 존재하지만, 단어의 앞에 오지 않는경우를 체크 \n",
    "\n",
    "import re \n",
    "txt = \"The rain in Spain\"\n",
    "\n",
    "x = re.findall(r\"\\Bain\", txt)\n",
    "print(x)\n",
    "\n",
    "if x:\n",
    "    print(\"매치가 있습니다\")\n",
    "else:\n",
    "    print(\"매치가 없습니다\")"
   ]
  },
  {
   "cell_type": "code",
   "execution_count": 6,
   "metadata": {},
   "outputs": [
    {
     "name": "stdout",
     "output_type": "stream",
     "text": [
      "[]\n",
      "매치가 없습니다\n"
     ]
    }
   ],
   "source": [
    "# \\B 지정된 문자 \"ain\"이 존재하지만, 단어의 끝에 오지 않는것을 확인합니다. \n",
    "\n",
    "import re \n",
    "txt = \"The rain in Spain\"\n",
    "\n",
    "x = re.findall(r\"ain\\B\", txt)\n",
    "print(x)\n",
    "\n",
    "if x:\n",
    "    print(\"매치가 있습니다\")\n",
    "else:\n",
    "    print(\"매치가 없습니다\")"
   ]
  },
  {
   "cell_type": "code",
   "execution_count": 7,
   "metadata": {},
   "outputs": [
    {
     "name": "stdout",
     "output_type": "stream",
     "text": [
      "[]\n",
      "매치가 없습니다\n"
     ]
    }
   ],
   "source": [
    "# \\d 문자열이 숫자를 가지고 있는지 확인 합니다 (0-9) \n",
    "\n",
    "import re \n",
    "txt = \"The rain in Spain\"\n",
    "\n",
    "x = re.findall(\"\\d\", txt)\n",
    "print(x)\n",
    "\n",
    "if x:\n",
    "    print(\"매치가 있습니다\")\n",
    "else:\n",
    "    print(\"매치가 없습니다\")"
   ]
  },
  {
   "cell_type": "code",
   "execution_count": 8,
   "metadata": {},
   "outputs": [
    {
     "name": "stdout",
     "output_type": "stream",
     "text": [
      "['T', 'h', 'e', ' ', 'r', 'a', 'i', 'n', ' ', 'i', 'n', ' ', 'S', 'p', 'a', 'i', 'n']\n",
      "매치가 있습니다\n"
     ]
    }
   ],
   "source": [
    "# \\D 숫자가 아닌 모든 문자의 매치들을 리턴합니다 \n",
    "\n",
    "import re \n",
    "txt = \"The rain in Spain\"\n",
    "\n",
    "x = re.findall(\"\\D\", txt)\n",
    "print(x)\n",
    "\n",
    "if x:\n",
    "    print(\"매치가 있습니다\")\n",
    "else:\n",
    "    print(\"매치가 없습니다\")"
   ]
  },
  {
   "cell_type": "code",
   "execution_count": 9,
   "metadata": {},
   "outputs": [
    {
     "name": "stdout",
     "output_type": "stream",
     "text": [
      "[' ', ' ', ' ']\n",
      "매치가 있습니다\n"
     ]
    }
   ],
   "source": [
    "# \\s 각 빈공간들의 매치들을 리턴합니다 \n",
    "\n",
    "import re \n",
    "txt = \"The rain in Spain\"\n",
    "\n",
    "x = re.findall(\"\\s\", txt)\n",
    "print(x)\n",
    "\n",
    "if x:\n",
    "    print(\"매치가 있습니다\")\n",
    "else:\n",
    "    print(\"매치가 없습니다\")"
   ]
  },
  {
   "cell_type": "code",
   "execution_count": 10,
   "metadata": {},
   "outputs": [
    {
     "name": "stdout",
     "output_type": "stream",
     "text": [
      "['T', 'h', 'e', 'r', 'a', 'i', 'n', 'i', 'n', 'S', 'p', 'a', 'i', 'n']\n",
      "매치가 있습니다\n"
     ]
    }
   ],
   "source": [
    "# \\S 빈공간이 아닌 모든 문자들에 대한 모든 매치를 리턴합니다 \n",
    "\n",
    "import re \n",
    "txt = \"The rain in Spain\"\n",
    "\n",
    "x = re.findall(\"\\S\", txt)\n",
    "print(x)\n",
    "\n",
    "if x:\n",
    "    print(\"매치가 있습니다\")\n",
    "else:\n",
    "    print(\"매치가 없습니다\")"
   ]
  },
  {
   "cell_type": "code",
   "execution_count": 11,
   "metadata": {},
   "outputs": [
    {
     "name": "stdout",
     "output_type": "stream",
     "text": [
      "['T', 'h', 'e', 'r', 'a', 'i', 'n', 'i', 'n', 'S', 'p', 'a', 'i', 'n']\n",
      "매치가 있습니다\n"
     ]
    }
   ],
   "source": [
    "# \\w 모든 문자 (a - Z, 0-9, _) 가 존재하는 지 확인하고, 모든 매치들을 반환합니다 \n",
    "\n",
    "import re \n",
    "txt = \"The rain in Spain\"\n",
    "\n",
    "x = re.findall(\"\\w\", txt)\n",
    "print(x)\n",
    "\n",
    "if x:\n",
    "    print(\"매치가 있습니다\")\n",
    "else:\n",
    "    print(\"매치가 없습니다\")"
   ]
  },
  {
   "cell_type": "code",
   "execution_count": 13,
   "metadata": {},
   "outputs": [
    {
     "name": "stdout",
     "output_type": "stream",
     "text": [
      "[' ', ' ', ' ']\n",
      "매치가 있습니다\n"
     ]
    }
   ],
   "source": [
    "# \\W 모든 문자 (a - Z, 0-9, _) 가 아닌것이 존재하는 지 확인하고, 모든 매치들을 반환합니다\n",
    "# 아래 예시는 빈공간이 (a-Z, 0-9 혹은 _) 가 아닌것입니다. \n",
    "\n",
    "import re \n",
    "txt = \"The rain in Spain\"\n",
    "\n",
    "x = re.findall(\"\\W\", txt)\n",
    "print(x)\n",
    "\n",
    "if x:\n",
    "    print(\"매치가 있습니다\")\n",
    "else:\n",
    "    print(\"매치가 없습니다\")"
   ]
  },
  {
   "cell_type": "code",
   "execution_count": 14,
   "metadata": {},
   "outputs": [
    {
     "name": "stdout",
     "output_type": "stream",
     "text": [
      "['Spain']\n",
      "매치가 있습니다\n"
     ]
    }
   ],
   "source": [
    "# \\Z 문자열이 \"Spain\" 으로 끝나는지 확인 합니다 \n",
    "\n",
    "import re \n",
    "txt = \"The rain in Spain\"\n",
    "\n",
    "x = re.findall(\"Spain\\Z\", txt)\n",
    "print(x)\n",
    "\n",
    "if x:\n",
    "    print(\"매치가 있습니다\")\n",
    "else:\n",
    "    print(\"매치가 없습니다\")"
   ]
  },
  {
   "cell_type": "code",
   "execution_count": null,
   "metadata": {},
   "outputs": [],
   "source": []
  }
 ],
 "metadata": {
  "kernelspec": {
   "display_name": "Python 3",
   "language": "python",
   "name": "python3"
  },
  "language_info": {
   "codemirror_mode": {
    "name": "ipython",
    "version": 3
   },
   "file_extension": ".py",
   "mimetype": "text/x-python",
   "name": "python",
   "nbconvert_exporter": "python",
   "pygments_lexer": "ipython3",
   "version": "3.8.0"
  }
 },
 "nbformat": 4,
 "nbformat_minor": 4
}
