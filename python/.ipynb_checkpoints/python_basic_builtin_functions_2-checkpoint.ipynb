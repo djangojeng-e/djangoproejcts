{
 "cells": [
  {
   "cell_type": "code",
   "execution_count": 2,
   "metadata": {},
   "outputs": [
    {
     "name": "stdout",
     "output_type": "stream",
     "text": [
      "<filter object at 0x7fe774375370>\n",
      "[18, 24, 32]\n"
     ]
    }
   ],
   "source": [
    "# filter()\n",
    "# true 를 반환하는 함수의 순회가능 객체의 요소들로부터 \n",
    "# 순회가능 객체를 만들어 냅니다. \n",
    "\n",
    "\n",
    "ages = [5, 12, 17, 18, 24, 32]\n",
    "\n",
    "def myFunction(x):\n",
    "    if x < 18:\n",
    "        return False\n",
    "    else:\n",
    "        return True \n",
    "\n",
    "adults = filter(myFunction, ages)\n",
    "\n",
    "print(adults)\n",
    "\n",
    "adult_list = list(adults)\n",
    "print(adult_list)\n",
    "\n",
    "for x in adults:\n",
    "  print(x)"
   ]
  },
  {
   "cell_type": "code",
   "execution_count": 3,
   "metadata": {},
   "outputs": [
    {
     "name": "stdout",
     "output_type": "stream",
     "text": [
      "1.0\n"
     ]
    }
   ],
   "source": [
    "# float() \n",
    "# 값을, 부동 소수점 숫자로 전환할때 사용합니다. \n",
    "\n",
    "number = 1 \n",
    "print(float(number))"
   ]
  },
  {
   "cell_type": "code",
   "execution_count": 4,
   "metadata": {},
   "outputs": [
    {
     "name": "stdout",
     "output_type": "stream",
     "text": [
      "For only 49.00 dollars!\n"
     ]
    }
   ],
   "source": [
    "# format()\n",
    "# 특정 포맷으로 정해줄때 사용합니다 \n",
    "\n",
    "txt = \"For only {price:.2f} dollars!\"\n",
    "print(txt.format(price = 49))"
   ]
  },
  {
   "cell_type": "code",
   "execution_count": 1,
   "metadata": {},
   "outputs": [
    {
     "name": "stdout",
     "output_type": "stream",
     "text": [
      "frozenset({'banana', 'apple', 'cherry'})\n"
     ]
    }
   ],
   "source": [
    "# frozenset() \n",
    "# frozen set 은 immutable 한 버전의 파이썬 집합 객체 입니다 \n",
    "\n",
    "mylist = ['apple', 'banana', 'cherry']\n",
    "x = frozenset(mylist)\n",
    "\n",
    "print(x)"
   ]
  },
  {
   "cell_type": "code",
   "execution_count": 2,
   "metadata": {},
   "outputs": [
    {
     "name": "stdout",
     "output_type": "stream",
     "text": [
      "36\n",
      "Australia\n"
     ]
    }
   ],
   "source": [
    "# getattr() \n",
    "# getattr() 함수는 명명된 객체의 속성의 값을 반환합니다, 이름은 문자열이여만 합니다.\n",
    "\n",
    "class Person:\n",
    "    name = \"Djangojeng-e\"\n",
    "    age = 36 \n",
    "    country = \"Australia\"\n",
    "\n",
    "x = getattr(Person, 'age')\n",
    "y = getattr(Person, 'country')\n",
    "\n",
    "print(x)\n",
    "print(y)"
   ]
  },
  {
   "cell_type": "code",
   "execution_count": 3,
   "metadata": {},
   "outputs": [
    {
     "name": "stdout",
     "output_type": "stream",
     "text": [
      "{'__name__': '__main__', '__doc__': 'Automatically created module for IPython interactive environment', '__package__': None, '__loader__': None, '__spec__': None, '__builtin__': <module 'builtins' (built-in)>, '__builtins__': <module 'builtins' (built-in)>, '_ih': ['', \"# frozenset() \\n\\nmylist = ['apple', 'banana', 'cherry']\\nx = frozenset(mylist)\\n\\nprint(x)\", '# getattr() \\n# getattr() 함수는 명명된 객체의 속성의 값을 반환합니다, 이름은 문자열이여만 합니다.\\n\\nclass Person:\\n    name = \"Djangojeng-e\"\\n    age = 36 \\n    country = \"Australia\"\\n\\nx = getattr(Person, \\'age\\')\\ny = getattr(Person, \\'country\\')\\n\\nprint(x)\\nprint(y)', '# globals()\\n# global symbol table 을 사전 형태로 반환합니다 \\n\\nx = globals()\\nprint(x)'], '_oh': {}, '_dh': ['/home/dhkang/djangoproejcts/python'], 'In': ['', \"# frozenset() \\n\\nmylist = ['apple', 'banana', 'cherry']\\nx = frozenset(mylist)\\n\\nprint(x)\", '# getattr() \\n# getattr() 함수는 명명된 객체의 속성의 값을 반환합니다, 이름은 문자열이여만 합니다.\\n\\nclass Person:\\n    name = \"Djangojeng-e\"\\n    age = 36 \\n    country = \"Australia\"\\n\\nx = getattr(Person, \\'age\\')\\ny = getattr(Person, \\'country\\')\\n\\nprint(x)\\nprint(y)', '# globals()\\n# global symbol table 을 사전 형태로 반환합니다 \\n\\nx = globals()\\nprint(x)'], 'Out': {}, 'get_ipython': <bound method InteractiveShell.get_ipython of <ipykernel.zmqshell.ZMQInteractiveShell object at 0x7f7ce376cc10>>, 'exit': <IPython.core.autocall.ZMQExitAutocall object at 0x7f7ce070dfd0>, 'quit': <IPython.core.autocall.ZMQExitAutocall object at 0x7f7ce070dfd0>, '_': '', '__': '', '___': '', '_i': '# getattr() \\n# getattr() 함수는 명명된 객체의 속성의 값을 반환합니다, 이름은 문자열이여만 합니다.\\n\\nclass Person:\\n    name = \"Djangojeng-e\"\\n    age = 36 \\n    country = \"Australia\"\\n\\nx = getattr(Person, \\'age\\')\\ny = getattr(Person, \\'country\\')\\n\\nprint(x)\\nprint(y)', '_ii': \"# frozenset() \\n\\nmylist = ['apple', 'banana', 'cherry']\\nx = frozenset(mylist)\\n\\nprint(x)\", '_iii': '', '_i1': \"# frozenset() \\n\\nmylist = ['apple', 'banana', 'cherry']\\nx = frozenset(mylist)\\n\\nprint(x)\", 'mylist': ['apple', 'banana', 'cherry'], 'x': {...}, '_i2': '# getattr() \\n# getattr() 함수는 명명된 객체의 속성의 값을 반환합니다, 이름은 문자열이여만 합니다.\\n\\nclass Person:\\n    name = \"Djangojeng-e\"\\n    age = 36 \\n    country = \"Australia\"\\n\\nx = getattr(Person, \\'age\\')\\ny = getattr(Person, \\'country\\')\\n\\nprint(x)\\nprint(y)', 'Person': <class '__main__.Person'>, 'y': 'Australia', '_i3': '# globals()\\n# global symbol table 을 사전 형태로 반환합니다 \\n\\nx = globals()\\nprint(x)'}\n"
     ]
    }
   ],
   "source": [
    "# globals()\n",
    "# global symbol table 을 사전 형태로 반환합니다 \n",
    "\n",
    "x = globals()\n",
    "print(x)"
   ]
  },
  {
   "cell_type": "code",
   "execution_count": 4,
   "metadata": {},
   "outputs": [
    {
     "name": "stdout",
     "output_type": "stream",
     "text": [
      "255 를 위한 hash 값은  255\n",
      "252.25 를 위한 hash 값은  576460752303423740\n",
      "파이썬을 위한 hash 값은  7145528828574516314\n"
     ]
    }
   ],
   "source": [
    "# hash() \n",
    "# 객체의 hash 값을 반환합니다 \n",
    "\n",
    "# 정수를 위한 hash 값은, 정수 입니다 \n",
    "print('255 를 위한 hash 값은 ', hash(255))\n",
    "\n",
    "# 소수점을 위한 hash 값 \n",
    "print('252.25 를 위한 hash 값은 ', hash(252.25))\n",
    "\n",
    "# 문자열을 위한 hash \n",
    "print('파이썬을 위한 hash 값은 ', hash('Python'))"
   ]
  },
  {
   "cell_type": "code",
   "execution_count": 5,
   "metadata": {},
   "outputs": [
    {
     "name": "stdout",
     "output_type": "stream",
     "text": [
      "Help on class list in module builtins:\n",
      "\n",
      "class list(object)\n",
      " |  list(iterable=(), /)\n",
      " |  \n",
      " |  Built-in mutable sequence.\n",
      " |  \n",
      " |  If no argument is given, the constructor creates a new empty list.\n",
      " |  The argument must be an iterable if specified.\n",
      " |  \n",
      " |  Methods defined here:\n",
      " |  \n",
      " |  __add__(self, value, /)\n",
      " |      Return self+value.\n",
      " |  \n",
      " |  __contains__(self, key, /)\n",
      " |      Return key in self.\n",
      " |  \n",
      " |  __delitem__(self, key, /)\n",
      " |      Delete self[key].\n",
      " |  \n",
      " |  __eq__(self, value, /)\n",
      " |      Return self==value.\n",
      " |  \n",
      " |  __ge__(self, value, /)\n",
      " |      Return self>=value.\n",
      " |  \n",
      " |  __getattribute__(self, name, /)\n",
      " |      Return getattr(self, name).\n",
      " |  \n",
      " |  __getitem__(...)\n",
      " |      x.__getitem__(y) <==> x[y]\n",
      " |  \n",
      " |  __gt__(self, value, /)\n",
      " |      Return self>value.\n",
      " |  \n",
      " |  __iadd__(self, value, /)\n",
      " |      Implement self+=value.\n",
      " |  \n",
      " |  __imul__(self, value, /)\n",
      " |      Implement self*=value.\n",
      " |  \n",
      " |  __init__(self, /, *args, **kwargs)\n",
      " |      Initialize self.  See help(type(self)) for accurate signature.\n",
      " |  \n",
      " |  __iter__(self, /)\n",
      " |      Implement iter(self).\n",
      " |  \n",
      " |  __le__(self, value, /)\n",
      " |      Return self<=value.\n",
      " |  \n",
      " |  __len__(self, /)\n",
      " |      Return len(self).\n",
      " |  \n",
      " |  __lt__(self, value, /)\n",
      " |      Return self<value.\n",
      " |  \n",
      " |  __mul__(self, value, /)\n",
      " |      Return self*value.\n",
      " |  \n",
      " |  __ne__(self, value, /)\n",
      " |      Return self!=value.\n",
      " |  \n",
      " |  __repr__(self, /)\n",
      " |      Return repr(self).\n",
      " |  \n",
      " |  __reversed__(self, /)\n",
      " |      Return a reverse iterator over the list.\n",
      " |  \n",
      " |  __rmul__(self, value, /)\n",
      " |      Return value*self.\n",
      " |  \n",
      " |  __setitem__(self, key, value, /)\n",
      " |      Set self[key] to value.\n",
      " |  \n",
      " |  __sizeof__(self, /)\n",
      " |      Return the size of the list in memory, in bytes.\n",
      " |  \n",
      " |  append(self, object, /)\n",
      " |      Append object to the end of the list.\n",
      " |  \n",
      " |  clear(self, /)\n",
      " |      Remove all items from list.\n",
      " |  \n",
      " |  copy(self, /)\n",
      " |      Return a shallow copy of the list.\n",
      " |  \n",
      " |  count(self, value, /)\n",
      " |      Return number of occurrences of value.\n",
      " |  \n",
      " |  extend(self, iterable, /)\n",
      " |      Extend list by appending elements from the iterable.\n",
      " |  \n",
      " |  index(self, value, start=0, stop=9223372036854775807, /)\n",
      " |      Return first index of value.\n",
      " |      \n",
      " |      Raises ValueError if the value is not present.\n",
      " |  \n",
      " |  insert(self, index, object, /)\n",
      " |      Insert object before index.\n",
      " |  \n",
      " |  pop(self, index=-1, /)\n",
      " |      Remove and return item at index (default last).\n",
      " |      \n",
      " |      Raises IndexError if list is empty or index is out of range.\n",
      " |  \n",
      " |  remove(self, value, /)\n",
      " |      Remove first occurrence of value.\n",
      " |      \n",
      " |      Raises ValueError if the value is not present.\n",
      " |  \n",
      " |  reverse(self, /)\n",
      " |      Reverse *IN PLACE*.\n",
      " |  \n",
      " |  sort(self, /, *, key=None, reverse=False)\n",
      " |      Sort the list in ascending order and return None.\n",
      " |      \n",
      " |      The sort is in-place (i.e. the list itself is modified) and stable (i.e. the\n",
      " |      order of two equal elements is maintained).\n",
      " |      \n",
      " |      If a key function is given, apply it once to each list item and sort them,\n",
      " |      ascending or descending, according to their function values.\n",
      " |      \n",
      " |      The reverse flag can be set to sort in descending order.\n",
      " |  \n",
      " |  ----------------------------------------------------------------------\n",
      " |  Static methods defined here:\n",
      " |  \n",
      " |  __new__(*args, **kwargs) from builtins.type\n",
      " |      Create and return a new object.  See help(type) for accurate signature.\n",
      " |  \n",
      " |  ----------------------------------------------------------------------\n",
      " |  Data and other attributes defined here:\n",
      " |  \n",
      " |  __hash__ = None\n",
      "\n",
      "Help on class tuple in module builtins:\n",
      "\n",
      "class tuple(object)\n",
      " |  tuple(iterable=(), /)\n",
      " |  \n",
      " |  Built-in immutable sequence.\n",
      " |  \n",
      " |  If no argument is given, the constructor returns an empty tuple.\n",
      " |  If iterable is specified the tuple is initialized from iterable's items.\n",
      " |  \n",
      " |  If the argument is a tuple, the return value is the same object.\n",
      " |  \n",
      " |  Built-in subclasses:\n",
      " |      asyncgen_hooks\n",
      " |      UnraisableHookArgs\n",
      " |  \n",
      " |  Methods defined here:\n",
      " |  \n",
      " |  __add__(self, value, /)\n",
      " |      Return self+value.\n",
      " |  \n",
      " |  __contains__(self, key, /)\n",
      " |      Return key in self.\n",
      " |  \n",
      " |  __eq__(self, value, /)\n",
      " |      Return self==value.\n",
      " |  \n",
      " |  __ge__(self, value, /)\n",
      " |      Return self>=value.\n",
      " |  \n",
      " |  __getattribute__(self, name, /)\n",
      " |      Return getattr(self, name).\n",
      " |  \n",
      " |  __getitem__(self, key, /)\n",
      " |      Return self[key].\n",
      " |  \n",
      " |  __getnewargs__(self, /)\n",
      " |  \n",
      " |  __gt__(self, value, /)\n",
      " |      Return self>value.\n",
      " |  \n",
      " |  __hash__(self, /)\n",
      " |      Return hash(self).\n",
      " |  \n",
      " |  __iter__(self, /)\n",
      " |      Implement iter(self).\n",
      " |  \n",
      " |  __le__(self, value, /)\n",
      " |      Return self<=value.\n",
      " |  \n",
      " |  __len__(self, /)\n",
      " |      Return len(self).\n",
      " |  \n",
      " |  __lt__(self, value, /)\n",
      " |      Return self<value.\n",
      " |  \n",
      " |  __mul__(self, value, /)\n",
      " |      Return self*value.\n",
      " |  \n",
      " |  __ne__(self, value, /)\n",
      " |      Return self!=value.\n",
      " |  \n",
      " |  __repr__(self, /)\n",
      " |      Return repr(self).\n",
      " |  \n",
      " |  __rmul__(self, value, /)\n",
      " |      Return value*self.\n",
      " |  \n",
      " |  count(self, value, /)\n",
      " |      Return number of occurrences of value.\n",
      " |  \n",
      " |  index(self, value, start=0, stop=9223372036854775807, /)\n",
      " |      Return first index of value.\n",
      " |      \n",
      " |      Raises ValueError if the value is not present.\n",
      " |  \n",
      " |  ----------------------------------------------------------------------\n",
      " |  Static methods defined here:\n",
      " |  \n",
      " |  __new__(*args, **kwargs) from builtins.type\n",
      " |      Create and return a new object.  See help(type) for accurate signature.\n",
      "\n"
     ]
    }
   ],
   "source": [
    "# help() \n",
    "# 시스템에 있는 도움말을 출력합니다 \n",
    "\n",
    "help(list)\n",
    "\n",
    "help(tuple)"
   ]
  },
  {
   "cell_type": "code",
   "execution_count": 6,
   "metadata": {},
   "outputs": [
    {
     "name": "stdout",
     "output_type": "stream",
     "text": [
      "0xff\n"
     ]
    }
   ],
   "source": [
    "# hex() \n",
    "# hex() 함수는 정수를 소문자형 16진수 문자열로 바꿔줍니다 \n",
    "\n",
    "number = 255 \n",
    "x = hex(number)\n",
    "\n",
    "print(x)"
   ]
  },
  {
   "cell_type": "code",
   "execution_count": 8,
   "metadata": {},
   "outputs": [
    {
     "name": "stdout",
     "output_type": "stream",
     "text": [
      "140174318186176\n",
      "140174318115520\n"
     ]
    }
   ],
   "source": [
    "# id()\n",
    "# id() 함수는 객체의 identity 를 가질때 사용합니다 \n",
    "\n",
    "x = ('python', 'django', 'pyramid')\n",
    "y = id(x)\n",
    "\n",
    "print(y)\n",
    "\n",
    "z = ['django', 'flask']\n",
    "a = id(z)\n",
    "\n",
    "print(a)"
   ]
  },
  {
   "cell_type": "code",
   "execution_count": 9,
   "metadata": {},
   "outputs": [
    {
     "name": "stdout",
     "output_type": "stream",
     "text": [
      "Python 을 입력해주세요Python\n",
      "Python\n"
     ]
    }
   ],
   "source": [
    "# input()\n",
    "# 사용자에게 입력값을 받습니다 (문자열로 받습니다) \n",
    "\n",
    "x = input('Python 을 입력해주세요')\n",
    "print(x)\n"
   ]
  },
  {
   "cell_type": "code",
   "execution_count": 10,
   "metadata": {},
   "outputs": [
    {
     "name": "stdout",
     "output_type": "stream",
     "text": [
      "345\n"
     ]
    }
   ],
   "source": [
    "# int()\n",
    "# 지정된 값을 정수로 바꾸어 줍니다 \n",
    "\n",
    "x = \"345\"\n",
    "y = int(x)\n",
    "\n",
    "print(y)"
   ]
  },
  {
   "cell_type": "code",
   "execution_count": 14,
   "metadata": {},
   "outputs": [
    {
     "name": "stdout",
     "output_type": "stream",
     "text": [
      "True\n",
      "True\n"
     ]
    }
   ],
   "source": [
    "# isinstance() \n",
    "# 지정된 객체가 지정된 타입일때에 true 를 반환합니다 \n",
    "# 그렇지 않으면, False 를 반환합니다 \n",
    "\n",
    "x = isinstance(5 , int)\n",
    "print(x)\n",
    "\n",
    "y = isinstance(5.0, float)\n",
    "print(y)"
   ]
  },
  {
   "cell_type": "code",
   "execution_count": 15,
   "metadata": {},
   "outputs": [
    {
     "name": "stdout",
     "output_type": "stream",
     "text": [
      "True\n"
     ]
    }
   ],
   "source": [
    "# issubclass()\n",
    "# 지정된 객체가 특정 객체의 subclass 인지 확인 합니다 \n",
    "\n",
    "class Age:\n",
    "    age = 36\n",
    "    \n",
    "\n",
    "class Profile(Age):\n",
    "    name = 'Djangojeng-e'\n",
    "    age = Age \n",
    "    \n",
    "x = issubclass(Profile, Age)\n",
    "print(x)"
   ]
  },
  {
   "cell_type": "code",
   "execution_count": 20,
   "metadata": {},
   "outputs": [
    {
     "name": "stdout",
     "output_type": "stream",
     "text": [
      "Djangojeng-e\n",
      "Python\n",
      "Django\n",
      "P\n",
      "y\n",
      "t\n",
      "h\n",
      "o\n",
      "n\n"
     ]
    },
    {
     "ename": "StopIteration",
     "evalue": "",
     "output_type": "error",
     "traceback": [
      "\u001b[0;31m---------------------------------------------------------------------------\u001b[0m",
      "\u001b[0;31mStopIteration\u001b[0m                             Traceback (most recent call last)",
      "\u001b[0;32m<ipython-input-20-0a94db9db954>\u001b[0m in \u001b[0;36m<module>\u001b[0;34m\u001b[0m\n\u001b[1;32m     18\u001b[0m \u001b[0mprint\u001b[0m\u001b[0;34m(\u001b[0m\u001b[0mnext\u001b[0m\u001b[0;34m(\u001b[0m\u001b[0mit\u001b[0m\u001b[0;34m)\u001b[0m\u001b[0;34m)\u001b[0m\u001b[0;34m\u001b[0m\u001b[0;34m\u001b[0m\u001b[0m\n\u001b[1;32m     19\u001b[0m \u001b[0mprint\u001b[0m\u001b[0;34m(\u001b[0m\u001b[0mnext\u001b[0m\u001b[0;34m(\u001b[0m\u001b[0mit\u001b[0m\u001b[0;34m)\u001b[0m\u001b[0;34m)\u001b[0m\u001b[0;34m\u001b[0m\u001b[0;34m\u001b[0m\u001b[0m\n\u001b[0;32m---> 20\u001b[0;31m \u001b[0mprint\u001b[0m\u001b[0;34m(\u001b[0m\u001b[0mnext\u001b[0m\u001b[0;34m(\u001b[0m\u001b[0mit\u001b[0m\u001b[0;34m)\u001b[0m\u001b[0;34m)\u001b[0m\u001b[0;34m\u001b[0m\u001b[0;34m\u001b[0m\u001b[0m\n\u001b[0m",
      "\u001b[0;31mStopIteration\u001b[0m: "
     ]
    }
   ],
   "source": [
    "# iter() \n",
    "# iterator 객체를 반환합니다 \n",
    "\n",
    "tuple_a = ('Djangojeng-e', 'Python', 'Django')\n",
    "it = iter(tuple_a)\n",
    "\n",
    "print(next(it))\n",
    "print(next(it))\n",
    "print(next(it))\n",
    "\n",
    "string_a = 'Python'\n",
    "it = iter(string_a)\n",
    "\n",
    "print(next(it))\n",
    "print(next(it))\n",
    "print(next(it))\n",
    "print(next(it))\n",
    "print(next(it))\n",
    "print(next(it))\n",
    "print(next(it))   # iteration 이 끝남 "
   ]
  },
  {
   "cell_type": "code",
   "execution_count": 21,
   "metadata": {},
   "outputs": [
    {
     "name": "stdout",
     "output_type": "stream",
     "text": [
      "6\n",
      "3\n"
     ]
    }
   ],
   "source": [
    "# len() \n",
    "# 객체의 길이를 구할때 사용합니다 \n",
    "\n",
    "string = 'Python'\n",
    "print(len(string))\n",
    "\n",
    "list_one = ['Python', 'Django', 'Flask']\n",
    "print(len(list_one))"
   ]
  },
  {
   "cell_type": "code",
   "execution_count": 22,
   "metadata": {},
   "outputs": [
    {
     "name": "stdout",
     "output_type": "stream",
     "text": [
      "[1, 2, 3]\n"
     ]
    }
   ],
   "source": [
    "# list()\n",
    "# 리스트 객체를 생성할때 사용합니다 \n",
    "\n",
    "tup = (1, 2, 3)\n",
    "print(list(tup))"
   ]
  },
  {
   "cell_type": "code",
   "execution_count": 23,
   "metadata": {},
   "outputs": [
    {
     "name": "stdout",
     "output_type": "stream",
     "text": [
      "{'__name__': '__main__', '__doc__': 'Automatically created module for IPython interactive environment', '__package__': None, '__loader__': None, '__spec__': None, '__builtin__': <module 'builtins' (built-in)>, '__builtins__': <module 'builtins' (built-in)>, '_ih': ['', \"# frozenset() \\n\\nmylist = ['apple', 'banana', 'cherry']\\nx = frozenset(mylist)\\n\\nprint(x)\", '# getattr() \\n# getattr() 함수는 명명된 객체의 속성의 값을 반환합니다, 이름은 문자열이여만 합니다.\\n\\nclass Person:\\n    name = \"Djangojeng-e\"\\n    age = 36 \\n    country = \"Australia\"\\n\\nx = getattr(Person, \\'age\\')\\ny = getattr(Person, \\'country\\')\\n\\nprint(x)\\nprint(y)', '# globals()\\n# global symbol table 을 사전 형태로 반환합니다 \\n\\nx = globals()\\nprint(x)', \"# hash() \\n# 객체의 hash 값을 반환합니다 \\n\\n# 정수를 위한 hash 값은, 정수 입니다 \\nprint('255 를 위한 hash 값은 ', hash(255))\\n\\n# 소수점을 위한 hash 값 \\nprint('252.25 를 위한 hash 값은 ', hash(252.25))\\n\\n# 문자열을 위한 hash \\nprint('파이썬을 위한 hash 값은 ', hash('Python'))\", '# help() \\n# 시스템에 있는 도움말을 출력합니다 \\n\\nhelp(list)\\n\\nhelp(tuple)', '# hex() \\n# hex() 함수는 정수를 소문자형 16진수 문자열로 바꿔줍니다 \\n\\nnumber = 255 \\nx = hex(number)\\n\\nprint(x)', \"# id()\\n# id() 함수는 객체의 identity 를 가질때 사용합니다 \\n\\nx = ('python', 'django', 'pyramid')\\ny = id(x)\\nprint(y)\", \"# id()\\n# id() 함수는 객체의 identity 를 가질때 사용합니다 \\n\\nx = ('python', 'django', 'pyramid')\\ny = id(x)\\n\\nprint(y)\\n\\nz = ['django', 'flask']\\na = id(z)\\n\\nprint(a)\", \"# input()\\n# 사용자에게 입력값을 받습니다 (문자열로 받습니다) \\n\\nx = input('Python 을 입력해주세요')\\nprint(x)\", '# int()\\n# 지정된 값을 정수로 바꾸어 줍니다 \\n\\nx = \"345\"\\ny = int(x)\\n\\nprint(y)', '# isinstance() \\n# 지정된 객체가 지정된 타입일때에 true 를 반환합니다 \\n# 그렇지 않으면, False 를 반환합니다 \\n\\nx = isinstance(5 , int)', '# isinstance() \\n# 지정된 객체가 지정된 타입일때에 true 를 반환합니다 \\n# 그렇지 않으면, False 를 반환합니다 \\n\\nx = isinstance(5 , int)\\nprint(x)', '# isinstance() \\n# 지정된 객체가 지정된 타입일때에 true 를 반환합니다 \\n# 그렇지 않으면, False 를 반환합니다 \\n\\nx = isinstance(5 , int)\\nprint(x)\\n\\ny = isinstance(5.0, float)', '# isinstance() \\n# 지정된 객체가 지정된 타입일때에 true 를 반환합니다 \\n# 그렇지 않으면, False 를 반환합니다 \\n\\nx = isinstance(5 , int)\\nprint(x)\\n\\ny = isinstance(5.0, float)\\nprint(y)', \"# issubclass()\\n# 지정된 객체가 특정 객체의 subclass 인지 확인 합니다 \\n\\nclass Age:\\n    age = 36\\n    \\n\\nclass Profile(Age):\\n    name = 'Djangojeng-e'\\n    age = Age \\n    \\nx = issubclass(Profile, Age)\\nprint(x)\", \"# iter() \\n# iterator 객체를 반환합니다 \\n\\ntuple_a = ('Djangojeng-e', 'Python', 'Django')\\nit = iter(tuple_a)\\n\\nprint(next(it))\\nprint(next(it))\\nprint(next(it))\", \"# iter() \\n# iterator 객체를 반환합니다 \\n\\ntuple_a = ('Djangojeng-e', 'Python', 'Django')\\nit = iter(tuple_a)\\n\\nprint(next(it))\\nprint(next(it))\\nprint(next(it))\\n\\nstring_a = 'Python'\\nit = iter(string_a)\\n\\nprint(next(it))\\nprint(next(it))\\nprint(next(it))\", \"# iter() \\n# iterator 객체를 반환합니다 \\n\\ntuple_a = ('Djangojeng-e', 'Python', 'Django')\\nit = iter(tuple_a)\\n\\nprint(next(it))\\nprint(next(it))\\nprint(next(it))\\n\\nstring_a = 'Python'\\nit = iter(string_a)\\n\\nprint(next(it))\\nprint(next(it))\\nprint(next(it))\\nprint(next(it))\\nprint(next(it))\", \"# iter() \\n# iterator 객체를 반환합니다 \\n\\ntuple_a = ('Djangojeng-e', 'Python', 'Django')\\nit = iter(tuple_a)\\n\\nprint(next(it))\\nprint(next(it))\\nprint(next(it))\\n\\nstring_a = 'Python'\\nit = iter(string_a)\\n\\nprint(next(it))\\nprint(next(it))\\nprint(next(it))\\nprint(next(it))\\nprint(next(it))\\nprint(next(it))\", \"# iter() \\n# iterator 객체를 반환합니다 \\n\\ntuple_a = ('Djangojeng-e', 'Python', 'Django')\\nit = iter(tuple_a)\\n\\nprint(next(it))\\nprint(next(it))\\nprint(next(it))\\n\\nstring_a = 'Python'\\nit = iter(string_a)\\n\\nprint(next(it))\\nprint(next(it))\\nprint(next(it))\\nprint(next(it))\\nprint(next(it))\\nprint(next(it))\\nprint(next(it))\", \"# len() \\n# 객체의 길이를 구할때 사용합니다 \\n\\nstring = 'Python'\\nprint(len(string))\\n\\nlist_one = ['Python', 'Django', 'Flask']\\nprint(len(list_one))\", '# list()\\n# 리스트 객체를 생성할때 사용합니다 \\n\\ntup = (1, 2, 3)\\nprint(list(tup))', '# locals()\\n# local symbol 테이블을 사전형태로 반환합니다 \\n# symbol 테이블은 현재 프로그램에 대한 필요한 정보를 가지고 있습니다. \\n\\nx = locals()\\nprint(x)'], '_oh': {}, '_dh': ['/home/dhkang/djangoproejcts/python'], 'In': ['', \"# frozenset() \\n\\nmylist = ['apple', 'banana', 'cherry']\\nx = frozenset(mylist)\\n\\nprint(x)\", '# getattr() \\n# getattr() 함수는 명명된 객체의 속성의 값을 반환합니다, 이름은 문자열이여만 합니다.\\n\\nclass Person:\\n    name = \"Djangojeng-e\"\\n    age = 36 \\n    country = \"Australia\"\\n\\nx = getattr(Person, \\'age\\')\\ny = getattr(Person, \\'country\\')\\n\\nprint(x)\\nprint(y)', '# globals()\\n# global symbol table 을 사전 형태로 반환합니다 \\n\\nx = globals()\\nprint(x)', \"# hash() \\n# 객체의 hash 값을 반환합니다 \\n\\n# 정수를 위한 hash 값은, 정수 입니다 \\nprint('255 를 위한 hash 값은 ', hash(255))\\n\\n# 소수점을 위한 hash 값 \\nprint('252.25 를 위한 hash 값은 ', hash(252.25))\\n\\n# 문자열을 위한 hash \\nprint('파이썬을 위한 hash 값은 ', hash('Python'))\", '# help() \\n# 시스템에 있는 도움말을 출력합니다 \\n\\nhelp(list)\\n\\nhelp(tuple)', '# hex() \\n# hex() 함수는 정수를 소문자형 16진수 문자열로 바꿔줍니다 \\n\\nnumber = 255 \\nx = hex(number)\\n\\nprint(x)', \"# id()\\n# id() 함수는 객체의 identity 를 가질때 사용합니다 \\n\\nx = ('python', 'django', 'pyramid')\\ny = id(x)\\nprint(y)\", \"# id()\\n# id() 함수는 객체의 identity 를 가질때 사용합니다 \\n\\nx = ('python', 'django', 'pyramid')\\ny = id(x)\\n\\nprint(y)\\n\\nz = ['django', 'flask']\\na = id(z)\\n\\nprint(a)\", \"# input()\\n# 사용자에게 입력값을 받습니다 (문자열로 받습니다) \\n\\nx = input('Python 을 입력해주세요')\\nprint(x)\", '# int()\\n# 지정된 값을 정수로 바꾸어 줍니다 \\n\\nx = \"345\"\\ny = int(x)\\n\\nprint(y)', '# isinstance() \\n# 지정된 객체가 지정된 타입일때에 true 를 반환합니다 \\n# 그렇지 않으면, False 를 반환합니다 \\n\\nx = isinstance(5 , int)', '# isinstance() \\n# 지정된 객체가 지정된 타입일때에 true 를 반환합니다 \\n# 그렇지 않으면, False 를 반환합니다 \\n\\nx = isinstance(5 , int)\\nprint(x)', '# isinstance() \\n# 지정된 객체가 지정된 타입일때에 true 를 반환합니다 \\n# 그렇지 않으면, False 를 반환합니다 \\n\\nx = isinstance(5 , int)\\nprint(x)\\n\\ny = isinstance(5.0, float)', '# isinstance() \\n# 지정된 객체가 지정된 타입일때에 true 를 반환합니다 \\n# 그렇지 않으면, False 를 반환합니다 \\n\\nx = isinstance(5 , int)\\nprint(x)\\n\\ny = isinstance(5.0, float)\\nprint(y)', \"# issubclass()\\n# 지정된 객체가 특정 객체의 subclass 인지 확인 합니다 \\n\\nclass Age:\\n    age = 36\\n    \\n\\nclass Profile(Age):\\n    name = 'Djangojeng-e'\\n    age = Age \\n    \\nx = issubclass(Profile, Age)\\nprint(x)\", \"# iter() \\n# iterator 객체를 반환합니다 \\n\\ntuple_a = ('Djangojeng-e', 'Python', 'Django')\\nit = iter(tuple_a)\\n\\nprint(next(it))\\nprint(next(it))\\nprint(next(it))\", \"# iter() \\n# iterator 객체를 반환합니다 \\n\\ntuple_a = ('Djangojeng-e', 'Python', 'Django')\\nit = iter(tuple_a)\\n\\nprint(next(it))\\nprint(next(it))\\nprint(next(it))\\n\\nstring_a = 'Python'\\nit = iter(string_a)\\n\\nprint(next(it))\\nprint(next(it))\\nprint(next(it))\", \"# iter() \\n# iterator 객체를 반환합니다 \\n\\ntuple_a = ('Djangojeng-e', 'Python', 'Django')\\nit = iter(tuple_a)\\n\\nprint(next(it))\\nprint(next(it))\\nprint(next(it))\\n\\nstring_a = 'Python'\\nit = iter(string_a)\\n\\nprint(next(it))\\nprint(next(it))\\nprint(next(it))\\nprint(next(it))\\nprint(next(it))\", \"# iter() \\n# iterator 객체를 반환합니다 \\n\\ntuple_a = ('Djangojeng-e', 'Python', 'Django')\\nit = iter(tuple_a)\\n\\nprint(next(it))\\nprint(next(it))\\nprint(next(it))\\n\\nstring_a = 'Python'\\nit = iter(string_a)\\n\\nprint(next(it))\\nprint(next(it))\\nprint(next(it))\\nprint(next(it))\\nprint(next(it))\\nprint(next(it))\", \"# iter() \\n# iterator 객체를 반환합니다 \\n\\ntuple_a = ('Djangojeng-e', 'Python', 'Django')\\nit = iter(tuple_a)\\n\\nprint(next(it))\\nprint(next(it))\\nprint(next(it))\\n\\nstring_a = 'Python'\\nit = iter(string_a)\\n\\nprint(next(it))\\nprint(next(it))\\nprint(next(it))\\nprint(next(it))\\nprint(next(it))\\nprint(next(it))\\nprint(next(it))\", \"# len() \\n# 객체의 길이를 구할때 사용합니다 \\n\\nstring = 'Python'\\nprint(len(string))\\n\\nlist_one = ['Python', 'Django', 'Flask']\\nprint(len(list_one))\", '# list()\\n# 리스트 객체를 생성할때 사용합니다 \\n\\ntup = (1, 2, 3)\\nprint(list(tup))', '# locals()\\n# local symbol 테이블을 사전형태로 반환합니다 \\n# symbol 테이블은 현재 프로그램에 대한 필요한 정보를 가지고 있습니다. \\n\\nx = locals()\\nprint(x)'], 'Out': {}, 'get_ipython': <bound method InteractiveShell.get_ipython of <ipykernel.zmqshell.ZMQInteractiveShell object at 0x7f7ce376cc10>>, 'exit': <IPython.core.autocall.ZMQExitAutocall object at 0x7f7ce070dfd0>, 'quit': <IPython.core.autocall.ZMQExitAutocall object at 0x7f7ce070dfd0>, '_': '', '__': '', '___': '', '_i': '# list()\\n# 리스트 객체를 생성할때 사용합니다 \\n\\ntup = (1, 2, 3)\\nprint(list(tup))', '_ii': \"# len() \\n# 객체의 길이를 구할때 사용합니다 \\n\\nstring = 'Python'\\nprint(len(string))\\n\\nlist_one = ['Python', 'Django', 'Flask']\\nprint(len(list_one))\", '_iii': \"# iter() \\n# iterator 객체를 반환합니다 \\n\\ntuple_a = ('Djangojeng-e', 'Python', 'Django')\\nit = iter(tuple_a)\\n\\nprint(next(it))\\nprint(next(it))\\nprint(next(it))\\n\\nstring_a = 'Python'\\nit = iter(string_a)\\n\\nprint(next(it))\\nprint(next(it))\\nprint(next(it))\\nprint(next(it))\\nprint(next(it))\\nprint(next(it))\\nprint(next(it))\", '_i1': \"# frozenset() \\n\\nmylist = ['apple', 'banana', 'cherry']\\nx = frozenset(mylist)\\n\\nprint(x)\", 'mylist': ['apple', 'banana', 'cherry'], 'x': {...}, '_i2': '# getattr() \\n# getattr() 함수는 명명된 객체의 속성의 값을 반환합니다, 이름은 문자열이여만 합니다.\\n\\nclass Person:\\n    name = \"Djangojeng-e\"\\n    age = 36 \\n    country = \"Australia\"\\n\\nx = getattr(Person, \\'age\\')\\ny = getattr(Person, \\'country\\')\\n\\nprint(x)\\nprint(y)', 'Person': <class '__main__.Person'>, 'y': True, '_i3': '# globals()\\n# global symbol table 을 사전 형태로 반환합니다 \\n\\nx = globals()\\nprint(x)', '_i4': \"# hash() \\n# 객체의 hash 값을 반환합니다 \\n\\n# 정수를 위한 hash 값은, 정수 입니다 \\nprint('255 를 위한 hash 값은 ', hash(255))\\n\\n# 소수점을 위한 hash 값 \\nprint('252.25 를 위한 hash 값은 ', hash(252.25))\\n\\n# 문자열을 위한 hash \\nprint('파이썬을 위한 hash 값은 ', hash('Python'))\", '_i5': '# help() \\n# 시스템에 있는 도움말을 출력합니다 \\n\\nhelp(list)\\n\\nhelp(tuple)', '_i6': '# hex() \\n# hex() 함수는 정수를 소문자형 16진수 문자열로 바꿔줍니다 \\n\\nnumber = 255 \\nx = hex(number)\\n\\nprint(x)', 'number': 255, '_i7': \"# id()\\n# id() 함수는 객체의 identity 를 가질때 사용합니다 \\n\\nx = ('python', 'django', 'pyramid')\\ny = id(x)\\nprint(y)\", '_i8': \"# id()\\n# id() 함수는 객체의 identity 를 가질때 사용합니다 \\n\\nx = ('python', 'django', 'pyramid')\\ny = id(x)\\n\\nprint(y)\\n\\nz = ['django', 'flask']\\na = id(z)\\n\\nprint(a)\", 'z': ['django', 'flask'], 'a': 140174318115520, '_i9': \"# input()\\n# 사용자에게 입력값을 받습니다 (문자열로 받습니다) \\n\\nx = input('Python 을 입력해주세요')\\nprint(x)\", '_i10': '# int()\\n# 지정된 값을 정수로 바꾸어 줍니다 \\n\\nx = \"345\"\\ny = int(x)\\n\\nprint(y)', '_i11': '# isinstance() \\n# 지정된 객체가 지정된 타입일때에 true 를 반환합니다 \\n# 그렇지 않으면, False 를 반환합니다 \\n\\nx = isinstance(5 , int)', '_i12': '# isinstance() \\n# 지정된 객체가 지정된 타입일때에 true 를 반환합니다 \\n# 그렇지 않으면, False 를 반환합니다 \\n\\nx = isinstance(5 , int)\\nprint(x)', '_i13': '# isinstance() \\n# 지정된 객체가 지정된 타입일때에 true 를 반환합니다 \\n# 그렇지 않으면, False 를 반환합니다 \\n\\nx = isinstance(5 , int)\\nprint(x)\\n\\ny = isinstance(5.0, float)', '_i14': '# isinstance() \\n# 지정된 객체가 지정된 타입일때에 true 를 반환합니다 \\n# 그렇지 않으면, False 를 반환합니다 \\n\\nx = isinstance(5 , int)\\nprint(x)\\n\\ny = isinstance(5.0, float)\\nprint(y)', '_i15': \"# issubclass()\\n# 지정된 객체가 특정 객체의 subclass 인지 확인 합니다 \\n\\nclass Age:\\n    age = 36\\n    \\n\\nclass Profile(Age):\\n    name = 'Djangojeng-e'\\n    age = Age \\n    \\nx = issubclass(Profile, Age)\\nprint(x)\", 'Age': <class '__main__.Age'>, 'Profile': <class '__main__.Profile'>, '_i16': \"# iter() \\n# iterator 객체를 반환합니다 \\n\\ntuple_a = ('Djangojeng-e', 'Python', 'Django')\\nit = iter(tuple_a)\\n\\nprint(next(it))\\nprint(next(it))\\nprint(next(it))\", 'tuple_a': ('Djangojeng-e', 'Python', 'Django'), 'it': <str_iterator object at 0x7f7ce0697fa0>, '_i17': \"# iter() \\n# iterator 객체를 반환합니다 \\n\\ntuple_a = ('Djangojeng-e', 'Python', 'Django')\\nit = iter(tuple_a)\\n\\nprint(next(it))\\nprint(next(it))\\nprint(next(it))\\n\\nstring_a = 'Python'\\nit = iter(string_a)\\n\\nprint(next(it))\\nprint(next(it))\\nprint(next(it))\", 'string_a': 'Python', '_i18': \"# iter() \\n# iterator 객체를 반환합니다 \\n\\ntuple_a = ('Djangojeng-e', 'Python', 'Django')\\nit = iter(tuple_a)\\n\\nprint(next(it))\\nprint(next(it))\\nprint(next(it))\\n\\nstring_a = 'Python'\\nit = iter(string_a)\\n\\nprint(next(it))\\nprint(next(it))\\nprint(next(it))\\nprint(next(it))\\nprint(next(it))\", '_i19': \"# iter() \\n# iterator 객체를 반환합니다 \\n\\ntuple_a = ('Djangojeng-e', 'Python', 'Django')\\nit = iter(tuple_a)\\n\\nprint(next(it))\\nprint(next(it))\\nprint(next(it))\\n\\nstring_a = 'Python'\\nit = iter(string_a)\\n\\nprint(next(it))\\nprint(next(it))\\nprint(next(it))\\nprint(next(it))\\nprint(next(it))\\nprint(next(it))\", '_i20': \"# iter() \\n# iterator 객체를 반환합니다 \\n\\ntuple_a = ('Djangojeng-e', 'Python', 'Django')\\nit = iter(tuple_a)\\n\\nprint(next(it))\\nprint(next(it))\\nprint(next(it))\\n\\nstring_a = 'Python'\\nit = iter(string_a)\\n\\nprint(next(it))\\nprint(next(it))\\nprint(next(it))\\nprint(next(it))\\nprint(next(it))\\nprint(next(it))\\nprint(next(it))\", '_i21': \"# len() \\n# 객체의 길이를 구할때 사용합니다 \\n\\nstring = 'Python'\\nprint(len(string))\\n\\nlist_one = ['Python', 'Django', 'Flask']\\nprint(len(list_one))\", 'string': 'Python', 'list_one': ['Python', 'Django', 'Flask'], '_i22': '# list()\\n# 리스트 객체를 생성할때 사용합니다 \\n\\ntup = (1, 2, 3)\\nprint(list(tup))', 'tup': (1, 2, 3), '_i23': '# locals()\\n# local symbol 테이블을 사전형태로 반환합니다 \\n# symbol 테이블은 현재 프로그램에 대한 필요한 정보를 가지고 있습니다. \\n\\nx = locals()\\nprint(x)'}\n"
     ]
    }
   ],
   "source": [
    "# locals()\n",
    "# local symbol 테이블을 사전형태로 반환합니다 \n",
    "# symbol 테이블은 현재 프로그램에 대한 필요한 정보를 가지고 있습니다. \n",
    "\n",
    "x = locals()\n",
    "print(x)"
   ]
  },
  {
   "cell_type": "code",
   "execution_count": 25,
   "metadata": {},
   "outputs": [
    {
     "name": "stdout",
     "output_type": "stream",
     "text": [
      "<map object at 0x7f7ce0697250>\n",
      "[6, 6, 5]\n"
     ]
    }
   ],
   "source": [
    "# map()\n",
    "# 순회가능 객체의 각 요소에 특정 함수를 실행 시킵니다. \n",
    "\n",
    "def length(n):\n",
    "    return len(n)\n",
    "\n",
    "x = map(length, ['django', 'python', 'flask'])\n",
    "\n",
    "print(x)\n",
    "print(list(x))"
   ]
  },
  {
   "cell_type": "code",
   "execution_count": 26,
   "metadata": {},
   "outputs": [
    {
     "name": "stdout",
     "output_type": "stream",
     "text": [
      "5\n"
     ]
    }
   ],
   "source": [
    "# max()\n",
    "# 순회가능 객체의 요소들중 가장 큰 값을 찾아냅니다 \n",
    "\n",
    "mylist = [1, 2, 3, 4, 5]\n",
    "\n",
    "x = max(mylist)\n",
    "print(x)"
   ]
  },
  {
   "cell_type": "code",
   "execution_count": 29,
   "metadata": {},
   "outputs": [
    {
     "name": "stdout",
     "output_type": "stream",
     "text": [
      "<memory at 0x7f7ce0615b80>\n",
      "72\n",
      "101\n"
     ]
    }
   ],
   "source": [
    "# memoryview()\n",
    "# 특정 객체의 memory view 객체를 얻을때 사용합니다 \n",
    "\n",
    "x = memoryview(b'Hello')    # byte 객체여야 합니다 \n",
    "\n",
    "print(x)\n",
    "\n",
    "# 첫번째 문자의 유니코드를 반환합니다 \n",
    "print(x[0])\n",
    "\n",
    "# 두번째 문자의 유니코드를 반환합니다 \n",
    "print(x[1])"
   ]
  },
  {
   "cell_type": "code",
   "execution_count": null,
   "metadata": {},
   "outputs": [],
   "source": []
  }
 ],
 "metadata": {
  "kernelspec": {
   "display_name": "Python 3",
   "language": "python",
   "name": "python3"
  },
  "language_info": {
   "codemirror_mode": {
    "name": "ipython",
    "version": 3
   },
   "file_extension": ".py",
   "mimetype": "text/x-python",
   "name": "python",
   "nbconvert_exporter": "python",
   "pygments_lexer": "ipython3",
   "version": "3.8.0"
  }
 },
 "nbformat": 4,
 "nbformat_minor": 4
}
