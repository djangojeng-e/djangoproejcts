{
 "cells": [
  {
   "cell_type": "code",
   "execution_count": 1,
   "metadata": {},
   "outputs": [],
   "source": [
    "# Python Magic 메소드 \n",
    "# 매직 메서드 생성 예제 \n",
    "# 매직 메서드 객체 사용 \n",
    "# 매직 메서드 예제 출력 "
   ]
  },
  {
   "cell_type": "code",
   "execution_count": 11,
   "metadata": {},
   "outputs": [
    {
     "name": "stdout",
     "output_type": "stream",
     "text": [
      "<class 'int'>\n",
      "\n",
      "\n",
      "EX1-1 - 300\n",
      "EX1-2 - 300\n",
      "EX1-4 - True\n",
      "EX1-5 - 10000 10000\n"
     ]
    }
   ],
   "source": [
    "# python advanced \n",
    "# magic method 실습 \n",
    "\n",
    "# 파이썬의 중요한 핵심 프레임워크 \n",
    "\n",
    "# 매직 메서드 기초 설명 \n",
    "\n",
    "# 기본형 \n",
    "# 파이썬의 모든 데이터 구조는, 객체로 취급 즉. 클래스로 출력된다 \n",
    "\n",
    "print(int)\n",
    "\n",
    "# 모든 속성 및 메소드 출력 \n",
    "# print(dir(int))\n",
    "\n",
    "print()\n",
    "print()\n",
    "\n",
    "n = 100 \n",
    "\n",
    "# 사용 \n",
    "print('EX1-1 -', n + 200)\n",
    "print('EX1-2 -', n.__add__(200))      # __add__\n",
    "# print('EX1-3 -', n.__doc__)         # __doc__\n",
    "print('EX1-4 -', n.__bool__())        # __bool__ \n",
    "print('EX1-5 -', n * 100, n.__mul__(100))"
   ]
  },
  {
   "cell_type": "code",
   "execution_count": 20,
   "metadata": {},
   "outputs": [],
   "source": [
    "# 클래스 예제 \n",
    "\n",
    "class Student:\n",
    "    def __init__(self, name, height):\n",
    "        self._name = name \n",
    "        self._height = height \n",
    "    \n",
    "    def __str__(self):\n",
    "        return 'Student Class Info : {} , {}'.format(self._name, self._height)\n",
    "    \n",
    "    def __ge__(self, x):\n",
    "        print('Called. >> __ge__Mehtod.')\n",
    "        if self._height >= x._height:\n",
    "            return True\n",
    "        else:\n",
    "            return False \n",
    "        \n",
    "    def __le__(self, x):\n",
    "        print('Called >> __le__Method.')\n",
    "        if self._height <= x._height:\n",
    "            return True\n",
    "        else: \n",
    "            return False \n",
    "    \n",
    "    def __sub__(self, x):\n",
    "        print('Called >> __sub__ Method.')\n",
    "        return self._height - x._height\n",
    "    \n",
    "    "
   ]
  },
  {
   "cell_type": "code",
   "execution_count": 23,
   "metadata": {},
   "outputs": [
    {
     "name": "stdout",
     "output_type": "stream",
     "text": [
      "True\n",
      "Called. >> __ge__Mehtod.\n",
      "EX2-1 True\n",
      "Called >> __le__Method.\n",
      "EX2-1 True\n",
      "Called >> __sub__ Method.\n",
      "EX2-3 16\n",
      "Called >> __sub__ Method.\n",
      "EX2-4 -16\n",
      "EX2-5 -  Student Class Info : James , 181\n",
      "EX2-6 -  Student Class Info : Mike , 165\n"
     ]
    }
   ],
   "source": [
    "# 인스턴스 생성 \n",
    "s1 = Student('James', 181)\n",
    "s2 = Student('Mike', 165)\n",
    "\n",
    "print(s1._height > s2._height)\n",
    "\n",
    "# 메직 메서드 출력 \n",
    "print('EX2-1', s1 >= s2)\n",
    "print('EX2-1', s2 <= s1)\n",
    "print('EX2-3', s1 - s2)\n",
    "print('EX2-4', s2 - s1)\n",
    "print('EX2-5 - ', s1)\n",
    "print('EX2-6 - ', s2)"
   ]
  },
  {
   "cell_type": "code",
   "execution_count": null,
   "metadata": {},
   "outputs": [],
   "source": []
  },
  {
   "cell_type": "code",
   "execution_count": null,
   "metadata": {},
   "outputs": [],
   "source": []
  },
  {
   "cell_type": "code",
   "execution_count": null,
   "metadata": {},
   "outputs": [],
   "source": []
  }
 ],
 "metadata": {
  "kernelspec": {
   "display_name": "Python 3",
   "language": "python",
   "name": "python3"
  },
  "language_info": {
   "codemirror_mode": {
    "name": "ipython",
    "version": 3
   },
   "file_extension": ".py",
   "mimetype": "text/x-python",
   "name": "python",
   "nbconvert_exporter": "python",
   "pygments_lexer": "ipython3",
   "version": "3.8.0"
  }
 },
 "nbformat": 4,
 "nbformat_minor": 4
}
