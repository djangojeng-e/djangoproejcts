{
 "cells": [
  {
   "cell_type": "code",
   "execution_count": 15,
   "metadata": {},
   "outputs": [
    {
     "name": "stdout",
     "output_type": "stream",
     "text": [
      "['Kim', 'Park']\n",
      "[1, 3]\n",
      "[1, 4]\n",
      "[{'gender': 'Male', 'score1': 95, 'score2': 88}, {'gender': 'Female', 'score1': 77, 'score2': 92}, {'gender': 'Male', 'score1': 99, 'score2': 100}]\n",
      "[{'student_name': 'Kim', 'student_number': 1, 'student_grade': 1, 'student_detail': {'gender': 'Male', 'score1': 95, 'score2': 88}}, {'student_name': 'Park', 'student_number': 3, 'student_grade': 3, 'student_detail': {'gender': 'Male', 'score1': 99, 'score2': 100}}]\n"
     ]
    }
   ],
   "source": [
    "# 절차지향 프로그램의 예 \n",
    "# 일반적인 코드 \n",
    "\n",
    "# 학생 1 \n",
    "\n",
    "student_name_1 = 'Kim'\n",
    "student_number_1 = 1 \n",
    "student_grade_1 = 1 \n",
    "student_detail_1 = [\n",
    "    {'gender': 'Male'},\n",
    "    {'score1': 95},\n",
    "    {'score2': 88}\n",
    "]\n",
    "\n",
    "# 학생 2 \n",
    "\n",
    "student_name_2 = 'Kim'\n",
    "student_number_2 = 2 \n",
    "student_grade_2 = 2 \n",
    "student_detail_2 = [\n",
    "    {'gender': 'Female'},\n",
    "    {'score1': 77},\n",
    "    {'score2': 92}\n",
    "]\n",
    "\n",
    "\n",
    "# 학생 3\n",
    "\n",
    "student_name_3 = 'Park'\n",
    "student_number_3 = 3 \n",
    "student_grade_3 = 3 \n",
    "student_detail_3 = [\n",
    "    {'gender': 'Male'},\n",
    "    {'score1': 99},\n",
    "    {'score2': 100}\n",
    "]\n",
    "\n",
    "\n",
    "# 리스트 구조 \n",
    "# 관리하기 불편 \n",
    "# 데이터의 정확한 위치 (인덱스) 매핑 해서 사용 \n",
    "\n",
    "student_names_list = ['Kim', 'Lee', 'Park']\n",
    "student_numbers_list = [1, 2, 3]\n",
    "student_grades_list = [1, 2, 4]\n",
    "student_details_list = [\n",
    "    {'gender' : 'Male', 'score1': 95, 'score2': 88},\n",
    "    {'gender' : 'Female', 'score1': 77, 'score2': 92},\n",
    "    {'gender' : 'Male', 'score1': 99, 'score2': 100}\n",
    "]\n",
    "\n",
    "\n",
    "# 학생 삭제 \n",
    "del student_names_list[1]\n",
    "del student_numbers_list[1]\n",
    "del student_grades_list[1]\n",
    "\n",
    "print(student_names_list)\n",
    "print(student_numbers_list)\n",
    "print(student_grades_list)\n",
    "print(student_details_list)\n",
    "\n",
    "# 딕셔너리 구조 \n",
    "# 코드 반복 지속, 중첩 문제가 생김 \n",
    "\n",
    "students_dicts = [\n",
    "    {'student_name': 'Kim', \n",
    "     'student_number': 1, \n",
    "     'student_grade': 1, \n",
    "     'student_detail': {'gender': 'Male', 'score1': 95, 'score2': 88}\n",
    "    },\n",
    "      {'student_name': 'Lee', \n",
    "     'student_number': 2, \n",
    "     'student_grade': 2, \n",
    "     'student_detail': {'gender': 'Female', 'score1': 77, 'score2': 92}\n",
    "    },\n",
    "      {'student_name': 'Park', \n",
    "     'student_number': 3, \n",
    "     'student_grade': 3, \n",
    "     'student_detail': {'gender': 'Male', 'score1': 99, 'score2': 100}\n",
    "    }\n",
    "    \n",
    "]\n",
    "\n",
    "del students_dicts[1] \n",
    "print(students_dicts)\n",
    "\n",
    "# 3rd 파티 앱을 사용할 경우, 선호 되는 데이터 타입은 사전 형태이다. \n"
   ]
  },
  {
   "cell_type": "code",
   "execution_count": 8,
   "metadata": {},
   "outputs": [],
   "source": []
  },
  {
   "cell_type": "code",
   "execution_count": 3,
   "metadata": {},
   "outputs": [],
   "source": [
    "# chapter01-1 \n",
    "# 파이썬 심화 \n",
    "# 객체 지향 프로그래밍 (OOP) -> 코드의 재사용, 코드 중복 방지 등등 \n"
   ]
  },
  {
   "cell_type": "code",
   "execution_count": 4,
   "metadata": {},
   "outputs": [],
   "source": [
    "# 클래스 상세 설명 \n",
    "# 클래스 변수, 인스턴스 변수 "
   ]
  },
  {
   "cell_type": "code",
   "execution_count": 5,
   "metadata": {},
   "outputs": [],
   "source": [
    "# 절차지향 프로그래밍 \n",
    "# 위에서부터 아래로 코드를 읽어 실행되면서 진행되는 프로그램 \n",
    "# 실행속도가 빠름 \n",
    "# 단점, 위에서부터 아래로 몇천줄 짜리 코드를 만나면 유지 보수가 어려워 짐 \n",
    "# 디버깅도 어려워짐 \n"
   ]
  },
  {
   "cell_type": "code",
   "execution_count": null,
   "metadata": {},
   "outputs": [],
   "source": []
  }
 ],
 "metadata": {
  "kernelspec": {
   "display_name": "Python 3",
   "language": "python",
   "name": "python3"
  },
  "language_info": {
   "codemirror_mode": {
    "name": "ipython",
    "version": 3
   },
   "file_extension": ".py",
   "mimetype": "text/x-python",
   "name": "python",
   "nbconvert_exporter": "python",
   "pygments_lexer": "ipython3",
   "version": "3.8.0"
  }
 },
 "nbformat": 4,
 "nbformat_minor": 4
}
