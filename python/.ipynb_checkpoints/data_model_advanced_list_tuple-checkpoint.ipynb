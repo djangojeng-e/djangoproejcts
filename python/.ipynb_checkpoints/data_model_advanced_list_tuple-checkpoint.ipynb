{
 "cells": [
  {
   "cell_type": "code",
   "execution_count": 1,
   "metadata": {},
   "outputs": [],
   "source": [
    "# 시퀀스형 설명 \n",
    "# List comprehension \n",
    "# Container vs flat \n",
    "# Generator \n",
    "# List vs Array \n",
    "# Mutable vs Immutable \n",
    "# Sort vs Sorted \n"
   ]
  },
  {
   "cell_type": "code",
   "execution_count": 2,
   "metadata": {},
   "outputs": [],
   "source": [
    "# Tuple은 immutable \n",
    "# List 는 mutable "
   ]
  },
  {
   "cell_type": "code",
   "execution_count": 3,
   "metadata": {},
   "outputs": [],
   "source": [
    "# 시퀀스형 \n",
    "# 컨테이너 (container) : 서로 다른 자료형[list, tuple, collections.deque] 을 저장할수 있음 \n",
    "# Flat : 한 개의 자료형만 저장할수 있음, str, bytes, bytearray, array.array, memoryview \n",
    "# 가변 mutable : list, byearray, array.array, memoryview, deque \n",
    "# 불변 immutable : tuple, str, bytes "
   ]
  },
  {
   "cell_type": "code",
   "execution_count": 15,
   "metadata": {},
   "outputs": [
    {
     "name": "stdout",
     "output_type": "stream",
     "text": [
      "EX1-1 -  [33, 64, 35, 36, 37, 94, 38, 42, 40, 41, 95, 43]\n",
      "EX1-2 - [33, 64, 35, 36, 37, 94, 38, 42, 40, 41, 95, 43]\n",
      "EX1-3 -  [64, 94, 42, 41, 95, 43]\n",
      "EX1-4 -  [33, 64, 35, 36, 37, 94, 38, 42, 40, 41, 95, 43]\n",
      "EX1-5 -  ['!', '@', '#', '$', '%', '^', '&', '*', '(', ')', '_', '+']\n",
      "EX1-6 -  ['!', '@', '#', '$', '%', '^', '&', '*', '(', ')', '_', '+']\n",
      "EX1-7 -  ['@', '^', '*', ')', '_', '+']\n",
      "EX1-8 -  ['!', '@', '#', '$', '%', '^', '&', '*', '(', ')', '_', '+']\n",
      "\n",
      "\n"
     ]
    }
   ],
   "source": [
    "# 지능형 리스트 (Comprehending Lists) \n",
    "\n",
    "# Non Comprehending Lists \n",
    "\n",
    "chars = '!@#$%^&*()_+'\n",
    "codes1 = []\n",
    "\n",
    "\n",
    "for s in chars:\n",
    "    codes1.append(ord(s))\n",
    "    \n",
    "    \n",
    "print('EX1-1 - ', codes1)\n",
    "\n",
    "# Comprehending List \n",
    "# 속도 약간 우세 \n",
    "\n",
    "codes2 = [ord(s) for s in chars]\n",
    "print('EX1-2 -', codes2)\n",
    "\n",
    "codes3 = [ord(s) for s in chars if ord(s) > 40]\n",
    "print('EX1-3 - ', codes3)\n",
    "\n",
    "\n",
    "# Comprehending List + Map, Filter \n",
    "\n",
    "codes4 = list(map(ord, chars))\n",
    "print('EX1-4 - ', codes4)\n",
    "\n",
    "print('EX1-5 - ', [chr(s) for s in codes1])\n",
    "print('EX1-6 - ', [chr(s) for s in codes2])\n",
    "print('EX1-7 - ', [chr(s) for s in codes3])\n",
    "print('EX1-8 - ', [chr(s) for s in codes4])\n",
    "\n",
    "print()\n",
    "print()"
   ]
  },
  {
   "cell_type": "code",
   "execution_count": 25,
   "metadata": {},
   "outputs": [
    {
     "name": "stdout",
     "output_type": "stream",
     "text": [
      "EX2-1 - <generator object <genexpr> at 0x7fc4544b1900>\n",
      "EX2-2 - 33\n",
      "EX2-3 - 64\n",
      "EX2-4 -  array('I', [33, 64, 35, 36, 37, 94, 38, 42, 40, 41, 95, 43])\n",
      "EX2-5 -  [33, 64, 35, 36, 37, 94, 38, 42, 40, 41, 95, 43]\n",
      "\n",
      "\n"
     ]
    }
   ],
   "source": [
    "# Generator \n",
    "\n",
    "import array \n",
    "\n",
    "# Generator : 한번에 한개의 항목을 생성 ( 메모리 유지를 하지 않는다 ) \n",
    "# 성능상에 압도적으로 좋음 \n",
    "\n",
    "tuple_g = (ord(s) for s in chars)\n",
    "\n",
    "\n",
    "print('EX2-1 -', tuple_g)\n",
    "print('EX2-2 -', next(tuple_g))\n",
    "print('EX2-3 -', next(tuple_g))\n",
    "\n",
    "\n",
    "# Array \n",
    "\n",
    "array_g = array.array('I', (ord(s) for s in chars))\n",
    "\n",
    "print('EX2-4 - ', array_g)\n",
    "print('EX2-5 - ', array_g.tolist())\n",
    "\n",
    "print()\n",
    "print()"
   ]
  },
  {
   "cell_type": "code",
   "execution_count": 27,
   "metadata": {},
   "outputs": [
    {
     "name": "stdout",
     "output_type": "stream",
     "text": [
      "EX3-1 -  <generator object <genexpr> at 0x7fc4545aceb0>\n",
      "EX3-2 - A1\n",
      "EX3-2 - A2\n",
      "EX3-2 - A3\n",
      "EX3-2 - A4\n",
      "EX3-2 - A5\n",
      "EX3-2 - A6\n",
      "EX3-2 - A7\n",
      "EX3-2 - A8\n",
      "EX3-2 - A9\n",
      "EX3-2 - A10\n",
      "EX3-2 - B1\n",
      "EX3-2 - B2\n",
      "EX3-2 - B3\n",
      "EX3-2 - B4\n",
      "EX3-2 - B5\n",
      "EX3-2 - B6\n",
      "EX3-2 - B7\n",
      "EX3-2 - B8\n",
      "EX3-2 - B9\n",
      "EX3-2 - B10\n",
      "EX3-2 - C1\n",
      "EX3-2 - C2\n",
      "EX3-2 - C3\n",
      "EX3-2 - C4\n",
      "EX3-2 - C5\n",
      "EX3-2 - C6\n",
      "EX3-2 - C7\n",
      "EX3-2 - C8\n",
      "EX3-2 - C9\n",
      "EX3-2 - C10\n",
      "EX3-2 - D1\n",
      "EX3-2 - D2\n",
      "EX3-2 - D3\n",
      "EX3-2 - D4\n",
      "EX3-2 - D5\n",
      "EX3-2 - D6\n",
      "EX3-2 - D7\n",
      "EX3-2 - D8\n",
      "EX3-2 - D9\n",
      "EX3-2 - D10\n"
     ]
    }
   ],
   "source": [
    "# Generator Example \n",
    "\n",
    "print('EX3-1 - ', ('%s' % c + str(n) for c in ['A', 'B', 'C', 'D'] for n in range(1, 11)))\n",
    "\n",
    "for s in ('%s' % c + str(n) for c in ['A', 'B', 'C', 'D'] for n in range(1, 11)):\n",
    "    print('EX3-2 -', s)"
   ]
  },
  {
   "cell_type": "code",
   "execution_count": 35,
   "metadata": {},
   "outputs": [
    {
     "name": "stdout",
     "output_type": "stream",
     "text": [
      "EX4-1 - 1 [['~', '~', '~'], ['~', '~', '~'], ['~', '~', '~']]\n",
      "EX4-2 - 2 [['~', '~', '~'], ['~', '~', '~'], ['~', '~', '~']]\n",
      "\n",
      "EX4-3 -  [['~', 'x', '~'], ['~', '~', '~'], ['~', '~', '~']]\n",
      "EX4-4 -  [['~', 'x', '~'], ['~', 'x', '~'], ['~', 'x', '~']]\n",
      "EX-4-5 -  [140481205167232, 140481205543936, 140481205544000]\n",
      "EX-4-6 -  [140481205101568, 140481205101568, 140481205101568]\n"
     ]
    }
   ],
   "source": [
    "# 리스트 주의 할 점 \n",
    "\n",
    "marks1 = [['~'] * 3 for n in range(3)]\n",
    "marks2 = [['~'] * 3] * 3\n",
    "\n",
    "print('EX4-1 - 1', marks1)\n",
    "print('EX4-2 - 2', marks2)\n",
    "\n",
    "print()\n",
    "\n",
    "marks1[0][1] = 'x'\n",
    "marks2[0][1] = 'x'\n",
    "\n",
    "print('EX4-3 - ', marks1)\n",
    "print('EX4-4 - ', marks2)\n",
    "\n",
    "\n",
    "# 증명 \n",
    "\n",
    "print('EX-4-5 - ', [id(i) for i in marks1])\n",
    "\n",
    "print('EX-4-6 - ', [id(i) for i in marks2])"
   ]
  },
  {
   "cell_type": "code",
   "execution_count": 47,
   "metadata": {},
   "outputs": [
    {
     "name": "stdout",
     "output_type": "stream",
     "text": [
      "EX5-1 - (11, 1)\n",
      "EX5-2 - (11, 1)\n",
      "EX5-3 - 11 1\n",
      "EX5-4 -  0 1 [2, 3, 4, 5, 6, 7, 8, 9]\n",
      "EX5-5 -  0 1 []\n",
      "EX5-6 -  1 2 [3, 4, 5]\n",
      "\n",
      "\n"
     ]
    }
   ],
   "source": [
    "# Tuple Advanced \n",
    "# Packing & Unpacking \n",
    "# immutable \n",
    "\n",
    "print('EX5-1 -', divmod(100, 9))\n",
    "print('EX5-2 -', divmod(*(100, 9)))\n",
    "\n",
    "print('EX5-3 -', *(divmod(100, 9)))\n",
    "\n",
    "x, y, *rest = range(10)\n",
    "print('EX5-4 - ', x, y, rest)\n",
    "\n",
    "x, y, *rest = range(2)\n",
    "print('EX5-5 - ', x, y, rest)\n",
    "\n",
    "x, y, *rest = 1,2,3,4,5\n",
    "print('EX5-6 - ', x, y, rest)\n",
    "\n",
    "print()\n",
    "print()"
   ]
  },
  {
   "cell_type": "code",
   "execution_count": 53,
   "metadata": {},
   "outputs": [
    {
     "name": "stdout",
     "output_type": "stream",
     "text": [
      "EX6-1 -  (10, 15, 20) [10, 15, 20] 140481204605120 140481205168000\n",
      "EX6-2 -  (10, 15, 20, 10, 15, 20) [10, 15, 20, 10, 15, 20] 140481205735488 140481205167424\n",
      "EX6-3 -  (10, 15, 20, 10, 15, 20, 10, 15, 20, 10, 15, 20) [10, 15, 20, 10, 15, 20, 10, 15, 20, 10, 15, 20] 140481205437488 140481205167424\n"
     ]
    }
   ],
   "source": [
    "# Mutable (가변) vs Immutable (불변)\n",
    "\n",
    "l = (10, 15, 20)\n",
    "m = [10, 15, 20]\n",
    "\n",
    "print('EX6-1 - ', l, m, id(l), id(m))\n",
    "\n",
    "l = l * 2 \n",
    "m = m * 2 \n",
    "\n",
    "print('EX6-2 - ', l, m, id(l), id(m))\n",
    "\n",
    "l *= 2\n",
    "m *= 2\n",
    "\n",
    "print('EX6-3 - ', l, m, id(l), id(m))\n",
    "\n"
   ]
  },
  {
   "cell_type": "code",
   "execution_count": 65,
   "metadata": {},
   "outputs": [
    {
     "name": "stdout",
     "output_type": "stream",
     "text": [
      "EX7-1 - ['apple', 'coconut', 'lemon', 'mango', 'orange', 'papaya', 'strawberry']\n",
      "EX7-2 - ['strawberry', 'papaya', 'orange', 'mango', 'lemon', 'coconut', 'apple']\n",
      "EX7-3 - ['apple', 'mango', 'lemon', 'orange', 'papaya', 'coconut', 'strawberry']\n",
      "EX7-4 - ['papaya', 'orange', 'apple', 'lemon', 'mango', 'coconut', 'strawberry']\n",
      "EX7-5 - ['strawberry', 'coconut', 'mango', 'lemon', 'orange', 'apple', 'papaya']\n",
      "EX7-6 - ['orange', 'apple', 'mango', 'papaya', 'lemon', 'strawberry', 'coconut']\n",
      "None ['apple', 'coconut', 'lemon', 'mango', 'orange', 'papaya', 'strawberry']\n",
      "EX7-7 -  None ['apple', 'coconut', 'lemon', 'mango', 'orange', 'papaya', 'strawberry']\n",
      "EX7-7 -  None ['strawberry', 'papaya', 'orange', 'mango', 'lemon', 'coconut', 'apple']\n",
      "EX7-8 -  None ['papaya', 'orange', 'apple', 'lemon', 'mango', 'coconut', 'strawberry']\n",
      "EX7-8 -  None ['strawberry', 'coconut', 'mango', 'lemon', 'orange', 'apple', 'papaya']\n"
     ]
    }
   ],
   "source": [
    "# sort vs sorted \n",
    "# reverse, key=len, key=str.lower, key=func \n",
    "\n",
    "# 정렬은 진짜 중요 \n",
    "\n",
    "f_list = ['orange', 'apple', 'mango', 'papaya', 'lemon', 'strawberry', 'coconut']\n",
    "\n",
    "# sorted : 정렬 후 '새로운' 객체로 반환 \n",
    "\n",
    "print('EX7-1 -', sorted(f_list))\n",
    "print('EX7-2 -', sorted(f_list, reverse=True))\n",
    "print('EX7-3 -', sorted(f_list, key=len))\n",
    "print('EX7-4 -', sorted(f_list, key=lambda x:x[-1]))\n",
    "\n",
    "print('EX7-5 -', sorted(f_list, key=lambda x:x[-1], reverse=True))\n",
    "\n",
    "print('EX7-6 -', f_list)\n",
    "\n",
    "# sort : 정렬후 객체 직접 변경 \n",
    "# None 을 반환하면, 객체를 직접 변경하는 함수라고 생각하면 됨 \n",
    "\n",
    "a = f_list.sort()\n",
    "print(a, f_list)\n",
    "\n",
    "print('EX7-7 - ', f_list.sort(), f_list )\n",
    "print('EX7-7 - ', f_list.sort(reverse=True), f_list )\n",
    "print('EX7-8 - ', f_list.sort(key=lambda x: x[-1]), f_list )\n",
    "print('EX7-8 - ', f_list.sort(key=lambda x: x[-1], reverse=True), f_list )\n"
   ]
  },
  {
   "cell_type": "code",
   "execution_count": null,
   "metadata": {},
   "outputs": [],
   "source": []
  },
  {
   "cell_type": "code",
   "execution_count": null,
   "metadata": {},
   "outputs": [],
   "source": []
  }
 ],
 "metadata": {
  "kernelspec": {
   "display_name": "Python 3",
   "language": "python",
   "name": "python3"
  },
  "language_info": {
   "codemirror_mode": {
    "name": "ipython",
    "version": 3
   },
   "file_extension": ".py",
   "mimetype": "text/x-python",
   "name": "python",
   "nbconvert_exporter": "python",
   "pygments_lexer": "ipython3",
   "version": "3.8.0"
  }
 },
 "nbformat": 4,
 "nbformat_minor": 4
}
