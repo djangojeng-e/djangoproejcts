{
 "cells": [
  {
   "cell_type": "code",
   "execution_count": 1,
   "metadata": {},
   "outputs": [],
   "source": [
    "# Higher-order function \n",
    "# 고준위 함수 \n",
    "# 파이썬에서는 모든것을 객체로 취급한다. \n",
    "# 함수형 프로그래밍과 관련 "
   ]
  },
  {
   "cell_type": "code",
   "execution_count": 2,
   "metadata": {},
   "outputs": [],
   "source": [
    "# 일급 함수(일급 객체) \n",
    "# 파이썬 함수 특징 \n",
    "\n",
    "# 1. 런타임 초기화 가능 (실행시 초기화 가능) \n",
    "# 2. 변수등에 할당 가능 (함수를 변수에 할당 가능) \n",
    "# 3. 함수에 인수로 전달 가능 sorted(keys=len) \n",
    "# 4. 함수 결과로 반환 가능 return funcs (e.g. 재귀함수)\n",
    "\n"
   ]
  },
  {
   "cell_type": "code",
   "execution_count": 21,
   "metadata": {},
   "outputs": [
    {
     "name": "stdout",
     "output_type": "stream",
     "text": [
      "EX1-1 - 120\n",
      "EX1-2 - Factorial Function -> n:int\n",
      "EX1-3 - <class 'function'> <class 'type'>\n",
      "EX1-4 - {'__annotations__', '__closure__', '__code__', '__globals__', '__kwdefaults__', '__name__', '__get__', '__qualname__', '__defaults__', '__call__'}\n",
      "EX1-5 - factorial\n",
      "EX1-6 - <code object factorial at 0x7f121c5b43a0, file \"<ipython-input-21-4869485295a4>\", line 3>\n"
     ]
    }
   ],
   "source": [
    "# 함수 객체 예제 \n",
    "\n",
    "def factorial(n):\n",
    "    '''Factorial Function -> n:int'''\n",
    "    if n == 1: # n < 2\n",
    "        return 1 \n",
    "    return n * factorial(n-1)\n",
    "\n",
    "print('EX1-1 -', factorial(5))\n",
    "\n",
    "class A:\n",
    "    pass \n",
    "\n",
    "print('EX1-2 -', factorial.__doc__)\n",
    "print('EX1-3 -', type(factorial), type(A))\n",
    "\n",
    "print('EX1-4 -', set(sorted(dir(factorial))) - set(sorted(dir(A))))\n",
    "\n",
    "print('EX1-5 -', factorial.__name__)\n",
    "print('EX1-6 -', factorial.__code__)\n"
   ]
  },
  {
   "cell_type": "code",
   "execution_count": 27,
   "metadata": {},
   "outputs": [
    {
     "name": "stdout",
     "output_type": "stream",
     "text": [
      "EX2-1 -  <function factorial at 0x7f121c61cc10>\n",
      "EX2-2 -  120\n",
      "EX2-3 - <map object at 0x7f121c6a6d90>\n",
      "EX2-4 - [1, 2, 6, 24, 120]\n"
     ]
    }
   ],
   "source": [
    "# 변수 할당 \n",
    "var_func = factorial\n",
    "\n",
    "print('EX2-1 - ', var_func)\n",
    "print('EX2-2 - ', var_func(5))\n",
    "print('EX2-3 -', map(var_func, range(1,6)))\n",
    "print('EX2-4 -', list(map(var_func, range(1,6))))\n"
   ]
  },
  {
   "cell_type": "code",
   "execution_count": 30,
   "metadata": {},
   "outputs": [
    {
     "name": "stdout",
     "output_type": "stream",
     "text": [
      "EX3-1 -  [1, 6, 120]\n",
      "EX3-2 -  [1, 6, 120]\n"
     ]
    }
   ],
   "source": [
    "# 함수 인수 전달 및 함수로 결과 반환 -> 고위 함수(Higher-order Function) \n",
    "print('EX3-1 - ', list(map(var_func, filter(lambda x: x%2, range(1,6)))))\n",
    "print('EX3-2 - ', [var_func(i) for i in range(1, 6) if i% 2])"
   ]
  },
  {
   "cell_type": "code",
   "execution_count": 35,
   "metadata": {},
   "outputs": [
    {
     "name": "stdout",
     "output_type": "stream",
     "text": [
      "EX3-3 - 55\n",
      "EX3-4 - 55\n"
     ]
    }
   ],
   "source": [
    "# reduce() \n",
    "\n",
    "from functools import reduce\n",
    "from operator import add \n",
    "\n",
    "print('EX3-3 -', reduce(add, range(1, 11)))  # 누적 \n",
    "print('EX3-4 -', sum(range(1, 11)))\n"
   ]
  },
  {
   "cell_type": "code",
   "execution_count": 38,
   "metadata": {},
   "outputs": [
    {
     "name": "stdout",
     "output_type": "stream",
     "text": [
      "EX3-5 - 55\n"
     ]
    }
   ],
   "source": [
    "# 익명함수 (lambda) \n",
    "# 가급적 주석 사용 \n",
    "# 가급적 함수 사용 \n",
    "\n",
    "# 일반 함수 형태로, 리팩토링 (이름 붙이기) 권장됨 \n",
    "\n",
    "print('EX3-5 -', reduce(lambda x, t: x + t, range(1,11)))\n",
    "\n",
    "#\n",
    "#"
   ]
  },
  {
   "cell_type": "code",
   "execution_count": 47,
   "metadata": {},
   "outputs": [
    {
     "name": "stdout",
     "output_type": "stream",
     "text": [
      "EX4-1 - True True True False True True\n",
      "EX4-2 - [22, 31, 36, 37, 42, 44]\n",
      "EX4-3 - [4, 6, 13, 13, 15, 44]\n",
      "EX4-4 - True\n"
     ]
    }
   ],
   "source": [
    "# Callable : 호출 연산자 -> 메소드 형태로 호출 가능한지를 확인 \n",
    "# __call__ 이 있으면, 호출이 가능한 객체 \n",
    "\n",
    "import random \n",
    "\n",
    "# 로또 추첨 클래스 선언 \n",
    "\n",
    "class LottoGame:\n",
    "    def __init__(self):\n",
    "        self._balls = [n for n in range(1, 46)]\n",
    "        \n",
    "    def pick(self):\n",
    "        random.shuffle(self._balls)\n",
    "        return sorted([random.choice(self._balls) for n in range(6)])\n",
    "    \n",
    "    def __call__(self):\n",
    "        return self.pick() \n",
    "    \n",
    "    \n",
    "# 객체를 생성 \n",
    "game = LottoGame() \n",
    "\n",
    "# 게임 실행 \n",
    "# 호출이 가능한지 확인 \n",
    "print('EX4-1 -', callable(str), callable(list), callable(factorial), callable(3.14), callable(game), callable(game.pick))\n",
    "print('EX4-2 -', game.pick())\n",
    "print('EX4-3 -', game())\n",
    "print('EX4-4 -', callable(game))"
   ]
  },
  {
   "cell_type": "code",
   "execution_count": 53,
   "metadata": {},
   "outputs": [
    {
     "name": "stdout",
     "output_type": "stream",
     "text": [
      "EX5-1 - <args_test> -> (test1) (()) (None) ({})\n",
      "EX5-2 - <args_test> -> (test1) (('test2',)) (None) ({})\n",
      "EX5-3 - <args_test> -> (test1) (('test2', 'test3')) (None) ({'id': 'admin'})\n",
      "EX5-4 - <args_test> -> (test1) (('test2', 'test3')) (7) ({'id': 'admin'})\n",
      "EX5-4 - <args_test> -> (test1) (('test2', 'test3')) (7) ({'id': 'admin', 'password': '1234'})\n"
     ]
    }
   ],
   "source": [
    "# 다양한 매개변수 입력(*args, **kwargs) \n",
    "def args_test(name, *contents, point=None, **attrs):\n",
    "    return '<args_test> -> ({}) ({}) ({}) ({})'.format(name, contents, point, attrs)\n",
    "\n",
    "print('EX5-1 -', args_test('test1'))\n",
    "print('EX5-2 -', args_test('test1', 'test2'))\n",
    "\n",
    "print('EX5-3 -', args_test('test1', 'test2', 'test3', id='admin'))\n",
    "\n",
    "\n",
    "print('EX5-4 -', args_test('test1', 'test2', 'test3', id='admin', point=7))\n",
    "\n",
    "print('EX5-4 -', args_test('test1', 'test2', 'test3', id='admin', point=7, password='1234'))\n"
   ]
  },
  {
   "cell_type": "code",
   "execution_count": 56,
   "metadata": {},
   "outputs": [
    {
     "name": "stdout",
     "output_type": "stream",
     "text": [
      "EX6-1 - (name, *contents, point=None, **attrs)\n",
      "EX6-2 - OrderedDict([('name', <Parameter \"name\">), ('contents', <Parameter \"*contents\">), ('point', <Parameter \"point=None\">), ('attrs', <Parameter \"**attrs\">)])\n",
      "\n",
      "EX6-3 -  name POSITIONAL_OR_KEYWORD <class 'inspect._empty'>\n",
      "EX6-3 -  contents VAR_POSITIONAL <class 'inspect._empty'>\n",
      "EX6-3 -  point KEYWORD_ONLY None\n",
      "EX6-3 -  attrs VAR_KEYWORD <class 'inspect._empty'>\n"
     ]
    }
   ],
   "source": [
    "# 함수 signatures \n",
    "\n",
    "from inspect import signature \n",
    "\n",
    "# 함수의 인자에 대한 정보를 표시해줄수 있는 메서드 \n",
    "\n",
    "sg = signature(args_test)\n",
    "\n",
    "print('EX6-1 -', sg)\n",
    "print('EX6-2 -', sg.parameters)\n",
    "\n",
    "print()\n",
    "\n",
    "# 모든 정보 출력 \n",
    "\n",
    "for name, param in sg.parameters.items():\n",
    "    print('EX6-3 - ', name, param.kind, param.default)"
   ]
  },
  {
   "cell_type": "code",
   "execution_count": 63,
   "metadata": {},
   "outputs": [
    {
     "name": "stdout",
     "output_type": "stream",
     "text": [
      "EX7-1 - 1000\n",
      "EX7-2 - 500\n",
      "EX7-3 - 30\n",
      "EX7-4 - [5, 10, 15, 20, 25, 30, 35, 40, 45, 50]\n",
      "EX7-4 - [5, 10, 15, 20, 25, 30, 35, 40, 45, 50]\n"
     ]
    }
   ],
   "source": [
    "# partial 사용법 : 인수 고정 -> 주로 특정 인수 고정후 콜백 함수에 사용하는 함수 \n",
    "# 하나 이상의 인수가 이미 할당된 (채워진) 함수의 새 버전 반환 \n",
    "# 함수의 새 객체 타입은 이전 함수의 자체를 기술하고 있다. \n",
    "\n",
    "from operator import mul\n",
    "from functools import partial \n",
    "\n",
    "print('EX7-1 -', mul(10, 100))\n",
    "\n",
    "# 인수 고정 \n",
    "\n",
    "five = partial(mul, 5)\n",
    "\n",
    "# 고정 추가 \n",
    "\n",
    "six = partial(five, 6)\n",
    "\n",
    "print('EX7-2 -', five(100))\n",
    "print('EX7-3 -', six())\n",
    "print('EX7-4 -', [five(i) for i in range(1, 11)])\n",
    "\n",
    "print('EX7-4 -', list(map(five, range(1, 11))))\n",
    "\n"
   ]
  },
  {
   "cell_type": "code",
   "execution_count": null,
   "metadata": {},
   "outputs": [],
   "source": []
  },
  {
   "cell_type": "code",
   "execution_count": null,
   "metadata": {},
   "outputs": [],
   "source": []
  }
 ],
 "metadata": {
  "kernelspec": {
   "display_name": "Python 3",
   "language": "python",
   "name": "python3"
  },
  "language_info": {
   "codemirror_mode": {
    "name": "ipython",
    "version": 3
   },
   "file_extension": ".py",
   "mimetype": "text/x-python",
   "name": "python",
   "nbconvert_exporter": "python",
   "pygments_lexer": "ipython3",
   "version": "3.8.0"
  }
 },
 "nbformat": 4,
 "nbformat_minor": 4
}
