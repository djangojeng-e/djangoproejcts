{
 "cells": [
  {
   "cell_type": "code",
   "execution_count": 1,
   "metadata": {},
   "outputs": [],
   "source": [
    "# Private 속성 실습 \n",
    "# __slot__ 예제 \n",
    "# 객체 슬라이싱, 인덱싱 \n",
    "# ABC, 상속, 오버라이딩 "
   ]
  },
  {
   "cell_type": "code",
   "execution_count": 16,
   "metadata": {},
   "outputs": [
    {
     "name": "stdout",
     "output_type": "stream",
     "text": [
      "EX1-2 - ['_VectorP__x', '_VectorP__y', '__class__', '__delattr__', '__dict__', '__dir__', '__doc__', '__eq__', '__format__', '__ge__', '__getattribute__', '__gt__', '__hash__', '__init__', '__init_subclass__', '__iter__', '__le__', '__lt__', '__module__', '__ne__', '__new__', '__reduce__', '__reduce_ex__', '__repr__', '__setattr__', '__sizeof__', '__str__', '__subclasshook__', '__weakref__', 'x', 'y'] {'_VectorP__x': 20.0, '_VectorP__y': 40.0}\n",
      "Called Property x\n",
      "Called Property y\n",
      "EX1-3 - 20.0 40.0\n",
      "EX1-4 20.0\n",
      "EX1-4 40.0\n"
     ]
    }
   ],
   "source": [
    "# class 선언 \n",
    "class VectorP(object):\n",
    "    def __init__(self, x, y):\n",
    "        self.__x = float(x)\n",
    "        self.__y = float(y)\n",
    "        \n",
    "    def __iter__(self):\n",
    "        return (i for i in (self.__x, self.__y))  # Generator \n",
    "    \n",
    "    # getter \n",
    "    @property \n",
    "    def x(self):\n",
    "        print('Called Property x')\n",
    "        return self.__x \n",
    "    \n",
    "    @x.setter\n",
    "    def x(self, v):\n",
    "        print('Called Property x')\n",
    "        self.__x = v\n",
    "        \n",
    "    @property\n",
    "    def y(self):\n",
    "        print('Called Property y')\n",
    "        return self.__y\n",
    "    \n",
    "    @y.setter\n",
    "    def y(self, v):\n",
    "        if v < 30:\n",
    "            raise ValueError('30 Below is not possible.')\n",
    "        print('Called Property Y setter')\n",
    "        self.__x = y \n",
    "    \n",
    "    \n",
    "    \n",
    "# 객체 선언 \n",
    "v = VectorP(20, 40)\n",
    "\n",
    "\n",
    "# print('EX1-1 -', v.__x, v.__y)\n",
    "\n",
    "# getter, setter \n",
    "\n",
    "print('EX1-2 -', dir(v), v.__dict__)\n",
    "\n",
    "print('EX1-3 -', v.x, v.y)\n",
    "\n",
    "\n",
    "# Iter 확인 \n",
    "for val in v:\n",
    "    print('EX1-4', val)\n",
    "    \n",
    "\n"
   ]
  },
  {
   "cell_type": "code",
   "execution_count": 21,
   "metadata": {},
   "outputs": [
    {
     "name": "stdout",
     "output_type": "stream",
     "text": [
      "EX2-1 - <__main__.TestA object at 0x7f4f30496be0>\n",
      "EX2-3 - <__main__.TestB object at 0x7f4f30496460>\n",
      "EX2-4 - {}\n"
     ]
    }
   ],
   "source": [
    "# __slot__ \n",
    "# 파이선 인터프리터에게 통보 \n",
    "# 해당 클래스가 가지는 속성을 제한 \n",
    "# __dict__ 속성 최적화 -> 다수 객체 생성시 -> 메모리 사용 공간 대폭 감소 \n",
    "\n",
    "# 해당 클래스에 만들어진 인스턴스 속성 관리에 딕셔너리 대신 Set 형태를 사용 \n",
    "\n",
    "\n",
    "class TestA(object):\n",
    "    __slots__ = ('a',)\n",
    "    \n",
    "class TestB(object):\n",
    "    pass \n",
    "\n",
    "\n",
    "use_slot = TestA()\n",
    "no_slot = TestB()\n",
    "\n",
    "print('EX2-1 -', use_slot)\n",
    "# print('EX2-2 -', use_slot.__dict__)\n",
    "print('EX2-3 -', no_slot)\n",
    "print('EX2-4 -', no_slot.__dict__)\n",
    "\n",
    "\n"
   ]
  },
  {
   "cell_type": "code",
   "execution_count": 30,
   "metadata": {},
   "outputs": [
    {
     "name": "stdout",
     "output_type": "stream",
     "text": [
      "0.9537372529994173\n",
      "1.2969354669994573\n",
      "\n",
      "\n"
     ]
    }
   ],
   "source": [
    "# 메모리 사용량 비교 \n",
    "import timeit \n",
    "\n",
    "# 측정을 위한 함수 선언 \n",
    "def repeat_outer(obj):\n",
    "    def repeat_inner():\n",
    "        obj.a = 'TEST'\n",
    "        del obj.a\n",
    "    return repeat_inner\n",
    "\n",
    "print(min(timeit.repeat(repeat_outer(use_slot), number=5000000)))\n",
    "\n",
    "print(min(timeit.repeat(repeat_outer(no_slot), number=5000000)))\n",
    "\n",
    "print()\n",
    "print()"
   ]
  },
  {
   "cell_type": "code",
   "execution_count": 42,
   "metadata": {},
   "outputs": [
    {
     "name": "stdout",
     "output_type": "stream",
     "text": [
      "EX3-1 - {'_numbers': [1, 101, 201, 301, 401, 501, 601, 701, 801, 901, 1001, 1101, 1201, 1301, 1401, 1501, 1601, 1701, 1801, 1901, 2001, 2101, 2201, 2301, 2401, 2501, 2601, 2701, 2801, 2901, 3001, 3101, 3201, 3301, 3401, 3501, 3601, 3701, 3801, 3901, 4001, 4101, 4201, 4301, 4401, 4501, 4601, 4701, 4801, 4901, 5001, 5101, 5201, 5301, 5401, 5501, 5601, 5701, 5801, 5901, 6001, 6101, 6201, 6301, 6401, 6501, 6601, 6701, 6801, 6901, 7001, 7101, 7201, 7301, 7401, 7501, 7601, 7701, 7801, 7901, 8001, 8101, 8201, 8301, 8401, 8501, 8601, 8701, 8801, 8901, 9001, 9101, 9201, 9301, 9401, 9501, 9601, 9701, 9801, 9901]}\n",
      "EX3-2 - 100\n",
      "EX3-3 - 100\n",
      "EX3-4 - [101, 201, 301, 401, 501, 601, 701, 801, 901, 1001, 1101, 1201, 1301, 1401, 1501, 1601, 1701, 1801, 1901, 2001, 2101, 2201, 2301, 2401, 2501, 2601, 2701, 2801, 2901, 3001, 3101, 3201, 3301, 3401, 3501, 3601, 3701, 3801, 3901, 4001, 4101, 4201, 4301, 4401, 4501, 4601, 4701, 4801, 4901, 5001, 5101, 5201, 5301, 5401, 5501, 5601, 5701, 5801, 5901, 6001, 6101, 6201, 6301, 6401, 6501, 6601, 6701, 6801, 6901, 7001, 7101, 7201, 7301, 7401, 7501, 7601, 7701, 7801, 7901, 8001, 8101, 8201, 8301, 8401, 8501, 8601, 8701, 8801, 8901, 9001, 9101, 9201, 9301, 9401, 9501, 9601, 9701, 9801, 9901]\n",
      "EX3-5 - 9901\n",
      "\n",
      "\n"
     ]
    }
   ],
   "source": [
    "# 객체 슬라이싱 \n",
    "\n",
    "class ObjectS:\n",
    "    def __init__(self):\n",
    "        self._numbers = [n for n in range(1, 10000, 100)]\n",
    "        \n",
    "    def __len__(self):\n",
    "        return len(self._numbers)\n",
    "    \n",
    "    def __getitem__(self, idx):\n",
    "        return self._numbers[idx]\n",
    "    \n",
    "    \n",
    "s = ObjectS()\n",
    "\n",
    "print('EX3-1 -', s.__dict__)\n",
    "print('EX3-2 -', len(s))\n",
    "print('EX3-3 -', len(s._numbers))\n",
    "print('EX3-4 -', s[1:100])\n",
    "print('EX3-5 -', s[-1])\n",
    "\n",
    "\n",
    "print()\n",
    "print()\n"
   ]
  },
  {
   "cell_type": "code",
   "execution_count": 53,
   "metadata": {},
   "outputs": [
    {
     "name": "stdout",
     "output_type": "stream",
     "text": [
      "EX4-1 - 9\n",
      "EX4-2 - range(9, 21, 2)\n",
      "EX4-3 - True\n",
      "\n",
      "\n"
     ]
    }
   ],
   "source": [
    "# 파이썬 추상 클래스 \n",
    "# 참고 : Abstract Base Class \n",
    "\n",
    "# 추상 클래스를 사용하는 이유 \n",
    "# 자체적으로 객체 생성 불가 \n",
    "# 상속을 통해서, 자식 클래스에서 인스턴스를 생성해야 함 \n",
    "# 개발과 관련된 (필드, 메소드) 추출 및 통합해서 공통된 내용으로 작성하게 하는것 \n",
    "\n",
    "\n",
    "# Sequence 상속 받지 않았지만, 자동으로 __iter__, __contain__ 기능을 작동 \n",
    "# 객체 전체를 자동으로 조사 -> 시퀀스 프로토콜 \n",
    "\n",
    "\n",
    "class IterTestA():\n",
    "    def __getitem__(self, idx):\n",
    "        return range(1, 50, 2)[idx]  # range(1, 50, 2)\n",
    "\n",
    "i1 = IterTestA() \n",
    "\n",
    "print('EX4-1 -', i1[4])\n",
    "print('EX4-2 -', i1[4:10])\n",
    "print('EX4-3 -', 3 in i1[1:10])\n",
    "# print('EX4-4 -', [i for i in i1[:]])\n",
    "\n",
    "print()\n",
    "print()\n",
    "\n"
   ]
  },
  {
   "cell_type": "code",
   "execution_count": 56,
   "metadata": {},
   "outputs": [
    {
     "name": "stdout",
     "output_type": "stream",
     "text": [
      "EX4-5 - 9\n",
      "EX4-6 - range(9, 21, 2)\n",
      "EX4-7 - True\n"
     ]
    }
   ],
   "source": [
    "# Sequence 상속 \n",
    "# 요구사항인 추상 메소드를 모두 구현해야 동작 \n",
    "\n",
    "from collections.abc import Sequence \n",
    "\n",
    "\n",
    "\n",
    "class IterTestB(Sequence):\n",
    "    def __getitem__(self, idx):\n",
    "        return range(1, 50, 2)[idx]  # range(1, 50, 2)\n",
    "    \n",
    "    def __len__(self, idx):\n",
    "        return len(range(1, 50, 2)[idx])\n",
    "    \n",
    "\n",
    "i2 = IterTestB()\n",
    "\n",
    "print('EX4-5 -', i2[4])\n",
    "print('EX4-6 -', i2[4:10])\n",
    "print('EX4-7 -', 3 in i2[1:10])"
   ]
  },
  {
   "cell_type": "code",
   "execution_count": 71,
   "metadata": {},
   "outputs": [
    {
     "name": "stdout",
     "output_type": "stream",
     "text": [
      "EX5-1 - False\n",
      "EX5-2 - True\n",
      "EX5-3 - (<class '__main__.CraneMachine'>, <class '__main__.RandomMachine'>, <class 'abc.ABC'>, <class 'object'>)\n",
      "EX5-4 - [97, 27, 19, 37, 35, 24, 1, 62, 38, 87, 39, 96, 89, 22, 85, 55, 81, 10, 86, 68, 54, 73, 69, 90, 80, 70, 30, 71, 41, 16, 40, 32, 84, 33, 92, 77, 78, 6, 36, 51, 25, 82, 99, 59, 43, 95, 58, 4, 76, 47, 34, 3, 67, 57, 20, 7, 98, 94, 11, 17, 45, 65, 83, 79, 64, 42, 5, 26, 9, 44, 15, 91, 56, 14, 18, 49, 60, 74, 66, 28, 61, 8, 13, 23, 46, 93, 48, 53, 52, 88, 12, 50, 31, 63, 75, 72, 21, 2, 29]\n",
      "EX5-5 - 29\n",
      "EX5-6 - (2,)\n"
     ]
    }
   ],
   "source": [
    "# abc 활용 예제 \n",
    "import abc \n",
    "\n",
    "class RandomMachine(abc.ABC):  # mataClass=abc.ABCMeta(3.4 이하)\n",
    "    # __metaclass__ = abc.ABCMeta \n",
    "    \n",
    "    # 추상 메소드 \n",
    "    @abc.abstractmethod \n",
    "    def load(self, iterobj):\n",
    "        '''Iterable 항목 추가'''\n",
    "    \n",
    "    # 추상 메소드 \n",
    "    @abc.abstractmethod \n",
    "    def pick(self, iterobj):\n",
    "        '''무작위 항목 뽑기'''\n",
    "        \n",
    "    def inspect(self):\n",
    "        items = []\n",
    "        while True:\n",
    "            try:\n",
    "                items.append(self.pick())\n",
    "            except LookupError:\n",
    "                break \n",
    "            return tuple(sorted(items))\n",
    "    \n",
    "import random \n",
    "\n",
    "class CraneMachine(RandomMachine):\n",
    "    def __init__(self, items):\n",
    "        self._randomizer = random.SystemRandom()\n",
    "        self._items = []\n",
    "        self.load(items)\n",
    "        \n",
    "    def load(self, items):\n",
    "        self._items.extend(items)\n",
    "        self._randomizer.shuffle(self._items)\n",
    "        \n",
    "    def pick(self):\n",
    "        try:\n",
    "            return self._items.pop()\n",
    "        except IndexError:\n",
    "            raise LookupError('Empty Crane Box')\n",
    "            \n",
    "    def __call__(self):\n",
    "        return self.pick()\n",
    "    \n",
    "# 서브클래스 확인 \n",
    "\n",
    "print('EX5-1 -', issubclass(RandomMachine, CraneMachine))\n",
    "\n",
    "print('EX5-2 -', issubclass(CraneMachine, RandomMachine))\n",
    "\n",
    "# 상속 구조 확인 \n",
    "print('EX5-3 -', CraneMachine.__mro__)\n",
    "\n",
    "cm = CraneMachine(range(1, 100))  # 추상 메소드 구현 안하면 에러 \n",
    "\n",
    "print('EX5-4 -', cm._items)\n",
    "print('EX5-5 -', cm.pick())\n",
    "print('EX5-6 -', cm.inspect())"
   ]
  },
  {
   "cell_type": "code",
   "execution_count": null,
   "metadata": {},
   "outputs": [],
   "source": []
  }
 ],
 "metadata": {
  "kernelspec": {
   "display_name": "Python 3",
   "language": "python",
   "name": "python3"
  },
  "language_info": {
   "codemirror_mode": {
    "name": "ipython",
    "version": 3
   },
   "file_extension": ".py",
   "mimetype": "text/x-python",
   "name": "python",
   "nbconvert_exporter": "python",
   "pygments_lexer": "ipython3",
   "version": "3.8.0"
  }
 },
 "nbformat": 4,
 "nbformat_minor": 4
}
