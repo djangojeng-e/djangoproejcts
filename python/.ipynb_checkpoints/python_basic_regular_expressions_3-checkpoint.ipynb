{
 "cells": [
  {
   "cell_type": "code",
   "execution_count": 1,
   "metadata": {},
   "outputs": [
    {
     "name": "stdout",
     "output_type": "stream",
     "text": [
      "['r', 'a', 'n', 'n', 'a', 'n']\n",
      "매치가 있습니다\n"
     ]
    }
   ],
   "source": [
    "# [arn] 은 a, r 혹은 n 문자가 문자열에 있는지 확인합니다 \n",
    "import re \n",
    "\n",
    "txt = \"The rain in Spain\"\n",
    "x = re.findall(\"[arn]\", txt)\n",
    "\n",
    "print(x)\n",
    "\n",
    "if x:\n",
    "    print(\"매치가 있습니다\")\n",
    "else:\n",
    "    print(\"매치가 없습니다\")"
   ]
  },
  {
   "cell_type": "code",
   "execution_count": 2,
   "metadata": {},
   "outputs": [
    {
     "name": "stdout",
     "output_type": "stream",
     "text": [
      "['h', 'e', 'r', 'a', 'i', 'n', 'i', 'n', 'p', 'a', 'i', 'n']\n",
      "매치가 있습니다\n"
     ]
    }
   ],
   "source": [
    "# [a-z] a 부터 n 까지에 있는 문자가 문자열안에 있는지 확인 합니다 \n",
    "import re\n",
    "\n",
    "txt = \"The rain in Spain\"\n",
    "x = re.findall(\"[a-z]\", txt)\n",
    "\n",
    "print(x)\n",
    "\n",
    "if x:\n",
    "    print(\"매치가 있습니다\")\n",
    "else:\n",
    "    print(\"매치가 없습니다\")"
   ]
  },
  {
   "cell_type": "code",
   "execution_count": 3,
   "metadata": {},
   "outputs": [
    {
     "name": "stdout",
     "output_type": "stream",
     "text": [
      "['T', 'h', 'e', ' ', 'i', ' ', 'i', ' ', 'S', 'p', 'i']\n",
      "매치가 있습니다\n"
     ]
    }
   ],
   "source": [
    "# [^arn] a, r 혹은 n 을 제외한 문자들이 문자열안에 있는지 확인 합니다 \n",
    "import re \n",
    "\n",
    "txt = \"The rain in Spain\"\n",
    "x = re.findall(\"[^arn]\", txt)\n",
    "\n",
    "print(x)\n",
    "\n",
    "if x:\n",
    "    print(\"매치가 있습니다\")\n",
    "else:\n",
    "    print(\"매치가 없습니다\")"
   ]
  },
  {
   "cell_type": "code",
   "execution_count": 4,
   "metadata": {},
   "outputs": [
    {
     "name": "stdout",
     "output_type": "stream",
     "text": [
      "[]\n",
      "매치가 없습니다\n"
     ]
    }
   ],
   "source": [
    "# [0123] 지정된 숫자 0, 1, 2, 3 이 문자열안에 있는지 확인 합니다 \n",
    "import re \n",
    "\n",
    "txt = \"The rain in Spain\"\n",
    "x = re.findall(\"[0123]\", txt)\n",
    "\n",
    "print(x)\n",
    "\n",
    "if x:\n",
    "    print(\"매치가 있습니다\")\n",
    "else:\n",
    "    print(\"매치가 없습니다\")"
   ]
  },
  {
   "cell_type": "code",
   "execution_count": 5,
   "metadata": {},
   "outputs": [
    {
     "name": "stdout",
     "output_type": "stream",
     "text": [
      "['8', '1', '1', '4', '5']\n",
      "매치가 있습니다\n"
     ]
    }
   ],
   "source": [
    "# [0-9] 문자열이 아무 숫자라도 가지고 있는지 확인합니다 \n",
    "import re \n",
    "\n",
    "txt = \"8 times before 11:45 AM\"\n",
    "x = re.findall(\"[0-9]\", txt)\n",
    "\n",
    "print(x)\n",
    "\n",
    "if x:\n",
    "    print(\"매치가 있습니다\")\n",
    "else:\n",
    "    print(\"매치가 없습니다\")"
   ]
  },
  {
   "cell_type": "code",
   "execution_count": 6,
   "metadata": {},
   "outputs": [
    {
     "name": "stdout",
     "output_type": "stream",
     "text": [
      "['11', '45']\n",
      "매치가 있습니다\n"
     ]
    }
   ],
   "source": [
    "# [0-5][0-9] 문자열이 두자릿수 숫자 00 부터 59 까지 숫자를 가지고 있는지 확인 합니다 \n",
    "import re \n",
    "\n",
    "txt = \"8 times before 11:45 AM\"\n",
    "x = re.findall(\"[0-5][0-9]\", txt)\n",
    "\n",
    "print(x)\n",
    "\n",
    "if x:\n",
    "    print(\"매치가 있습니다\")\n",
    "else:\n",
    "    print(\"매치가 없습니다\")"
   ]
  },
  {
   "cell_type": "code",
   "execution_count": 7,
   "metadata": {},
   "outputs": [
    {
     "name": "stdout",
     "output_type": "stream",
     "text": [
      "['t', 'i', 'm', 'e', 's', 'b', 'e', 'f', 'o', 'r', 'e', 'A', 'M']\n",
      "매치가 있습니다\n"
     ]
    }
   ],
   "source": [
    "# [a-zA-Z] 문자열이 소문자 a 부터 z까지의 소문자 와 A 부터 Z 까지의 대문자를 가지고 있는지 확인 합니다 \n",
    "import re \n",
    "\n",
    "txt = \"8 times before 11:45 AM\"\n",
    "x = re.findall(\"[a-zA-Z]\", txt)\n",
    "\n",
    "print(x)\n",
    "\n",
    "if x:\n",
    "    print(\"매치가 있습니다\")\n",
    "else:\n",
    "    print(\"매치가 없습니다\")"
   ]
  },
  {
   "cell_type": "code",
   "execution_count": 9,
   "metadata": {},
   "outputs": [
    {
     "name": "stdout",
     "output_type": "stream",
     "text": [
      "['+']\n",
      "매치가 있습니다\n"
     ]
    }
   ],
   "source": [
    "# [+] 문자열이 + 문자를 가지고 있는지 확인 합니다 \n",
    "import re \n",
    "\n",
    "txt = \"8 times before 11:45 AM +\"\n",
    "x = re.findall(\"[+]\", txt)\n",
    "\n",
    "print(x)\n",
    "\n",
    "if x:\n",
    "    print(\"매치가 있습니다\")\n",
    "else:\n",
    "    print(\"매치가 없습니다\")"
   ]
  },
  {
   "cell_type": "code",
   "execution_count": null,
   "metadata": {},
   "outputs": [],
   "source": []
  }
 ],
 "metadata": {
  "kernelspec": {
   "display_name": "Python 3",
   "language": "python",
   "name": "python3"
  },
  "language_info": {
   "codemirror_mode": {
    "name": "ipython",
    "version": 3
   },
   "file_extension": ".py",
   "mimetype": "text/x-python",
   "name": "python",
   "nbconvert_exporter": "python",
   "pygments_lexer": "ipython3",
   "version": "3.8.0"
  }
 },
 "nbformat": 4,
 "nbformat_minor": 4
}
