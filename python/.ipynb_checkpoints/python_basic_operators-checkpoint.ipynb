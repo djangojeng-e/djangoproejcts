{
 "cells": [
  {
   "cell_type": "code",
   "execution_count": 2,
   "metadata": {},
   "outputs": [],
   "source": [
    "# Operator: commands \n",
    "# Operator 명령어들 예시는 아래와 같습니다. \n",
    "\n",
    "from operator import add, sub, mul, truediv, floordiv, mod\n",
    "from operator import eq, ne, lt, gt, ge \n",
    "from operator import and_, or_, not_ \n",
    "from operator import itemgetter, attrgetter, methodcaller\n",
    "import operator as op"
   ]
  },
  {
   "cell_type": "code",
   "execution_count": 3,
   "metadata": {},
   "outputs": [
    {
     "name": "stdout",
     "output_type": "stream",
     "text": [
      "19\n",
      "9\n",
      "70\n",
      "2.8\n",
      "4\n",
      "537824\n",
      "2\n"
     ]
    }
   ],
   "source": [
    "# Arithmetic Operators \n",
    "# 산술 연산자 \n",
    "x = 14 \n",
    "y = 5 \n",
    "\n",
    "print(x + y)   # 합계 \n",
    "print(x - y)   # 뺄셈 \n",
    "print(x * y)   # 곱셈 \n",
    "print(x / y)   # 나누기 \n",
    "print(x % y)   # 나누기 이후에 나머지 값 \n",
    "print(x ** y)  # x의 y 승 \n",
    "print(x // y)  # 나누어서 나온 몫의 소숫점을 제외한 부분 "
   ]
  },
  {
   "cell_type": "code",
   "execution_count": 4,
   "metadata": {},
   "outputs": [
    {
     "name": "stdout",
     "output_type": "stream",
     "text": [
      "False\n",
      "True\n",
      "False\n",
      "True\n",
      "False\n",
      "True\n"
     ]
    }
   ],
   "source": [
    "# Comparison Operators \n",
    "# 비교 연산자 \n",
    "x = 12 \n",
    "y = 18 \n",
    "\n",
    "print(x == y)\n",
    "print(x != y)\n",
    "print(x > y)\n",
    "print(x < y)\n",
    "print(x >= y)\n",
    "print(x <= y)"
   ]
  },
  {
   "cell_type": "code",
   "execution_count": 5,
   "metadata": {},
   "outputs": [
    {
     "name": "stdout",
     "output_type": "stream",
     "text": [
      "True\n",
      "True\n",
      "False\n"
     ]
    }
   ],
   "source": [
    "# Logical Operators \n",
    "x = 12 \n",
    "y = 18 \n",
    "\n",
    "print(x > 10 and y > 10)\n",
    "print(x > 14 or y > 14)\n",
    "\n",
    "# x, y 둘다 10보다 커서, 조건은 충족되어 True 여야 하나, not 이 붙어서 False 를 반환합니다. \n",
    "\n",
    "print(not(x > 10 and y > 10))  \n"
   ]
  },
  {
   "cell_type": "code",
   "execution_count": 9,
   "metadata": {},
   "outputs": [
    {
     "name": "stdout",
     "output_type": "stream",
     "text": [
      "30\n",
      "12\n",
      "216\n",
      "12.0\n",
      "12.0\n",
      "2.6623333280885244e+19\n",
      "1.4790740711602913e+18\n"
     ]
    }
   ],
   "source": [
    "# Assignment Operators \n",
    "# 할당 연산자\n",
    "# 할당 연산을 할때마다, x 에 새로운 값이 할당되어 집니다. \n",
    "\n",
    "x = 12 \n",
    "y = 18 \n",
    "\n",
    "x += y\n",
    "print(x)\n",
    "\n",
    "x -= y\n",
    "print(x)\n",
    "\n",
    "x *= y\n",
    "print(x)\n",
    "\n",
    "x /= y\n",
    "print(x)\n",
    "\n",
    "x %= y\n",
    "print(x)\n",
    "\n",
    "x **= y\n",
    "print(x)\n",
    "\n",
    "x //= y\n",
    "print(x)"
   ]
  },
  {
   "cell_type": "code",
   "execution_count": null,
   "metadata": {},
   "outputs": [],
   "source": []
  }
 ],
 "metadata": {
  "kernelspec": {
   "display_name": "Python 3",
   "language": "python",
   "name": "python3"
  },
  "language_info": {
   "codemirror_mode": {
    "name": "ipython",
    "version": 3
   },
   "file_extension": ".py",
   "mimetype": "text/x-python",
   "name": "python",
   "nbconvert_exporter": "python",
   "pygments_lexer": "ipython3",
   "version": "3.8.0"
  }
 },
 "nbformat": 4,
 "nbformat_minor": 4
}
