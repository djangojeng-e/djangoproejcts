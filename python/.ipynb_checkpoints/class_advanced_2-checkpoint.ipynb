{
 "cells": [
  {
   "cell_type": "code",
   "execution_count": 81,
   "metadata": {},
   "outputs": [
    {
     "name": "stdout",
     "output_type": "stream",
     "text": [
      "0\n",
      "0\n",
      "140243234445392\n",
      "140243234446640\n",
      "False\n",
      "False\n",
      "True\n",
      "True\n",
      "dir\n",
      "['__class__', '__del__', '__delattr__', '__dict__', '__dir__', '__doc__', '__eq__', '__format__', '__ge__', '__getattribute__', '__gt__', '__hash__', '__init__', '__init_subclass__', '__le__', '__lt__', '__module__', '__ne__', '__new__', '__reduce__', '__reduce_ex__', '__repr__', '__setattr__', '__sizeof__', '__str__', '__subclasshook__', '__weakref__', '_details', '_email', '_grade', '_name', '_number', 'detail_info', 'student_count']\n",
      "dict\n",
      "{'_name': 'Cho', '_number': 2, '_grade': 3, '_details': {'gender': 'Male', 'score1': 65, 'score2': 44}, '_email': 'student@naver.com'}\n",
      "{'_name': 'Chang', '_number': 4, '_grade': 1, '_details': {'gender': 'Female', 'score1': 85, 'score2': 74}, '_email': None}\n",
      "\n",
      "    Student Class \n",
      "    Author : myself \n",
      "    Date : 2020.09.10 \n",
      "    \n",
      "\n"
     ]
    }
   ],
   "source": [
    "# 클래스 \n",
    "# 인스턴스 (instance) \n",
    "# class variable \n",
    "# instance variable \n",
    "\n",
    "# class variable vs instance variable \n",
    "\n",
    "class Student():\n",
    "    \"\"\"\n",
    "    Student Class \n",
    "    Author : myself \n",
    "    Date : 2020.09.10 \n",
    "    \"\"\"\n",
    "    \n",
    "    # 클래스 변수 \n",
    "    student_count = 0 \n",
    "    \n",
    "    def __init__(self, name, number, grade, details, email=None):\n",
    "        # 인스턴스 변수 \n",
    "        self._name = name\n",
    "        self._number = number \n",
    "        self._grade = grade \n",
    "        self._details = details \n",
    "        self._email = email \n",
    "        Student.student_count += 1 \n",
    "    \n",
    "    def __str__(self):\n",
    "        return 'str {}'.format(self._name)\n",
    "\n",
    "    def __repr__(self):\n",
    "        return 'repr {}'.format(self._name)\n",
    "    \n",
    "    def detail_info(self):\n",
    "        print('Current Id : {}'.format(id(self)))\n",
    "        print('Student Detail Info : {} {} {}'.format(self._name, self._email, self._details))\n",
    "        \n",
    "    def __del__(self):\n",
    "        Student.student_count -= 1 \n",
    "\n",
    "\n",
    "# Self 의미 \n",
    "studt1 = Student('Cho', 2, 3, {'gender': 'Male', 'score1': 65, 'score2': 44}, email='student@naver.com')\n",
    "studt2 = Student('Chang', 4, 1, {'gender': 'Female', 'score1': 85, 'score2': 74})\n",
    "\n",
    "print(studt1.student_count)\n",
    "print(studt2.student_count)\n",
    "# id 확인 \n",
    "print(id(studt1)) \n",
    "print(id(studt2))\n",
    "\n",
    "# == 는 값을 비교 \n",
    "print(studt1._name == studt2._name)\n",
    "\n",
    "# is 는 인스턴스 아이디 값을 비교 \n",
    "print(studt1 is studt2)\n",
    "\n",
    "a = 'ABC'\n",
    "b = a \n",
    "\n",
    "print(a is b) # reference label 을 비교 is 를 사용 \n",
    "print(a == b)\n",
    "\n",
    "# dir & __dict__ 확인, 인스턴스에 있는 속성들을 확인하기 위해 사용할수 있다 \n",
    "\n",
    "print('dir')\n",
    "print(dir(studt1))\n",
    "\n",
    "print('dict')\n",
    "print(studt1.__dict__)\n",
    "print(studt2.__dict__) \n",
    "\n",
    "\n",
    "# Docstring \n",
    "print(Student.__doc__)\n",
    "print()\n"
   ]
  },
  {
   "cell_type": "code",
   "execution_count": 82,
   "metadata": {},
   "outputs": [
    {
     "name": "stdout",
     "output_type": "stream",
     "text": [
      "Current Id : 140243234445392\n",
      "Student Detail Info : Cho student@naver.com {'gender': 'Male', 'score1': 65, 'score2': 44}\n",
      "Current Id : 140243234446640\n",
      "Student Detail Info : Chang None {'gender': 'Female', 'score1': 85, 'score2': 74}\n"
     ]
    }
   ],
   "source": [
    "# 실행 \n",
    "studt1.detail_info()\n",
    "studt2.detail_info()"
   ]
  },
  {
   "cell_type": "code",
   "execution_count": 83,
   "metadata": {},
   "outputs": [
    {
     "name": "stdout",
     "output_type": "stream",
     "text": [
      "Current Id : 140243234445392\n",
      "Student Detail Info : Cho student@naver.com {'gender': 'Male', 'score1': 65, 'score2': 44}\n",
      "Current Id : 140243234446640\n",
      "Student Detail Info : Chang None {'gender': 'Female', 'score1': 85, 'score2': 74}\n"
     ]
    }
   ],
   "source": [
    "Student.detail_info(studt1)\n",
    "Student.detail_info(studt2)"
   ]
  },
  {
   "cell_type": "code",
   "execution_count": 84,
   "metadata": {},
   "outputs": [
    {
     "name": "stdout",
     "output_type": "stream",
     "text": [
      "<class '__main__.Student'> <class '__main__.Student'>\n",
      "True\n",
      "\n"
     ]
    }
   ],
   "source": [
    "# 비교 \n",
    "# __class__ 는 부모를 알려줌 \n",
    "# 원형 클래스를 알려줌 \n",
    "print(studt1.__class__, studt2.__class__)\n",
    "print(id(studt1.__class__) == id(studt2.__class__))\n",
    "print()"
   ]
  },
  {
   "cell_type": "code",
   "execution_count": 85,
   "metadata": {},
   "outputs": [
    {
     "name": "stdout",
     "output_type": "stream",
     "text": [
      "Cho Chang\n",
      "student@naver.com None\n",
      "\n",
      "\n"
     ]
    }
   ],
   "source": [
    "# 인스턴스 변수 \n",
    "# 직접 접근 (PEP 문법적으로 권장 하지 않음) \n",
    "# private 변수, public 변수, static 변수에 따른 접근 방법 \n",
    "\n",
    "print(studt1._name, studt2._name)\n",
    "print(studt1._email, studt2._email)\n",
    "\n",
    "print()\n",
    "print()"
   ]
  },
  {
   "cell_type": "code",
   "execution_count": 86,
   "metadata": {},
   "outputs": [
    {
     "name": "stdout",
     "output_type": "stream",
     "text": [
      "0\n",
      "0\n",
      "0\n"
     ]
    }
   ],
   "source": [
    "# 클래스 변수 \n",
    "# 접근\n",
    "\n",
    "print(studt1.student_count)\n",
    "print(studt2.student_count)\n",
    "print(Student.student_count)"
   ]
  },
  {
   "cell_type": "code",
   "execution_count": 87,
   "metadata": {},
   "outputs": [
    {
     "name": "stdout",
     "output_type": "stream",
     "text": [
      "{'__module__': '__main__', '__doc__': '\\n    Student Class \\n    Author : myself \\n    Date : 2020.09.10 \\n    ', 'student_count': 0, '__init__': <function Student.__init__ at 0x7f8cec25b940>, '__str__': <function Student.__str__ at 0x7f8cec25baf0>, '__repr__': <function Student.__repr__ at 0x7f8cec25bb80>, 'detail_info': <function Student.detail_info at 0x7f8cec25bc10>, '__del__': <function Student.__del__ at 0x7f8cec25bca0>, '__dict__': <attribute '__dict__' of 'Student' objects>, '__weakref__': <attribute '__weakref__' of 'Student' objects>}\n",
      "{'_name': 'Cho', '_number': 2, '_grade': 3, '_details': {'gender': 'Male', 'score1': 65, 'score2': 44}, '_email': 'student@naver.com'}\n"
     ]
    }
   ],
   "source": [
    "# 공유 확인 \n",
    "print(Student.__dict__)\n",
    "print(studt1.__dict__)\n",
    "\n",
    "# 인스턴스 네임스페이스에 없으면, 상위에서 검색 \n",
    "# 동일한 이름으로 변수 생성도 가능 하고 \n",
    "# 인스턴스에 없으면, 파이썬이 상위 클래스에서 변수를 찾아줌\n"
   ]
  },
  {
   "cell_type": "code",
   "execution_count": 88,
   "metadata": {},
   "outputs": [
    {
     "name": "stdout",
     "output_type": "stream",
     "text": [
      "-1\n",
      "-1\n"
     ]
    }
   ],
   "source": [
    "del studt2 \n",
    "\n",
    "print(studt1.student_count)\n",
    "print(Student.student_count)"
   ]
  },
  {
   "cell_type": "code",
   "execution_count": null,
   "metadata": {},
   "outputs": [],
   "source": []
  },
  {
   "cell_type": "code",
   "execution_count": null,
   "metadata": {},
   "outputs": [],
   "source": []
  },
  {
   "cell_type": "code",
   "execution_count": null,
   "metadata": {},
   "outputs": [],
   "source": []
  }
 ],
 "metadata": {
  "kernelspec": {
   "display_name": "Python 3",
   "language": "python",
   "name": "python3"
  },
  "language_info": {
   "codemirror_mode": {
    "name": "ipython",
    "version": 3
   },
   "file_extension": ".py",
   "mimetype": "text/x-python",
   "name": "python",
   "nbconvert_exporter": "python",
   "pygments_lexer": "ipython3",
   "version": "3.8.0"
  }
 },
 "nbformat": 4,
 "nbformat_minor": 4
}
