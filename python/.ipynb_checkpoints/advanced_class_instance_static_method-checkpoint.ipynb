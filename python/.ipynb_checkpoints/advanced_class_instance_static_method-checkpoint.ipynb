{
 "cells": [
  {
   "cell_type": "code",
   "execution_count": 26,
   "metadata": {},
   "outputs": [
    {
     "name": "stdout",
     "output_type": "stream",
     "text": [
      "Student Info -> name : Kim Saulo grade: 1 email student1@naver.com\n",
      "Student Info -> name : Lee John grade: 2 email student2@gmail.com\n",
      "\n",
      "Student Detial Info : 1, Kim Saulo, student1@naver.com, 1, 400, 3.5\n",
      "Student Detial Info : 2, Lee John, student2@gmail.com, 2, 500, 4.3\n",
      "Before Tuition -> Id : 1, fee : 400\n",
      "Before Tuition -> Id : 2, fee : 500\n",
      "\n",
      "Succeed! tuition increased!\n",
      "After tuition -> Id : 1, fee : 520.0\n",
      "After tuition -> Id : 2, fee : 650.0\n"
     ]
    }
   ],
   "source": [
    "# 인스턴스 변수 vs 클래스 변수 \n",
    "# 메서드에도, 클래스 메서드, 인스턴스 메서드, 스태틱 메서드가 존재 \n",
    "\n",
    "# 클래스, 객체에 존재하는 모든 메서드에 대한 실습 \n",
    "\n",
    "# 클래스 메소드, 인스턴스 메소드, 스테틱 메소드 \n",
    "\n",
    "# 기본 인스턴스 메소드 \n",
    "\n",
    "class Student(object):\n",
    "    '''\n",
    "    Student Class \n",
    "    Author : Kang\n",
    "    Date : 2020.09.11 \n",
    "    Description : Class, Static, Instance Method \n",
    "    '''\n",
    "    \n",
    "    # 클래스 변수, class Variable \n",
    "    \n",
    "    tuition_per = 1.0\n",
    "    \n",
    "    def __init__(self, id, first_name, last_name, email, grade, tuition, gpa):\n",
    "        self._id = id \n",
    "        self._first_name = first_name\n",
    "        self._last_name = last_name \n",
    "        self._email = email \n",
    "        self._grade = grade \n",
    "        self._tuition = tuition \n",
    "        self._gpa = gpa \n",
    "        \n",
    "    # 인스턴스 메서드, instance method\n",
    "    # self 를 통해서 무언가를 반환해주는 메서드를 instance 메서드라고 불른다 \n",
    "    def full_name(self):\n",
    "        return '{} {}'.format(self._first_name, self._last_name)\n",
    "    \n",
    "    # 인스턴스 메서드, instance method \n",
    "    def detail_info(self):\n",
    "        return 'Student Detial Info : {}, {}, {}, {}, {}, {}'.format(self._id, self.full_name(), self._email, self._grade, self._tuition, self._gpa)\n",
    "    \n",
    "    # Instance Method \n",
    "    def get_fee(self):\n",
    "        return 'Before Tuition -> Id : {}, fee : {}'.format(self._id, self._tuition)\n",
    "    \n",
    "    # Instance Method \n",
    "    def get_fee_calc(self):\n",
    "        return 'After tuition -> Id : {}, fee : {}'.format(self._id, self._tuition * Student.tuition_per)\n",
    "    \n",
    "    \n",
    "    def __str__(self):\n",
    "        return 'Student Info -> name : {} grade: {} email {}'.format(self.full_name(), self._grade, self._email)\n",
    "    \n",
    "    # class method \n",
    "    @classmethod\n",
    "    def raise_fee(cls, per):\n",
    "        if per < 1:\n",
    "            print('Please enter 1 or More')\n",
    "            return \n",
    "        else:\n",
    "            cls.tuition_per = per \n",
    "            print('Succeed! tuition increased!')\n",
    "            \n",
    "    # Class Method \n",
    "    @classmethod\n",
    "    def student_const(cls, id, first_name, last_name, email, grade, tuition, gpa):\n",
    "        return cls(id, first_name, last_name, email, grade, tuition * cls.tuition_per, gpa)\n",
    "    \n",
    "    \n",
    "    # staticmethod \n",
    "    @staticmethod \n",
    "    def is_scholarship_st(inst):\n",
    "         if inst._gpa >= 4.3:\n",
    "            return '{} is a sholarship recipient'.format(inst._last_name)\n",
    "         else:\n",
    "            return 'Sorry. Not a scholarship recipient.'\n",
    "            \n",
    "    \n",
    "\n",
    "# 학생 인스턴스     \n",
    "student_1 = Student(1, 'Kim', 'Saulo', 'student1@naver.com', '1', 400, 3.5)\n",
    "student_2 = Student(2, 'Lee', 'John', 'student2@gmail.com', '2', 500, 4.3)\n",
    "\n",
    "# 기본정보 \n",
    "print(student_1)\n",
    "print(student_2)\n",
    "print()\n",
    "\n",
    "# 전체 정보 \n",
    "print(student_1.detail_info())\n",
    "print(student_2.detail_info())\n",
    "\n",
    "\n",
    "# 학비 정보 (인상전) \n",
    "print(student_1.get_fee())\n",
    "print(student_2.get_fee())\n",
    "\n",
    "print()\n",
    "\n",
    "# 학비 인상 (클래스 메소드 미사용) \n",
    "# Student.tuition_per = 1.2 \n",
    "\n",
    "Student.raise_fee(1.3)\n",
    "\n",
    "# 학비 정보 (인상후) \n",
    "print(student_1.get_fee_calc())\n",
    "print(student_2.get_fee_calc())\n",
    "\n",
    "\n",
    "\n"
   ]
  },
  {
   "cell_type": "code",
   "execution_count": 27,
   "metadata": {},
   "outputs": [
    {
     "name": "stdout",
     "output_type": "stream",
     "text": [
      "Student Detial Info : 3, Park Jung, Student3@gmail.com, 3, 715.0, 4.5\n",
      "Student Detial Info : 4, Cho sung, student4@gmail.com, 4, 780.0, 4.1\n"
     ]
    }
   ],
   "source": [
    "# 클레스 메소드 인스턴스 생성 실습 \n",
    "student_3 = Student.student_const(3, 'Park', 'Jung', 'Student3@gmail.com', '3', 550, 4.5)\n",
    "student_4 = Student.student_const(4, 'Cho', 'sung', 'student4@gmail.com', '4', 600, 4.1)\n",
    "\n",
    "# 전체 정보 \n",
    "print(student_3.detail_info())\n",
    "print(student_4.detail_info())"
   ]
  },
  {
   "cell_type": "code",
   "execution_count": 28,
   "metadata": {},
   "outputs": [
    {
     "name": "stdout",
     "output_type": "stream",
     "text": [
      "715.0\n",
      "780.0\n"
     ]
    }
   ],
   "source": [
    "# 학생 학비 변경 확인 \n",
    "print(student_3._tuition)\n",
    "print(student_4._tuition)"
   ]
  },
  {
   "cell_type": "code",
   "execution_count": 29,
   "metadata": {},
   "outputs": [
    {
     "name": "stdout",
     "output_type": "stream",
     "text": [
      "Sorry. Not a scholarship recipient.\n",
      "John is a sholarship recipient\n",
      "Jung is a sholarship recipient\n",
      "Sorry. Not a scholarship recipient.\n"
     ]
    }
   ],
   "source": [
    "# 장학금 혜택 여부 (스테이틱 메소드 미사용) \n",
    "def is_scholarship(inst):\n",
    "    if inst._gpa >= 4.3:\n",
    "        return '{} is a sholarship recipient'.format(inst._last_name)\n",
    "    else:\n",
    "        return 'Sorry. Not a scholarship recipient.'\n",
    "    \n",
    "print(is_scholarship(student_1))\n",
    "print(is_scholarship(student_2))\n",
    "print(is_scholarship(student_3))\n",
    "print(is_scholarship(student_4))"
   ]
  },
  {
   "cell_type": "code",
   "execution_count": 30,
   "metadata": {},
   "outputs": [
    {
     "name": "stdout",
     "output_type": "stream",
     "text": [
      "Sorry. Not a scholarship recipient.\n",
      "John is a sholarship recipient\n",
      "Jung is a sholarship recipient\n",
      "Sorry. Not a scholarship recipient.\n"
     ]
    }
   ],
   "source": [
    "# Static Method 호출 \n",
    "\n",
    "print(Student.is_scholarship_st(student_1))\n",
    "\n",
    "print(Student.is_scholarship_st(student_2))\n",
    "\n",
    "\n",
    "print(Student.is_scholarship_st(student_3))\n",
    "\n",
    "print(Student.is_scholarship_st(student_4))"
   ]
  },
  {
   "cell_type": "code",
   "execution_count": 32,
   "metadata": {},
   "outputs": [
    {
     "name": "stdout",
     "output_type": "stream",
     "text": [
      "Sorry. Not a scholarship recipient.\n",
      "John is a sholarship recipient\n",
      "Jung is a sholarship recipient\n",
      "Sorry. Not a scholarship recipient.\n"
     ]
    }
   ],
   "source": [
    "# 인스턴스에서 Static Method 호출 \n",
    "\n",
    "print(student_1.is_scholarship_st(student_1))\n",
    "\n",
    "print(student_2.is_scholarship_st(student_2))\n",
    "\n",
    "\n",
    "print(student_3.is_scholarship_st(student_3))\n",
    "\n",
    "print(student_4.is_scholarship_st(student_4))"
   ]
  },
  {
   "cell_type": "code",
   "execution_count": null,
   "metadata": {},
   "outputs": [],
   "source": []
  }
 ],
 "metadata": {
  "kernelspec": {
   "display_name": "Python 3",
   "language": "python",
   "name": "python3"
  },
  "language_info": {
   "codemirror_mode": {
    "name": "ipython",
    "version": 3
   },
   "file_extension": ".py",
   "mimetype": "text/x-python",
   "name": "python",
   "nbconvert_exporter": "python",
   "pygments_lexer": "ipython3",
   "version": "3.8.0"
  }
 },
 "nbformat": 4,
 "nbformat_minor": 4
}
