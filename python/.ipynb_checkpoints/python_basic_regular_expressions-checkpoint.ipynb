{
 "cells": [
  {
   "cell_type": "code",
   "execution_count": 7,
   "metadata": {},
   "outputs": [
    {
     "name": "stdout",
     "output_type": "stream",
     "text": [
      "None\n"
     ]
    }
   ],
   "source": [
    "import re \n",
    "text_one = \"A bootable usb\"\n",
    "\n",
    "search = re.search('/bo*/', text_one)\n",
    "print(search)\n",
    "\n",
    "text_two = \"A beautiful mind\"\n",
    "text_three = \"A going concern\""
   ]
  },
  {
   "cell_type": "code",
   "execution_count": 15,
   "metadata": {},
   "outputs": [
    {
     "name": "stdout",
     "output_type": "stream",
     "text": [
      "None\n"
     ]
    }
   ],
   "source": [
    "# HTML 테그 비교 \n",
    "# open tag : <[^/>][^>]*>   \n",
    "# e.g. <a>, <table>\n",
    "import re\n",
    "re.search('<[^/>][^>]*>', '<table>') != None\n",
    "# search_result = re.search('<[^/>][^>]*', '<table>')\n",
    "# print(search_result)\n",
    "\n",
    "\n",
    "# ^ 는 문자열 혹은 한줄의 시작점을 매칭합니다. 예를들면, \n",
    "\n",
    "eg_one = \"about Articles\"\n",
    "eg_two = \"Articles of life\"\n",
    "\n",
    "eg_one_result = re.search('^A/', eg_one)\n",
    "eg_two_result = re.search('/^A/', eg_two)\n",
    "\n",
    "print(eg_one_result)\n"
   ]
  },
  {
   "cell_type": "code",
   "execution_count": 16,
   "metadata": {},
   "outputs": [
    {
     "name": "stdout",
     "output_type": "stream",
     "text": [
      "['h', 'e', 'a', 'i', 'i', 'a', 'i']\n"
     ]
    }
   ],
   "source": [
    "# W3 School Examples []\n",
    "\n",
    "import re \n",
    "txt = \"The Rain in Spain\"\n",
    "\n",
    "# a 와 m 사이의 모든 소문자 알파벳을 찾습니다\n",
    "\n",
    "x = re.findall(\"[a-m]\", txt)\n",
    "print(x)"
   ]
  },
  {
   "cell_type": "code",
   "execution_count": 17,
   "metadata": {},
   "outputs": [
    {
     "name": "stdout",
     "output_type": "stream",
     "text": [
      "['5', '9']\n"
     ]
    }
   ],
   "source": [
    "# W3 School Examples \"\\d\"\n",
    "\n",
    "import re \n",
    "txt = \"That will be 59 dollars\"\n",
    "\n",
    "# 모든 숫자를 찾습니다 \n",
    "\n",
    "x = re.findall(\"\\d\", txt)\n",
    "print(x)\n"
   ]
  },
  {
   "cell_type": "code",
   "execution_count": 18,
   "metadata": {},
   "outputs": [
    {
     "name": "stdout",
     "output_type": "stream",
     "text": [
      "['hello']\n"
     ]
    }
   ],
   "source": [
    "# W3 School Examples \".\"\n",
    "\n",
    "txt = \"hello world\"\n",
    "\n",
    "# he 으로 시작하고, he 다음에 어떠한 아무 문자로 되어있고, o 로 되어 있는 문자를 검색 \n",
    "\n",
    "x = re.findall(\"he..o\", txt)\n",
    "print(x)"
   ]
  },
  {
   "cell_type": "code",
   "execution_count": 19,
   "metadata": {},
   "outputs": [
    {
     "name": "stdout",
     "output_type": "stream",
     "text": [
      "네. 문자열은, 'hello'로 시작합니다!\n"
     ]
    }
   ],
   "source": [
    "# W3 School Examples ^\n",
    "\n",
    "import re\n",
    "txt = \"hello world\"\n",
    "\n",
    "# 문자열이 혹시 \"hello\"로 시작하는 확인 \n",
    "\n",
    "x = re.findall(\"^hello\", txt)\n",
    "if x:\n",
    "    print(\"네. 문자열은, 'hello'로 시작합니다!\")\n",
    "else:\n",
    "    print(\"아니오, 문자열은, 'hello'로 시작하지 않습니다!\")\n",
    "    "
   ]
  },
  {
   "cell_type": "code",
   "execution_count": 20,
   "metadata": {},
   "outputs": [
    {
     "name": "stdout",
     "output_type": "stream",
     "text": [
      "네, 문자열은 'world'로 끝납니다!\n"
     ]
    }
   ],
   "source": [
    "# W3 School Examples $\n",
    "\n",
    "import re\n",
    "txt = \"hello world\"\n",
    "\n",
    "# 문자열이 혹시 \"world\" 로 끝나는지 확인 \n",
    "\n",
    "x = re.findall(\"world$\", txt)\n",
    "if x:\n",
    "    print(\"네, 문자열은 'world'로 끝납니다!\")\n",
    "else:\n",
    "    print(\"아니오, 문자열은, 'world로 끝나지 않습니다!\")"
   ]
  },
  {
   "cell_type": "code",
   "execution_count": 21,
   "metadata": {},
   "outputs": [
    {
     "name": "stdout",
     "output_type": "stream",
     "text": [
      "['ai', 'ai', 'ai', 'ai']\n",
      "Yes, there is at least one match!\n"
     ]
    }
   ],
   "source": [
    "# W3 School Examples *\n",
    "\n",
    "import re \n",
    "txt = 'The rain in Spain falls mainly in the plain!'\n",
    "\n",
    "# 문자열이 ai를 포함하고 있고, ai 다음에 \"x\" 문자열이 붙는것이, 0번 혹은 그 이상 발생합니다. \n",
    "\n",
    "x = re.findall(\"aix*\", txt)\n",
    "\n",
    "\n",
    "# rain, spain, mainly, plain 단어에서 aix* 가 총 4번 발생하고. \n",
    "# 이 4개의 요소들은, 리스트에 담겨서 반환됩니다.\n",
    "\n",
    "print(x)\n",
    "\n",
    "if x:\n",
    "    print(\"Yes, there is at least one match!\")\n",
    "else:\n",
    "    print(\"No match\")"
   ]
  },
  {
   "cell_type": "code",
   "execution_count": 22,
   "metadata": {},
   "outputs": [
    {
     "name": "stdout",
     "output_type": "stream",
     "text": [
      "[]\n",
      "매치가 없습니다\n"
     ]
    }
   ],
   "source": [
    "# W3 School Examples +\n",
    "\n",
    "import re \n",
    "txt = \"The rain in Spain falls mainly in the plain!\"\n",
    "\n",
    "# 문자열이 \"ai\" 다음에 한개 혹은 이상의 x 문자열로 이루어진것을 가지고 있는지 확인합니다 \n",
    "\n",
    "x = re.findall(\"aix+\", txt)\n",
    "\n",
    "print(x)\n",
    "\n",
    "if x: \n",
    "    print(\"적어도 한번 이상의 매치가 있습니다\")\n",
    "else:\n",
    "    print(\"매치가 없습니다\")"
   ]
  },
  {
   "cell_type": "code",
   "execution_count": 24,
   "metadata": {},
   "outputs": [
    {
     "name": "stdout",
     "output_type": "stream",
     "text": [
      "['all']\n",
      "Yes, there is at least one match!\n"
     ]
    }
   ],
   "source": [
    "# W3 School Examples {}\n",
    "\n",
    "import re \n",
    "\n",
    "txt = \"The rain in Spain falls mainly in the plain!\"\n",
    "\n",
    "# 문자열이 \"a\" 다음에 정확히 2개의 \"l\" 문자로 이루어져있는지 확인 합니다 \n",
    "\n",
    "x = re.findall(\"al{2}\", txt)\n",
    "\n",
    "print(x)\n",
    "\n",
    "if x:\n",
    "    print(\"Yes, there is at least one match!\")\n",
    "else:\n",
    "    print(\"No, there is no match!\")\n"
   ]
  },
  {
   "cell_type": "code",
   "execution_count": 25,
   "metadata": {},
   "outputs": [
    {
     "name": "stdout",
     "output_type": "stream",
     "text": [
      "['falls']\n",
      "Yes, there is at least one match!\n"
     ]
    }
   ],
   "source": [
    "# W3 School Examples | \n",
    "\n",
    "import re\n",
    "txt = \"The rain in Spain falls mainly in the plain!\"\n",
    "\n",
    "# 문자열이 \"falls\" 혹은 \"stays\"를 포함하는지 확인 \n",
    "\n",
    "x = re.findall(\"falls|stays\", txt)\n",
    "\n",
    "print(x)\n",
    "\n",
    "if x:\n",
    "    print(\"Yes, there is at least one match!\")\n",
    "else:\n",
    "    print(\"No, there is no match!\")"
   ]
  },
  {
   "cell_type": "code",
   "execution_count": null,
   "metadata": {},
   "outputs": [],
   "source": []
  }
 ],
 "metadata": {
  "kernelspec": {
   "display_name": "Python 3",
   "language": "python",
   "name": "python3"
  },
  "language_info": {
   "codemirror_mode": {
    "name": "ipython",
    "version": 3
   },
   "file_extension": ".py",
   "mimetype": "text/x-python",
   "name": "python",
   "nbconvert_exporter": "python",
   "pygments_lexer": "ipython3",
   "version": "3.8.0"
  }
 },
 "nbformat": 4,
 "nbformat_minor": 4
}
