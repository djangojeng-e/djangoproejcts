{
 "cells": [
  {
   "cell_type": "code",
   "execution_count": 1,
   "metadata": {},
   "outputs": [],
   "source": [
    "# 파이썬 참조 심화 \n",
    "# 파이썬 객체 참조 다양한 특징 \n",
    "# Copy \n",
    "# Deep Copy \n",
    "# 매개변수 전달 주의할 점 "
   ]
  },
  {
   "cell_type": "code",
   "execution_count": 15,
   "metadata": {},
   "outputs": [
    {
     "name": "stdout",
     "output_type": "stream",
     "text": [
      "EX1-1 -\n",
      "['In', 'Out', '_', '__', '___', '__builtin__', '__builtins__', '__doc__', '__loader__', '__name__', '__package__', '__spec__', '_dh', '_i', '_i1', '_i10', '_i11', '_i12', '_i13', '_i14', '_i15', '_i2', '_i3', '_i4', '_i5', '_i6', '_i7', '_i8', '_i9', '_ih', '_ii', '_iii', '_oh', 'exit', 'get_ipython', 'quit', 'x', 'y', 'z']\n",
      "__main__\n",
      "EX2-1 - 139998218409728 139998218409728\n",
      "EX2-2 - True\n",
      "EX2-3 - True\n",
      "EX2-4 - {'name': 'kim', 'age': 33, 'city': 'seoul'} {'name': 'kim', 'age': 33, 'city': 'seoul'}\n",
      "EX2-5 - {'name': 'kim', 'age': 33, 'city': 'seoul', 'class': 10} {'name': 'kim', 'age': 33, 'city': 'seoul', 'class': 10}\n",
      "\n",
      "\n",
      "EX2-6 - {'name': 'kim', 'age': 33, 'city': 'seoul', 'class': 10} {'name': 'kim', 'age': 33, 'city': 'seoul', 'class': 10}\n",
      "EX2-7 - False\n",
      "EX2-8 - True\n",
      "EX2-9 - True\n"
     ]
    }
   ],
   "source": [
    "# 객체 참조 중요한 특징들 \n",
    "# Python Object Reference \n",
    "\n",
    "print('EX1-1 -')\n",
    "print(dir())\n",
    "print(__name__)\n",
    "\n",
    "# id vs __eq__ (==) 증명 \n",
    "x = {'name': 'kim', 'age': 33, 'city': 'seoul'}\n",
    "y = x\n",
    "\n",
    "print('EX2-1 -', id(x), id(y))\n",
    "print('EX2-2 -', x == y)\n",
    "print('EX2-3 -', x is y)\n",
    "print('EX2-4 -', x, y)\n",
    "\n",
    "x['class'] = 10\n",
    "\n",
    "print('EX2-5 -', x, y)\n",
    "\n",
    "print()\n",
    "print()\n",
    "\n",
    "z = {'name': 'kim', 'age': 33, 'city': 'seoul', 'class': 10}\n",
    "\n",
    "print('EX2-6 -', x, z)\n",
    "print('EX2-7 -', x is z)    # 같은 객체 \n",
    "print('EX2-8 -', x is not z)\n",
    "print('EX2-9 -', x == z)    # 값이 같다 \n",
    "\n",
    "# 객체 생성 후 완전 불변 -> 즉, id 는 객체 주소 (정체성) 비교, ==(__eq__) 는 값 비교 \n",
    "\n"
   ]
  },
  {
   "cell_type": "code",
   "execution_count": 21,
   "metadata": {},
   "outputs": [
    {
     "name": "stdout",
     "output_type": "stream",
     "text": [
      "EX3-1 - 139998095270144 139998093210944\n",
      "EX3-2 - False\n",
      "EX3-3 - True\n",
      "EX3-4 - True\n",
      "\n",
      "\n"
     ]
    }
   ],
   "source": [
    "# 튜플 불변형의 비교 \n",
    "\n",
    "tuple1 = (10, 15, [100, 1000])\n",
    "tuple2 = (10, 15, [100, 1000])\n",
    "\n",
    "print('EX3-1 -', id(tuple1), id(tuple2))\n",
    "print('EX3-2 -', tuple1 is tuple2)\n",
    "print('EX3-3 -', tuple1 == tuple2)\n",
    "print('EX3-4 -', tuple1.__eq__(tuple2))\n",
    "\n",
    "print()\n",
    "print()\n"
   ]
  },
  {
   "cell_type": "code",
   "execution_count": 27,
   "metadata": {},
   "outputs": [
    {
     "name": "stdout",
     "output_type": "stream",
     "text": [
      "EX4-1 - True\n",
      "EX4-2 - True\n",
      "EX4-3 - True\n",
      "EX4-4 - False\n",
      "EX4-5 - [10, [100], (5, 10, 15), 1000]\n",
      "EX4-6 - [10, [100], (5, 10, 15), 1000]\n",
      "EX4-7 - [10, [100], (5, 10, 15)]\n",
      "\n",
      "EX4-8 - [10, [100, 110, 120], (5, 10, 15, 110, 120), 1000]\n",
      "EX4-9 - [10, [100, 110, 120], (5, 10, 15, 110, 120), 1000]\n",
      "EX4-10 - [10, [100, 110, 120], (5, 10, 15)]\n"
     ]
    }
   ],
   "source": [
    "# Copy, Deepcopy (깊은복사, 얕은 복사)\n",
    "\n",
    "# Copy \n",
    "\n",
    "tl1 = [10, [100, 105], (5, 10, 15)]\n",
    "tl2 = tl1 \n",
    "tl3 = list(tl1)\n",
    "\n",
    "print('EX4-1 -', tl1 == tl2)\n",
    "print('EX4-2 -', tl1 is tl2)\n",
    "print('EX4-3 -', tl1 == tl3)\n",
    "print('EX4-4 -', tl1 is tl3)\n",
    "\n",
    "# 증명 \n",
    "tl1.append(1000)\n",
    "tl1[1].remove(105)\n",
    "\n",
    "print('EX4-5 -', tl1)\n",
    "print('EX4-6 -', tl2)\n",
    "print('EX4-7 -', tl3)\n",
    "\n",
    "print()\n",
    "\n",
    "tl1[1] += [110, 120]\n",
    "tl1[2] += (110, 120)\n",
    "\n",
    "\n",
    "print('EX4-8 -', tl1)\n",
    "print('EX4-9 -', tl2)  # 튜플 재 할당 (객체를 새로 생성) \n",
    "print('EX4-10 -', tl3)"
   ]
  },
  {
   "cell_type": "code",
   "execution_count": 34,
   "metadata": {},
   "outputs": [
    {
     "name": "stdout",
     "output_type": "stream",
     "text": [
      "EX5-1 - 139998219149072 139998092814176 139998092814608\n",
      "EX5-2 - 139998093178944 139998093178944 139998092784000\n",
      "\n",
      "EX5-3 - ['Apple', 'Bag', 'TV', 'Water', 'Orange']\n",
      "EX5-4 - ['Apple', 'Bag', 'TV', 'Water', 'Orange']\n",
      "EX5-5 - ['Apple', 'Bag', 'TV', 'Snack', 'Water']\n",
      "\n",
      "\n"
     ]
    }
   ],
   "source": [
    "# Deep Copy \n",
    "\n",
    "# 장바구니 \n",
    "\n",
    "class Basket:\n",
    "    def __init__(self, products=None):\n",
    "        if products is None:\n",
    "            self._products = []\n",
    "        else:\n",
    "            self._products = list(products)\n",
    "        \n",
    "    def put_prod(self, prod_name):\n",
    "        self._products.append(prod_name)\n",
    "        \n",
    "    def del_prod(self, prod_name):\n",
    "        self._products.remove(prod_name)\n",
    "       \n",
    "    \n",
    "import copy\n",
    "\n",
    "basket1 = Basket(['Apple', 'Bag', 'TV', 'Snack', 'Water'])\n",
    "basket2 = copy.copy(basket1)\n",
    "basket3 = copy.deepcopy(basket1) \n",
    "\n",
    "print('EX5-1 -', id(basket1), id(basket2), id(basket3))\n",
    "\n",
    "print('EX5-2 -', id(basket1._products), id(basket2._products), id(basket3._products))\n",
    "\n",
    "print()\n",
    "\n",
    "basket1.put_prod('Orange')\n",
    "basket2.del_prod('Snack')\n",
    "\n",
    "print('EX5-3 -', basket1._products)\n",
    "print('EX5-4 -', basket2._products)\n",
    "print('EX5-5 -', basket3._products)\n",
    "\n",
    "print()\n",
    "print()\n"
   ]
  },
  {
   "cell_type": "code",
   "execution_count": 40,
   "metadata": {},
   "outputs": [
    {
     "name": "stdout",
     "output_type": "stream",
     "text": [
      "EX6-1 - 15 10 5\n",
      "\n",
      "EX6-2 [10, 100, 5, 10] [10, 100, 5, 10] [5, 10]\n",
      "EX6-3 - (10, 100, 5, 10) (10, 100) (5, 10)\n"
     ]
    }
   ],
   "source": [
    "# 함수 매개변수 전달 사용법 \n",
    "\n",
    "def mul(x, y):\n",
    "    x += y \n",
    "    return x \n",
    "\n",
    "x = 10 \n",
    "y = 5 \n",
    "\n",
    "print('EX6-1 -', mul(x, y), x, y)\n",
    "\n",
    "print()\n",
    "\n",
    "a = [10, 100]\n",
    "b = [5, 10]\n",
    "\n",
    "print('EX6-2', mul(a, b), a, b)  # 가변형일 때는, 데이터가 변경된다 \n",
    "\n",
    "c = (10, 100)\n",
    "d = (5, 10)\n",
    "\n",
    "print('EX6-3 -', mul(c, d), c, d) # 불변형 c 튜플은, 데이터가 변경되지 않는다 \n"
   ]
  },
  {
   "cell_type": "code",
   "execution_count": 44,
   "metadata": {},
   "outputs": [
    {
     "name": "stdout",
     "output_type": "stream",
     "text": [
      "EX7-1 - True 139998092717968 139998092717968\n",
      "EX7-2 - True 139998092717968 139998092717968\n",
      "EX7-3 - False True 139998218780240 139998093155360\n",
      "EX7-4 - True True 139998092849584 139998092849584\n"
     ]
    }
   ],
   "source": [
    "# 파이썬, 불변형 예외 \n",
    "#  str, bytes, frozenset, Tuple : 사본 생성 하지 않고, 바로 참조 반환을 한다 \n",
    "\n",
    "tt1 = (1, 2, 3, 4, 5)\n",
    "tt2 = tuple(tt1)\n",
    "tt3 = tt1[:]\n",
    "\n",
    "print('EX7-1 -', tt1 is tt2, id(tt1), id(tt2))\n",
    "print('EX7-2 -', tt3 is tt1, id(tt3), id(tt1))\n",
    "\n",
    "tt4 = (10, 20, 30, 40, 50)\n",
    "tt5 = (10, 20, 30, 40, 50)\n",
    "ss1 = 'Apple'\n",
    "ss2 = 'Apple'\n",
    "\n",
    "print('EX7-3 -', tt4 is tt5, tt4 == tt5, id(tt4), id(tt5))\n",
    "print('EX7-4 -', ss1 is ss2, ss1 == ss2, id(ss1), id(ss2))\n"
   ]
  },
  {
   "cell_type": "code",
   "execution_count": null,
   "metadata": {},
   "outputs": [],
   "source": []
  }
 ],
 "metadata": {
  "kernelspec": {
   "display_name": "Python 3",
   "language": "python",
   "name": "python3"
  },
  "language_info": {
   "codemirror_mode": {
    "name": "ipython",
    "version": 3
   },
   "file_extension": ".py",
   "mimetype": "text/x-python",
   "name": "python",
   "nbconvert_exporter": "python",
   "pygments_lexer": "ipython3",
   "version": "3.8.0"
  }
 },
 "nbformat": 4,
 "nbformat_minor": 4
}
