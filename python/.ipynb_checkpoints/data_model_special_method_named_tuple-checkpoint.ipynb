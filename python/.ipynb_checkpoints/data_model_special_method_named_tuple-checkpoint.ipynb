{
 "cells": [
  {
   "cell_type": "code",
   "execution_count": 3,
   "metadata": {},
   "outputs": [],
   "source": [
    "# 파이썬 데이터 모델 설명 \n",
    "# Namedtuple \n",
    "# namedtuple attrs \n",
    "# Namedtuple method \n",
    "# List Comprehesion \n",
    "# 구조화된 모델 설명 \n",
    "\n",
    "# NamedTuple \n",
    "\n",
    "# 데이터 모델 (Data Model) \n",
    "\n",
    "# NamedTuple \n",
    "\n",
    "# 파이썬의 중요한 핵심 프레임워크 -> 시퀀스(Sequence), 반복(iterator), 함수(Function), 클래스(Class) \n",
    "\n",
    "# Iterator --> Generator\n",
    "# Sequence \n",
    "\n",
    "# 객체 -> 파이썬의 데이터를 추상화 \n",
    "# 모든 객체 -> id, type -> value \n",
    "# 파이썬 -> 일관성 \n",
    "\n"
   ]
  },
  {
   "cell_type": "code",
   "execution_count": 12,
   "metadata": {},
   "outputs": [
    {
     "name": "stdout",
     "output_type": "stream",
     "text": [
      "Ex1-1 - 3.8078865529319543\n"
     ]
    }
   ],
   "source": [
    "# NamedTuple \n",
    "\n",
    "\n",
    "# 일반적인 튜플 사용 \n",
    "\n",
    "pt1 = (1.0, 5.0)\n",
    "pt2 = (2.5, 1.5)\n",
    "\n",
    "from math import sqrt \n",
    "\n",
    "line_leng1 = sqrt((pt2[0] - pt1[0]) ** 2 + (pt2[1] - pt1[1]) ** 2)\n",
    "\n",
    "print('Ex1-1 -', line_leng1)\n"
   ]
  },
  {
   "cell_type": "code",
   "execution_count": 15,
   "metadata": {},
   "outputs": [
    {
     "name": "stdout",
     "output_type": "stream",
     "text": [
      "EX1-2 - 3.8078865529319543\n",
      "EX1-3 True\n"
     ]
    }
   ],
   "source": [
    "# 네임드 튜플 사용  \n",
    "\n",
    "from collections import namedtuple \n",
    "\n",
    "# 네임드 튜플 선언 \n",
    "\n",
    "Point = namedtuple('Point', 'x y')\n",
    "\n",
    "# 두 점 선언 \n",
    "pt1 = Point(1.0, 5.0)\n",
    "pt2 = Point(2.5, 1.5)\n",
    "\n",
    "\n",
    "# 출력 \n",
    "line_leng2 = sqrt((pt1.x - pt2.x) ** 2 + (pt1.y - pt2.y) ** 2)\n",
    "print('EX1-2 -', line_leng2)\n",
    "print('EX1-3', line_leng1 == line_leng2)"
   ]
  },
  {
   "cell_type": "code",
   "execution_count": 24,
   "metadata": {},
   "outputs": [
    {
     "name": "stdout",
     "output_type": "stream",
     "text": [
      "EX2-1 <class '__main__.Point'> <class '__main__.Point'> <class '__main__.Point'> <class '__main__.Point'>\n",
      "EX2-2 -  Point(x=10, y=35) Point(x=20, y=40) Point(x=45, y=20) Point(x=10, y=20, _2=30, _3=40) Point(x=75, y=55)\n"
     ]
    }
   ],
   "source": [
    "# 네임드 튜플 선언 방법 \n",
    "\n",
    "Point1 = namedtuple('Point', ['x', 'y'])\n",
    "Point2 = namedtuple('Point', 'x, y')\n",
    "Point3 = namedtuple('Point', 'x y')\n",
    "Point4 = namedtuple('Point', 'x y x class', rename=True) # Default=False \n",
    "\n",
    "\n",
    "# 출력 \n",
    "print('EX2-1', Point1, Point2, Point3, Point4)\n",
    "\n",
    "\n",
    "# 객체 생성 \n",
    "\n",
    "p1 = Point1(x=10, y=35)\n",
    "p2 = Point2(20, 40)\n",
    "p3 = Point3(45, y=20)\n",
    "p4 = Point4(10, 20, 30, 40)\n",
    "\n",
    "\n",
    "# Dict to Unpacking \n",
    "temp_dict = {'x': 75, 'y': 55}\n",
    "\n",
    "p5 = Point3(**temp_dict)\n",
    "\n",
    "\n",
    "# 출력 \n",
    "print('EX2-2 - ', p1, p2, p3, p4, p5)"
   ]
  },
  {
   "cell_type": "code",
   "execution_count": 26,
   "metadata": {},
   "outputs": [
    {
     "name": "stdout",
     "output_type": "stream",
     "text": [
      "EX3-1 -  50\n",
      "EX3-2 -  50\n"
     ]
    }
   ],
   "source": [
    "# 사용 \n",
    "print('EX3-1 - ', p1[0] + p2[1]) # Index Error 주의 \n",
    "print('EX3-2 - ', p1.x + p2.y) # 클래스 변수 접근 방식 "
   ]
  },
  {
   "cell_type": "code",
   "execution_count": 29,
   "metadata": {},
   "outputs": [
    {
     "name": "stdout",
     "output_type": "stream",
     "text": [
      "EX3-3 -  65\n",
      "EX3-4 -  Point(x=10, y=20, _2=30, _3=40)\n"
     ]
    }
   ],
   "source": [
    "# Unpacking \n",
    "x, y = p3 \n",
    "\n",
    "print('EX3-3 - ', x + y)\n",
    "\n",
    "\n",
    "# Rename 테스트 \n",
    "\n",
    "print('EX3-4 - ', p4)\n",
    "\n",
    "print()\n",
    "print()"
   ]
  },
  {
   "cell_type": "code",
   "execution_count": 37,
   "metadata": {},
   "outputs": [
    {
     "name": "stdout",
     "output_type": "stream",
     "text": [
      "EX4-1 Point(x=52, y=38)\n",
      "EX4-2 - ('x', 'y') ('x', 'y') ('x', 'y')\n",
      "EX4-3 {'x': 10, 'y': 35} {'x': 20, 'y': 40} {'x': 52, 'y': 38}\n",
      "EX4-4 - Point(x=20, y=100)\n"
     ]
    }
   ],
   "source": [
    "# Namedtuple 메서드 \n",
    "\n",
    "temp = [52, 38]\n",
    "\n",
    "\n",
    "# _make() : 새로운 객체 생성 \n",
    "p4 = Point1._make(temp)\n",
    "print('EX4-1', p4)\n",
    "\n",
    "# _fields : 필드 네임 확인 \n",
    "print('EX4-2 -', p1._fields, p2._fields, p3._fields)\n",
    "\n",
    "# _asdict() : OrderedDict 로 반환 \n",
    "print('EX4-3', p1._asdict(), p2._asdict(), p4._asdict())\n",
    "\n",
    "\n",
    "# _replace() : 수정된 새로운 객체 반환 (아이디값이 바뀜), 튜플은 불변 \n",
    "\n",
    "print('EX4-4 -', p2._replace(y=100))\n",
    "\n"
   ]
  },
  {
   "cell_type": "code",
   "execution_count": 51,
   "metadata": {},
   "outputs": [
    {
     "name": "stdout",
     "output_type": "stream",
     "text": [
      "['1', '2', '3', '4', '5', '6', '7', '8', '9', '10', '11', '12', '13', '14', '15', '16', '17', '18', '19', '20']\n",
      "['A', 'B', 'C', 'D'] ['1', '2', '3', '4', '5', '6', '7', '8', '9', '10', '11', '12', '13', '14', '15', '16', '17', '18', '19', '20']\n",
      "[Classes(rank='A', number='1'), Classes(rank='A', number='2'), Classes(rank='A', number='3'), Classes(rank='A', number='4'), Classes(rank='A', number='5'), Classes(rank='A', number='6'), Classes(rank='A', number='7'), Classes(rank='A', number='8'), Classes(rank='A', number='9'), Classes(rank='A', number='10'), Classes(rank='A', number='11'), Classes(rank='A', number='12'), Classes(rank='A', number='13'), Classes(rank='A', number='14'), Classes(rank='A', number='15'), Classes(rank='A', number='16'), Classes(rank='A', number='17'), Classes(rank='A', number='18'), Classes(rank='A', number='19'), Classes(rank='A', number='20'), Classes(rank='B', number='1'), Classes(rank='B', number='2'), Classes(rank='B', number='3'), Classes(rank='B', number='4'), Classes(rank='B', number='5'), Classes(rank='B', number='6'), Classes(rank='B', number='7'), Classes(rank='B', number='8'), Classes(rank='B', number='9'), Classes(rank='B', number='10'), Classes(rank='B', number='11'), Classes(rank='B', number='12'), Classes(rank='B', number='13'), Classes(rank='B', number='14'), Classes(rank='B', number='15'), Classes(rank='B', number='16'), Classes(rank='B', number='17'), Classes(rank='B', number='18'), Classes(rank='B', number='19'), Classes(rank='B', number='20'), Classes(rank='C', number='1'), Classes(rank='C', number='2'), Classes(rank='C', number='3'), Classes(rank='C', number='4'), Classes(rank='C', number='5'), Classes(rank='C', number='6'), Classes(rank='C', number='7'), Classes(rank='C', number='8'), Classes(rank='C', number='9'), Classes(rank='C', number='10'), Classes(rank='C', number='11'), Classes(rank='C', number='12'), Classes(rank='C', number='13'), Classes(rank='C', number='14'), Classes(rank='C', number='15'), Classes(rank='C', number='16'), Classes(rank='C', number='17'), Classes(rank='C', number='18'), Classes(rank='C', number='19'), Classes(rank='C', number='20'), Classes(rank='D', number='1'), Classes(rank='D', number='2'), Classes(rank='D', number='3'), Classes(rank='D', number='4'), Classes(rank='D', number='5'), Classes(rank='D', number='6'), Classes(rank='D', number='7'), Classes(rank='D', number='8'), Classes(rank='D', number='9'), Classes(rank='D', number='10'), Classes(rank='D', number='11'), Classes(rank='D', number='12'), Classes(rank='D', number='13'), Classes(rank='D', number='14'), Classes(rank='D', number='15'), Classes(rank='D', number='16'), Classes(rank='D', number='17'), Classes(rank='D', number='18'), Classes(rank='D', number='19'), Classes(rank='D', number='20')]\n",
      "EX5-1 -  80\n",
      "EX5-2 -  [Classes(rank='A', number='1'), Classes(rank='A', number='2'), Classes(rank='A', number='3'), Classes(rank='A', number='4'), Classes(rank='A', number='5'), Classes(rank='A', number='6'), Classes(rank='A', number='7'), Classes(rank='A', number='8'), Classes(rank='A', number='9'), Classes(rank='A', number='10'), Classes(rank='A', number='11'), Classes(rank='A', number='12'), Classes(rank='A', number='13'), Classes(rank='A', number='14'), Classes(rank='A', number='15'), Classes(rank='A', number='16'), Classes(rank='A', number='17'), Classes(rank='A', number='18'), Classes(rank='A', number='19'), Classes(rank='A', number='20'), Classes(rank='B', number='1'), Classes(rank='B', number='2'), Classes(rank='B', number='3'), Classes(rank='B', number='4'), Classes(rank='B', number='5'), Classes(rank='B', number='6'), Classes(rank='B', number='7'), Classes(rank='B', number='8'), Classes(rank='B', number='9'), Classes(rank='B', number='10'), Classes(rank='B', number='11'), Classes(rank='B', number='12'), Classes(rank='B', number='13'), Classes(rank='B', number='14'), Classes(rank='B', number='15'), Classes(rank='B', number='16'), Classes(rank='B', number='17'), Classes(rank='B', number='18'), Classes(rank='B', number='19'), Classes(rank='B', number='20'), Classes(rank='C', number='1'), Classes(rank='C', number='2'), Classes(rank='C', number='3'), Classes(rank='C', number='4'), Classes(rank='C', number='5'), Classes(rank='C', number='6'), Classes(rank='C', number='7'), Classes(rank='C', number='8'), Classes(rank='C', number='9'), Classes(rank='C', number='10'), Classes(rank='C', number='11'), Classes(rank='C', number='12'), Classes(rank='C', number='13'), Classes(rank='C', number='14'), Classes(rank='C', number='15'), Classes(rank='C', number='16'), Classes(rank='C', number='17'), Classes(rank='C', number='18'), Classes(rank='C', number='19'), Classes(rank='C', number='20'), Classes(rank='D', number='1'), Classes(rank='D', number='2'), Classes(rank='D', number='3'), Classes(rank='D', number='4'), Classes(rank='D', number='5'), Classes(rank='D', number='6'), Classes(rank='D', number='7'), Classes(rank='D', number='8'), Classes(rank='D', number='9'), Classes(rank='D', number='10'), Classes(rank='D', number='11'), Classes(rank='D', number='12'), Classes(rank='D', number='13'), Classes(rank='D', number='14'), Classes(rank='D', number='15'), Classes(rank='D', number='16'), Classes(rank='D', number='17'), Classes(rank='D', number='18'), Classes(rank='D', number='19'), Classes(rank='D', number='20')]\n"
     ]
    }
   ],
   "source": [
    "# 실사용 실습 \n",
    "# 학생 전체 그룹 새엇ㅇ\n",
    "# 반20명, 4개의 반 -> (A, B, C, D) 번호 \n",
    "\n",
    "# 네임드 튜플 선언 \n",
    "\n",
    "Classes = namedtuple('Classes', ['rank', 'number'])\n",
    "\n",
    "# 그룹 리스트 선언 \n",
    "# 지능형 리스트 (List Comprehension) \n",
    "numbers = [str(n) for n in range(1, 21)]\n",
    "print(numbers)\n",
    "\n",
    "ranks = 'A B C D'.split()\n",
    "\n",
    "print(rank, numbers)\n",
    "\n",
    "# List Comprehension 사용 \n",
    "\n",
    "students = [Classes(rank, number) for rank in ranks for number in numbers]\n",
    "\n",
    "print(students)\n",
    "\n",
    "\n",
    "print('EX5-1 - ', len(students))\n",
    "\n",
    "print('EX5-2 - ', students)\n"
   ]
  },
  {
   "cell_type": "code",
   "execution_count": 55,
   "metadata": {},
   "outputs": [
    {
     "name": "stdout",
     "output_type": "stream",
     "text": [
      "[Classes(rank='A', number='1'), Classes(rank='A', number='2'), Classes(rank='A', number='3'), Classes(rank='A', number='4'), Classes(rank='A', number='5'), Classes(rank='A', number='6'), Classes(rank='A', number='7'), Classes(rank='A', number='8'), Classes(rank='A', number='9'), Classes(rank='A', number='10'), Classes(rank='A', number='11'), Classes(rank='A', number='12'), Classes(rank='A', number='13'), Classes(rank='A', number='14'), Classes(rank='A', number='15'), Classes(rank='A', number='16'), Classes(rank='A', number='17'), Classes(rank='A', number='18'), Classes(rank='A', number='19'), Classes(rank='A', number='20'), Classes(rank='B', number='1'), Classes(rank='B', number='2'), Classes(rank='B', number='3'), Classes(rank='B', number='4'), Classes(rank='B', number='5'), Classes(rank='B', number='6'), Classes(rank='B', number='7'), Classes(rank='B', number='8'), Classes(rank='B', number='9'), Classes(rank='B', number='10'), Classes(rank='B', number='11'), Classes(rank='B', number='12'), Classes(rank='B', number='13'), Classes(rank='B', number='14'), Classes(rank='B', number='15'), Classes(rank='B', number='16'), Classes(rank='B', number='17'), Classes(rank='B', number='18'), Classes(rank='B', number='19'), Classes(rank='B', number='20'), Classes(rank='C', number='1'), Classes(rank='C', number='2'), Classes(rank='C', number='3'), Classes(rank='C', number='4'), Classes(rank='C', number='5'), Classes(rank='C', number='6'), Classes(rank='C', number='7'), Classes(rank='C', number='8'), Classes(rank='C', number='9'), Classes(rank='C', number='10'), Classes(rank='C', number='11'), Classes(rank='C', number='12'), Classes(rank='C', number='13'), Classes(rank='C', number='14'), Classes(rank='C', number='15'), Classes(rank='C', number='16'), Classes(rank='C', number='17'), Classes(rank='C', number='18'), Classes(rank='C', number='19'), Classes(rank='C', number='20'), Classes(rank='D', number='1'), Classes(rank='D', number='2'), Classes(rank='D', number='3'), Classes(rank='D', number='4'), Classes(rank='D', number='5'), Classes(rank='D', number='6'), Classes(rank='D', number='7'), Classes(rank='D', number='8'), Classes(rank='D', number='9'), Classes(rank='D', number='10'), Classes(rank='D', number='11'), Classes(rank='D', number='12'), Classes(rank='D', number='13'), Classes(rank='D', number='14'), Classes(rank='D', number='15'), Classes(rank='D', number='16'), Classes(rank='D', number='17'), Classes(rank='D', number='18'), Classes(rank='D', number='19'), Classes(rank='D', number='20')]\n"
     ]
    }
   ],
   "source": [
    "# 가독성 x \n",
    "\n",
    "students2 = [Classes(rank, number) \n",
    "             for rank in 'A B C D'.split() \n",
    "                 for number in [str(n) for n in range(1,21)]]\n",
    "print(students2)"
   ]
  },
  {
   "cell_type": "code",
   "execution_count": 56,
   "metadata": {},
   "outputs": [
    {
     "name": "stdout",
     "output_type": "stream",
     "text": [
      "Ex7-1 Classes(rank='A', number='1')\n",
      "Ex7-1 Classes(rank='A', number='2')\n",
      "Ex7-1 Classes(rank='A', number='3')\n",
      "Ex7-1 Classes(rank='A', number='4')\n",
      "Ex7-1 Classes(rank='A', number='5')\n",
      "Ex7-1 Classes(rank='A', number='6')\n",
      "Ex7-1 Classes(rank='A', number='7')\n",
      "Ex7-1 Classes(rank='A', number='8')\n",
      "Ex7-1 Classes(rank='A', number='9')\n",
      "Ex7-1 Classes(rank='A', number='10')\n",
      "Ex7-1 Classes(rank='A', number='11')\n",
      "Ex7-1 Classes(rank='A', number='12')\n",
      "Ex7-1 Classes(rank='A', number='13')\n",
      "Ex7-1 Classes(rank='A', number='14')\n",
      "Ex7-1 Classes(rank='A', number='15')\n",
      "Ex7-1 Classes(rank='A', number='16')\n",
      "Ex7-1 Classes(rank='A', number='17')\n",
      "Ex7-1 Classes(rank='A', number='18')\n",
      "Ex7-1 Classes(rank='A', number='19')\n",
      "Ex7-1 Classes(rank='A', number='20')\n",
      "Ex7-1 Classes(rank='B', number='1')\n",
      "Ex7-1 Classes(rank='B', number='2')\n",
      "Ex7-1 Classes(rank='B', number='3')\n",
      "Ex7-1 Classes(rank='B', number='4')\n",
      "Ex7-1 Classes(rank='B', number='5')\n",
      "Ex7-1 Classes(rank='B', number='6')\n",
      "Ex7-1 Classes(rank='B', number='7')\n",
      "Ex7-1 Classes(rank='B', number='8')\n",
      "Ex7-1 Classes(rank='B', number='9')\n",
      "Ex7-1 Classes(rank='B', number='10')\n",
      "Ex7-1 Classes(rank='B', number='11')\n",
      "Ex7-1 Classes(rank='B', number='12')\n",
      "Ex7-1 Classes(rank='B', number='13')\n",
      "Ex7-1 Classes(rank='B', number='14')\n",
      "Ex7-1 Classes(rank='B', number='15')\n",
      "Ex7-1 Classes(rank='B', number='16')\n",
      "Ex7-1 Classes(rank='B', number='17')\n",
      "Ex7-1 Classes(rank='B', number='18')\n",
      "Ex7-1 Classes(rank='B', number='19')\n",
      "Ex7-1 Classes(rank='B', number='20')\n",
      "Ex7-1 Classes(rank='C', number='1')\n",
      "Ex7-1 Classes(rank='C', number='2')\n",
      "Ex7-1 Classes(rank='C', number='3')\n",
      "Ex7-1 Classes(rank='C', number='4')\n",
      "Ex7-1 Classes(rank='C', number='5')\n",
      "Ex7-1 Classes(rank='C', number='6')\n",
      "Ex7-1 Classes(rank='C', number='7')\n",
      "Ex7-1 Classes(rank='C', number='8')\n",
      "Ex7-1 Classes(rank='C', number='9')\n",
      "Ex7-1 Classes(rank='C', number='10')\n",
      "Ex7-1 Classes(rank='C', number='11')\n",
      "Ex7-1 Classes(rank='C', number='12')\n",
      "Ex7-1 Classes(rank='C', number='13')\n",
      "Ex7-1 Classes(rank='C', number='14')\n",
      "Ex7-1 Classes(rank='C', number='15')\n",
      "Ex7-1 Classes(rank='C', number='16')\n",
      "Ex7-1 Classes(rank='C', number='17')\n",
      "Ex7-1 Classes(rank='C', number='18')\n",
      "Ex7-1 Classes(rank='C', number='19')\n",
      "Ex7-1 Classes(rank='C', number='20')\n",
      "Ex7-1 Classes(rank='D', number='1')\n",
      "Ex7-1 Classes(rank='D', number='2')\n",
      "Ex7-1 Classes(rank='D', number='3')\n",
      "Ex7-1 Classes(rank='D', number='4')\n",
      "Ex7-1 Classes(rank='D', number='5')\n",
      "Ex7-1 Classes(rank='D', number='6')\n",
      "Ex7-1 Classes(rank='D', number='7')\n",
      "Ex7-1 Classes(rank='D', number='8')\n",
      "Ex7-1 Classes(rank='D', number='9')\n",
      "Ex7-1 Classes(rank='D', number='10')\n",
      "Ex7-1 Classes(rank='D', number='11')\n",
      "Ex7-1 Classes(rank='D', number='12')\n",
      "Ex7-1 Classes(rank='D', number='13')\n",
      "Ex7-1 Classes(rank='D', number='14')\n",
      "Ex7-1 Classes(rank='D', number='15')\n",
      "Ex7-1 Classes(rank='D', number='16')\n",
      "Ex7-1 Classes(rank='D', number='17')\n",
      "Ex7-1 Classes(rank='D', number='18')\n",
      "Ex7-1 Classes(rank='D', number='19')\n",
      "Ex7-1 Classes(rank='D', number='20')\n"
     ]
    }
   ],
   "source": [
    "# 출력 \n",
    "\n",
    "for s in students:\n",
    "    print('Ex7-1', s)"
   ]
  },
  {
   "cell_type": "code",
   "execution_count": null,
   "metadata": {},
   "outputs": [],
   "source": []
  },
  {
   "cell_type": "code",
   "execution_count": null,
   "metadata": {},
   "outputs": [],
   "source": []
  },
  {
   "cell_type": "code",
   "execution_count": null,
   "metadata": {},
   "outputs": [],
   "source": []
  },
  {
   "cell_type": "code",
   "execution_count": null,
   "metadata": {},
   "outputs": [],
   "source": []
  },
  {
   "cell_type": "code",
   "execution_count": null,
   "metadata": {},
   "outputs": [],
   "source": []
  }
 ],
 "metadata": {
  "kernelspec": {
   "display_name": "Python 3",
   "language": "python",
   "name": "python3"
  },
  "language_info": {
   "codemirror_mode": {
    "name": "ipython",
    "version": 3
   },
   "file_extension": ".py",
   "mimetype": "text/x-python",
   "name": "python",
   "nbconvert_exporter": "python",
   "pygments_lexer": "ipython3",
   "version": "3.8.0"
  }
 },
 "nbformat": 4,
 "nbformat_minor": 4
}
