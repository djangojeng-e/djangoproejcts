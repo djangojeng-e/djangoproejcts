{
 "cells": [
  {
   "cell_type": "code",
   "execution_count": 1,
   "metadata": {},
   "outputs": [
    {
     "name": "stdout",
     "output_type": "stream",
     "text": [
      "값은 10입니다\n"
     ]
    }
   ],
   "source": [
    "a = 10 \n",
    "if(a > 10):\n",
    "    print(\"값은 10보다 큽니다\")\n",
    "else:\n",
    "    print(\"값은 10입니다\")"
   ]
  },
  {
   "cell_type": "code",
   "execution_count": 2,
   "metadata": {},
   "outputs": [
    {
     "name": "stdout",
     "output_type": "stream",
     "text": [
      "b 는 복소수 입니다\n"
     ]
    }
   ],
   "source": [
    "b = 1 + 2j \n",
    "if (type(b) == int):\n",
    "    print(\"b 는 정수 입니다\")\n",
    "elif (type(b) == float):\n",
    "    print(\"b 는 실수 입니다\")\n",
    "elif (type(b) == complex):\n",
    "    print(\"b 는 복소수 입니다\")\n",
    "elif (type(b) == bool):\n",
    "    print(\"b 는 불리언 입니다\")\n",
    "elif (type(b) == str):\n",
    "    print(\"b 는 문자열 입니다\")\n",
    "elif (type(b) == tuple):\n",
    "    print(\"b 는 튜플 입니다\")\n",
    "elif (type(b) == dict):\n",
    "    print(\"b 는 사전 입니다\")\n",
    "elif (type(b) == list):\n",
    "    print(\"b 는 리스트 입니다\")\n",
    "else:\n",
    "    print(\"b 의 타입은 모르는 타입입니다\")"
   ]
  },
  {
   "cell_type": "code",
   "execution_count": 3,
   "metadata": {},
   "outputs": [
    {
     "name": "stdout",
     "output_type": "stream",
     "text": [
      "놀이기구에 탈수 있는 나이 입니다\n",
      "일반 사용료는 18,000원 입니다\n"
     ]
    }
   ],
   "source": [
    "age = 35\n",
    "if (age >= 11):\n",
    "    print(\"놀이기구에 탈수 있는 나이 입니다\")\n",
    "    if (age <= 20 or age >= 60):\n",
    "        print(\"청소년과 노약자의 사용료는 12,000원 입니다\")\n",
    "    else:\n",
    "        print(\"일반 사용료는 18,000원 입니다\")\n",
    "else:\n",
    "    print(\"11세 미만인 나이이므로, 놀이기구 사용을 할수 없습니다\")"
   ]
  },
  {
   "cell_type": "code",
   "execution_count": 4,
   "metadata": {},
   "outputs": [
    {
     "name": "stdout",
     "output_type": "stream",
     "text": [
      "x 는 False 혹은 y 가 False 입니다. 그렇지 않다면 x 와 y 둘다 False 입니다\n"
     ]
    }
   ],
   "source": [
    "# if 문 안에 and 연산자 사용하기 \n",
    "x = False \n",
    "y = True \n",
    "\n",
    "# x 와 y 둘다 True 일때, x and y 는 True 로 평가됩니다. \n",
    "if (x and y):\n",
    "    print('x 와 y 둘다 True 입니다')\n",
    "else:\n",
    "    print('x 는 False 혹은 y 가 False 입니다. 그렇지 않다면 x 와 y 둘다 False 입니다')"
   ]
  },
  {
   "cell_type": "code",
   "execution_count": 5,
   "metadata": {},
   "outputs": [
    {
     "name": "stdout",
     "output_type": "stream",
     "text": [
      "Django Framework\n",
      "Django Framework\n"
     ]
    }
   ],
   "source": [
    "# in 연산자를 if 문에 사용하기 \n",
    "# 문자열 생성 \n",
    "s = 'Django'\n",
    "\n",
    "# 리스트 생성 \n",
    "frameworks = ['Django', 'Flask', 'Tornado']\n",
    "\n",
    "# s 가 frameworks 안에 있는지 in 연산자를 사용하여 확인할수 있습니다. \n",
    "\n",
    "if s in frameworks:\n",
    "    print(s + ' Framework')\n",
    "    \n",
    "# 혹은, if 문을 or 연산자를 사용하여 사용할수도 있습니다. \n",
    "if s == 'Django' or s == 'Flask' or s == 'Tornado':\n",
    "    print(s + ' Framework')\n"
   ]
  },
  {
   "cell_type": "code",
   "execution_count": 6,
   "metadata": {},
   "outputs": [
    {
     "name": "stdout",
     "output_type": "stream",
     "text": [
      "150\n",
      "21.428571428571427\n"
     ]
    }
   ],
   "source": [
    "# if-else 를 한줄로 작성하기 \n",
    "# 정수를 하나 생성하기 \n",
    "n = 150 \n",
    "print(n)\n",
    "\n",
    "# n 이 500 보다 크면, n 은 7로 곱해집니다 \n",
    "# 그렇지 않다면, 7 로 나누어집니다. \n",
    "result = n * 7 if n > 500 else n / 7\n",
    "print(result)"
   ]
  },
  {
   "cell_type": "code",
   "execution_count": null,
   "metadata": {},
   "outputs": [],
   "source": [
    "# not 을 사용하여 논리 값을 반대로 바꿀수 있습니다. \n",
    "# 정수를 하나 생성하기 \n",
    "x = 20 \n",
    "print(x)\n",
    "\n",
    "# not 연산자는, 조건값을 반대로 만듭니다 \n",
    "\n",
    "if not x == 50:   # x == 50 은 False 를 만들지만, 앞에 not 이 붙어 있기 때문에, if 는 True 가 됩니다 \n",
    "    print(\"값은 50과 다릅니다\")\n",
    "else:\n",
    "    print(\"x의 값은 50과 같습니다\")"
   ]
  }
 ],
 "metadata": {
  "kernelspec": {
   "display_name": "Python 3",
   "language": "python",
   "name": "python3"
  },
  "language_info": {
   "codemirror_mode": {
    "name": "ipython",
    "version": 3
   },
   "file_extension": ".py",
   "mimetype": "text/x-python",
   "name": "python",
   "nbconvert_exporter": "python",
   "pygments_lexer": "ipython3",
   "version": "3.8.0"
  }
 },
 "nbformat": 4,
 "nbformat_minor": 4
}
