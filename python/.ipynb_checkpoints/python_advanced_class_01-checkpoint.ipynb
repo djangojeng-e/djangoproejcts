{
 "cells": [
  {
   "cell_type": "code",
   "execution_count": 1,
   "metadata": {},
   "outputs": [],
   "source": [
    "# Pythonic 한 코드가 가능해지는 advanced 과정 시작 \n",
    "# PYTHON - OOP \n",
    "\n",
    "# 객체지향 vs 절차지향 \n",
    "\n",
    "\n",
    "# OOP 의 장점 \n",
    "\n",
    "\n",
    "# 절차 지향 코딩 \n"
   ]
  },
  {
   "cell_type": "code",
   "execution_count": 3,
   "metadata": {},
   "outputs": [],
   "source": [
    "# chapter01-1 \n",
    "# 파이썬 심화 \n",
    "# 객체 지향 프로그래밍 (OOP) -> 코드의 재사용, 코드 중복 방지 등등 \n"
   ]
  },
  {
   "cell_type": "code",
   "execution_count": 4,
   "metadata": {},
   "outputs": [],
   "source": [
    "# 클래스 상세 설명 \n",
    "# 클래스 변수, 인스턴스 변수 "
   ]
  },
  {
   "cell_type": "code",
   "execution_count": 5,
   "metadata": {},
   "outputs": [],
   "source": [
    "# 절차지향 프로그래밍 \n",
    "# 위에서부터 아래로 코드를 읽어 실행되면서 진행되는 프로그램 \n",
    "# 실행속도가 빠름 \n",
    "# 단점, 위에서부터 아래로 몇천줄 짜리 코드를 만나면 유지 보수가 어려워 짐 \n",
    "# 디버깅도 어려워짐 \n"
   ]
  },
  {
   "cell_type": "code",
   "execution_count": 6,
   "metadata": {},
   "outputs": [],
   "source": [
    "# 절차지향 프로그램의 예 \n",
    "# 일반적인 코드 \n",
    "\n",
    "# 학생 1 \n",
    "\n",
    "student_name_1 = 'Kim'\n",
    "student_number_1 = 1 \n",
    "student_grade_1 = 1 \n",
    "student_detail_1 = [\n",
    "    {'gender': 'Male'},\n",
    "    {'score1': 95},\n",
    "    {'score2': 88}\n",
    "]\n",
    "\n",
    "# 학생 2 \n",
    "\n",
    "student_name_2 = 'Kim'\n",
    "student_number_2 = 2 \n",
    "student_grade_2 = 2 \n",
    "student_detail_2 = [\n",
    "    {'gender': 'Female'},\n",
    "    {'score1': 77},\n",
    "    {'score2': 92}\n",
    "]\n",
    "\n",
    "\n",
    "# 학생 3\n",
    "\n",
    "student_name_3 = 'Park'\n",
    "student_number_3 = 3 \n",
    "student_grade_3 = 3 \n",
    "student_detail_3 = [\n",
    "    {'gender': 'Male'},\n",
    "    {'score1': 99},\n",
    "    {'score2': 100}\n",
    "]\n",
    "\n",
    "\n",
    "# 목적이 매우 간단한 기기들은 절차지향 프로그래밍 방식으로 프로그래밍 되어 있음 \n",
    "# 범용으로, 데이터를 담아서 사용해야 하는 프로그램들은 객체 지향이 상대적으로 더 용이함 \n",
    "\n",
    "# 위 코드에서 느껴지듯이, 절차지향 프로그래밍으로 코드를 사용하면, 상당히 코드가 길어지기도 하고. \n",
    "# 복잡해 진다 "
   ]
  },
  {
   "cell_type": "code",
   "execution_count": null,
   "metadata": {},
   "outputs": [],
   "source": []
  }
 ],
 "metadata": {
  "kernelspec": {
   "display_name": "Python 3",
   "language": "python",
   "name": "python3"
  },
  "language_info": {
   "codemirror_mode": {
    "name": "ipython",
    "version": 3
   },
   "file_extension": ".py",
   "mimetype": "text/x-python",
   "name": "python",
   "nbconvert_exporter": "python",
   "pygments_lexer": "ipython3",
   "version": "3.8.0"
  }
 },
 "nbformat": 4,
 "nbformat_minor": 4
}
