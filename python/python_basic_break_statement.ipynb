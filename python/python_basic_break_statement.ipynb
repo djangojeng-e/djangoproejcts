{
 "cells": [
  {
   "cell_type": "code",
   "execution_count": 1,
   "metadata": {},
   "outputs": [
    {
     "name": "stdout",
     "output_type": "stream",
     "text": [
      "처음 5 번째 숫자의 합계는 15 입니다.\n"
     ]
    }
   ],
   "source": [
    "# for loop 안의 break 문 \n",
    "numbers = (1, 2, 3, 4, 5, 6, 7, 8, 9)\n",
    "num_sum = 0 \n",
    "count = 0 \n",
    "for x in numbers:\n",
    "    num_sum = num_sum + x \n",
    "    count = count + 1 \n",
    "    if count == 5:\n",
    "        break \n",
    "print(\"처음 {} 번째 숫자의 합계는 {} 입니다.\".format(count, num_sum))"
   ]
  },
  {
   "cell_type": "code",
   "execution_count": 2,
   "metadata": {},
   "outputs": [
    {
     "name": "stdout",
     "output_type": "stream",
     "text": [
      "처음 5 번째 숫자의 합계는 10 입니다.\n"
     ]
    }
   ],
   "source": [
    "# while loop 안의 break 문 \n",
    "num_sum = 0 \n",
    "count = 0 \n",
    "while(count < 10):\n",
    "    num_sum = num_sum + count \n",
    "    count = count + 1 \n",
    "    if count == 5:\n",
    "        break \n",
    "print(\"처음 {} 번째 숫자의 합계는 {} 입니다.\".format(count,num_sum))"
   ]
  },
  {
   "cell_type": "code",
   "execution_count": 5,
   "metadata": {},
   "outputs": [
    {
     "name": "stdout",
     "output_type": "stream",
     "text": [
      "0\n",
      "1\n",
      "2\n",
      "4\n",
      "5\n"
     ]
    }
   ],
   "source": [
    "# continue 문 \n",
    "for x in range(0, 7):\n",
    "    if (x == 3 or x == 6):  \n",
    "        continue             \n",
    "        # x가 3 혹은 6이면, continue 문 밑에 있는 print(x)를 실행시키지 않고, \n",
    "        # 넘어가게 된다.\n",
    "    print(x)"
   ]
  },
  {
   "cell_type": "code",
   "execution_count": null,
   "metadata": {},
   "outputs": [],
   "source": []
  }
 ],
 "metadata": {
  "kernelspec": {
   "display_name": "Python 3",
   "language": "python",
   "name": "python3"
  },
  "language_info": {
   "codemirror_mode": {
    "name": "ipython",
    "version": 3
   },
   "file_extension": ".py",
   "mimetype": "text/x-python",
   "name": "python",
   "nbconvert_exporter": "python",
   "pygments_lexer": "ipython3",
   "version": "3.8.0"
  }
 },
 "nbformat": 4,
 "nbformat_minor": 4
}
