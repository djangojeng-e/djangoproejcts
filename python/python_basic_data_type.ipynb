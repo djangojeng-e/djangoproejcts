{
 "cells": [
  {
   "cell_type": "code",
   "execution_count": 5,
   "metadata": {},
   "outputs": [
    {
     "name": "stdout",
     "output_type": "stream",
     "text": [
      "<class 'int'>\n",
      "<class 'int'>\n",
      "<class 'int'>\n"
     ]
    }
   ],
   "source": [
    "# 숫자형, 정수, integers \n",
    "a = 1218 \n",
    "print(type(a))\n",
    "\n",
    "b = -4212\n",
    "print(type(b))\n",
    "\n",
    "c = 0 \n",
    "print(type(c))"
   ]
  },
  {
   "cell_type": "code",
   "execution_count": 10,
   "metadata": {},
   "outputs": [
    {
     "name": "stdout",
     "output_type": "stream",
     "text": [
      "<class 'float'>\n",
      "<class 'float'>\n",
      "0.34\n",
      "<class 'float'>\n",
      "2.12e-10\n",
      "<class 'float'>\n",
      "5e+220\n",
      "<class 'float'>\n"
     ]
    }
   ],
   "source": [
    "# 숫자형, 실수, float \n",
    "g = 1.05\n",
    "print(type(g))\n",
    "\n",
    "h = -11.23\n",
    "print(type(h))\n",
    "\n",
    "i = .34\n",
    "\n",
    "print(i)\n",
    "print(type(i))\n",
    "\n",
    "j = 2.12e-10\n",
    "print(j)\n",
    "print(type(j))\n",
    "\n",
    "k = 5E220\n",
    "print(k)\n",
    "print(type(k))"
   ]
  },
  {
   "cell_type": "code",
   "execution_count": 11,
   "metadata": {},
   "outputs": [
    {
     "name": "stdout",
     "output_type": "stream",
     "text": [
      "15\n",
      "1\n",
      "1.1428571428571428\n",
      "56\n"
     ]
    }
   ],
   "source": [
    "# 숫자형 데이터의 연산 예시 \n",
    "# 실수와 정수 \n",
    "x = 8 \n",
    "y = 7 \n",
    "\n",
    "print(x + y)\n",
    "print(x - y)\n",
    "print(x / y)\n",
    "print(x * y)"
   ]
  },
  {
   "cell_type": "code",
   "execution_count": 12,
   "metadata": {},
   "outputs": [
    {
     "name": "stdout",
     "output_type": "stream",
     "text": [
      "64\n",
      "81\n"
     ]
    }
   ],
   "source": [
    "# 지수 exponentials \n",
    "x = 4 ** 3 \n",
    "y = 3 ** 4 \n",
    "print(x)\n",
    "print(y)"
   ]
  },
  {
   "cell_type": "code",
   "execution_count": 13,
   "metadata": {},
   "outputs": [
    {
     "name": "stdout",
     "output_type": "stream",
     "text": [
      "4.0\n",
      "16\n",
      "5\n"
     ]
    }
   ],
   "source": [
    "# 나누기 division \n",
    "# // \n",
    "print(12 / 3)\n",
    "print(64 // 4)\n",
    "print(15 // 3)"
   ]
  },
  {
   "cell_type": "code",
   "execution_count": 14,
   "metadata": {},
   "outputs": [
    {
     "name": "stdout",
     "output_type": "stream",
     "text": [
      "3\n"
     ]
    }
   ],
   "source": [
    "# 나머지값 remainder \n",
    "# % \n",
    "print(15 % 4)"
   ]
  },
  {
   "cell_type": "code",
   "execution_count": 16,
   "metadata": {},
   "outputs": [
    {
     "name": "stdout",
     "output_type": "stream",
     "text": [
      "<class 'complex'>\n",
      "(1+3j)\n",
      "(1+2j)\n",
      "<class 'complex'>\n",
      "(1+3j)\n",
      "<class 'complex'>\n"
     ]
    }
   ],
   "source": [
    "# 복소수 complex \n",
    "x = complex(1, 3)\n",
    "print(type(x))\n",
    "\n",
    "print(x)\n",
    "\n",
    "z = 1 + 2j\n",
    "print(z)\n",
    "print(type(z))\n",
    "\n",
    "z = 1 + 3J \n",
    "print(z)\n",
    "print(type(z))"
   ]
  },
  {
   "cell_type": "code",
   "execution_count": 19,
   "metadata": {},
   "outputs": [
    {
     "name": "stdout",
     "output_type": "stream",
     "text": [
      "<class 'bool'>\n",
      "<class 'bool'>\n"
     ]
    }
   ],
   "source": [
    "x = True \n",
    "print(type(x))\n",
    "\n",
    "y = False\n",
    "print(type(y))"
   ]
  },
  {
   "cell_type": "code",
   "execution_count": 20,
   "metadata": {},
   "outputs": [
    {
     "name": "stdout",
     "output_type": "stream",
     "text": [
      "Django\n",
      "<class 'str'>\n"
     ]
    }
   ],
   "source": [
    "# \"\" 쌍따옴표로 감싸진 문자열 txt \n",
    "txt1 = \"Django\"\n",
    "print(txt1)\n",
    "print(type(txt1))"
   ]
  },
  {
   "cell_type": "code",
   "execution_count": 21,
   "metadata": {},
   "outputs": [
    {
     "name": "stdout",
     "output_type": "stream",
     "text": [
      "Django\n",
      "<class 'str'>\n"
     ]
    }
   ],
   "source": [
    "# '' 외따옴표로 감싸진 문자열 txt \n",
    "txt1 = 'Django'\n",
    "print(txt1)\n",
    "print(type(txt1))"
   ]
  },
  {
   "cell_type": "code",
   "execution_count": 22,
   "metadata": {},
   "outputs": [
    {
     "name": "stdout",
     "output_type": "stream",
     "text": [
      "Django\n",
      "<class 'str'>\n",
      "Django\n",
      "<class 'str'>\n"
     ]
    }
   ],
   "source": [
    "# '''''' 혹은 \"\"\"\"\"\" 로 감싸진 문자열 \n",
    "# ' 3개 혹은 \" 3개를 사용해서 감싸면, 다수의 줄을 가지는 문자열을 선언할수 있다. \n",
    "txt1 = '''Django'''\n",
    "print(txt1)\n",
    "print(type(txt1))\n",
    "\n",
    "txt1 = \"\"\"Django\"\"\"\n",
    "print(txt1)\n",
    "print(type(txt1))\n"
   ]
  },
  {
   "cell_type": "code",
   "execution_count": 23,
   "metadata": {},
   "outputs": [
    {
     "ename": "SyntaxError",
     "evalue": "EOL while scanning string literal (<ipython-input-23-b74d6ccbe937>, line 4)",
     "output_type": "error",
     "traceback": [
      "\u001b[0;36m  File \u001b[0;32m\"<ipython-input-23-b74d6ccbe937>\"\u001b[0;36m, line \u001b[0;32m4\u001b[0m\n\u001b[0;31m    txt = \"Django'\u001b[0m\n\u001b[0m                   ^\u001b[0m\n\u001b[0;31mSyntaxError\u001b[0m\u001b[0;31m:\u001b[0m EOL while scanning string literal\n"
     ]
    }
   ],
   "source": [
    "# \" 로 시작하여, ' 로 끝납니다. \n",
    "# 이는 에러를 발생 시킵니다. \n",
    "\n",
    "txt = \"Django' \n"
   ]
  },
  {
   "cell_type": "code",
   "execution_count": 24,
   "metadata": {},
   "outputs": [
    {
     "ename": "SyntaxError",
     "evalue": "invalid syntax (<ipython-input-24-e8fc7cc3ecef>, line 3)",
     "output_type": "error",
     "traceback": [
      "\u001b[0;36m  File \u001b[0;32m\"<ipython-input-24-e8fc7cc3ecef>\"\u001b[0;36m, line \u001b[0;32m3\u001b[0m\n\u001b[0;31m    txt = \"Django day\"s great\"\u001b[0m\n\u001b[0m                      ^\u001b[0m\n\u001b[0;31mSyntaxError\u001b[0m\u001b[0;31m:\u001b[0m invalid syntax\n"
     ]
    }
   ],
   "source": [
    "# \"\" 안에 또다른 \" 를 가질수 없습니다 \n",
    "# 이는 에러를 일으킵니다. \n",
    "txt = \"Django day\"s great\""
   ]
  },
  {
   "cell_type": "code",
   "execution_count": 26,
   "metadata": {},
   "outputs": [
    {
     "ename": "SyntaxError",
     "evalue": "invalid syntax (<ipython-input-26-a889d5e50111>, line 3)",
     "output_type": "error",
     "traceback": [
      "\u001b[0;36m  File \u001b[0;32m\"<ipython-input-26-a889d5e50111>\"\u001b[0;36m, line \u001b[0;32m3\u001b[0m\n\u001b[0;31m    txt = 'Django day's great'\u001b[0m\n\u001b[0m                      ^\u001b[0m\n\u001b[0;31mSyntaxError\u001b[0m\u001b[0;31m:\u001b[0m invalid syntax\n"
     ]
    }
   ],
   "source": [
    "# '' 안에 또다른 '' 를 가질수 없습니다 \n",
    "# 이는 에러를 일으킵니다. \n",
    "txt = 'Django day's great'"
   ]
  },
  {
   "cell_type": "code",
   "execution_count": 27,
   "metadata": {},
   "outputs": [
    {
     "name": "stdout",
     "output_type": "stream",
     "text": [
      "Django's day is great!\n",
      "<class 'str'>\n"
     ]
    }
   ],
   "source": [
    "# \"\" 안에 따옴표를 사용하려면 ' 를 사용하여 중복사용을 피해야 합니다. \n",
    "txt = \"Django's day is great!\"\n",
    "print(txt)\n",
    "print(type(txt))"
   ]
  },
  {
   "cell_type": "code",
   "execution_count": 29,
   "metadata": {},
   "outputs": [
    {
     "name": "stdout",
     "output_type": "stream",
     "text": [
      "백슬레쉬 그 자체를 (\\) 출력\n",
      "이것이 탭을\t 사용한것입니다 \n",
      "이것이 '외따옴표'의 활용 입니다\n",
      "이것이 \"쌍따옴표\"의 활용 입니다\n",
      "새로운줄을\n",
      " 만듭니다\n"
     ]
    }
   ],
   "source": [
    "# \\ 백슬레쉬를 사용한 특수문자, special characters\n",
    "print(\"백슬레쉬 그 자체를 (\\\\) 출력\")\n",
    "\n",
    "# tab key \n",
    "print(\"이것이 탭을\\t 사용한것입니다 \")\n",
    "\n",
    "# 외따옴표 \n",
    "print(\"이것이 \\'외따옴표\\'의 활용 입니다\")\n",
    "\n",
    "# 쌍따옴표 \n",
    "print(\"이것이 \\\"쌍따옴표\\\"의 활용 입니다\")\n",
    "\n",
    "# 새로운 줄 \n",
    "print(\"새로운줄을\\n 만듭니다\")"
   ]
  },
  {
   "cell_type": "code",
   "execution_count": 32,
   "metadata": {},
   "outputs": [
    {
     "name": "stdout",
     "output_type": "stream",
     "text": [
      "D\n",
      "j\n",
      "a\n",
      "n\n",
      "g\n",
      "o\n",
      "\n",
      "o\n",
      "g\n",
      "n\n",
      "a\n",
      "j\n",
      "D\n"
     ]
    }
   ],
   "source": [
    "# 인덱싱값을 사용하여, 문자열의 요소들에 접근할수 있습니다. \n",
    "text = \"Django\"\n",
    "\n",
    "# 왼쪽에서부터 시작했을경우 \n",
    "print(text[0])\n",
    "print(text[1])\n",
    "print(text[2])\n",
    "print(text[3])\n",
    "print(text[4])\n",
    "print(text[5])\n",
    "print()\n",
    "\n",
    "# 오른쪽에서부터 시작할경우 \n",
    "print(text[-1])\n",
    "print(text[-2])\n",
    "print(text[-3])\n",
    "print(text[-4])\n",
    "print(text[-5])\n",
    "print(text[-6])\n"
   ]
  },
  {
   "cell_type": "code",
   "execution_count": 33,
   "metadata": {},
   "outputs": [
    {
     "ename": "IndexError",
     "evalue": "string index out of range",
     "output_type": "error",
     "traceback": [
      "\u001b[0;31m---------------------------------------------------------------------------\u001b[0m",
      "\u001b[0;31mIndexError\u001b[0m                                Traceback (most recent call last)",
      "\u001b[0;32m<ipython-input-33-5f97d64df6fd>\u001b[0m in \u001b[0;36m<module>\u001b[0;34m\u001b[0m\n\u001b[1;32m      1\u001b[0m \u001b[0;31m# -7 번째 인덱스는 존재하지 않으므로, 에러를 발생 시킵니다\u001b[0m\u001b[0;34m\u001b[0m\u001b[0;34m\u001b[0m\u001b[0;34m\u001b[0m\u001b[0m\n\u001b[1;32m      2\u001b[0m \u001b[0mtext\u001b[0m \u001b[0;34m=\u001b[0m \u001b[0;34m\"Django\"\u001b[0m\u001b[0;34m\u001b[0m\u001b[0;34m\u001b[0m\u001b[0m\n\u001b[0;32m----> 3\u001b[0;31m \u001b[0mprint\u001b[0m\u001b[0;34m(\u001b[0m\u001b[0mtext\u001b[0m\u001b[0;34m[\u001b[0m\u001b[0;34m-\u001b[0m\u001b[0;36m7\u001b[0m\u001b[0;34m]\u001b[0m\u001b[0;34m)\u001b[0m\u001b[0;34m\u001b[0m\u001b[0;34m\u001b[0m\u001b[0m\n\u001b[0m",
      "\u001b[0;31mIndexError\u001b[0m: string index out of range"
     ]
    }
   ],
   "source": [
    "# -7 번째 인덱스는 존재하지 않으므로, 에러를 발생 시킵니다 \n",
    "text = \"Django\"\n",
    "print(text[-7])"
   ]
  },
  {
   "cell_type": "code",
   "execution_count": 34,
   "metadata": {},
   "outputs": [
    {
     "ename": "IndexError",
     "evalue": "string index out of range",
     "output_type": "error",
     "traceback": [
      "\u001b[0;31m---------------------------------------------------------------------------\u001b[0m",
      "\u001b[0;31mIndexError\u001b[0m                                Traceback (most recent call last)",
      "\u001b[0;32m<ipython-input-34-383022915e4e>\u001b[0m in \u001b[0;36m<module>\u001b[0;34m\u001b[0m\n\u001b[1;32m      1\u001b[0m \u001b[0;31m# 6 번째 이후의 인덱스는 존재하지 않으므로, 에러를 발생 시킵니다\u001b[0m\u001b[0;34m\u001b[0m\u001b[0;34m\u001b[0m\u001b[0;34m\u001b[0m\u001b[0m\n\u001b[1;32m      2\u001b[0m \u001b[0mtext\u001b[0m \u001b[0;34m=\u001b[0m \u001b[0;34m\"Django\"\u001b[0m\u001b[0;34m\u001b[0m\u001b[0;34m\u001b[0m\u001b[0m\n\u001b[0;32m----> 3\u001b[0;31m \u001b[0mprint\u001b[0m\u001b[0;34m(\u001b[0m\u001b[0mtext\u001b[0m\u001b[0;34m[\u001b[0m\u001b[0;36m6\u001b[0m\u001b[0;34m]\u001b[0m\u001b[0;34m)\u001b[0m\u001b[0;34m\u001b[0m\u001b[0;34m\u001b[0m\u001b[0m\n\u001b[0m",
      "\u001b[0;31mIndexError\u001b[0m: string index out of range"
     ]
    }
   ],
   "source": [
    "# 6 번째 이후의 인덱스는 존재하지 않으므로, 에러를 발생 시킵니다 \n",
    "text = \"Django\"\n",
    "print(text[6])"
   ]
  },
  {
   "cell_type": "code",
   "execution_count": 35,
   "metadata": {},
   "outputs": [
    {
     "ename": "TypeError",
     "evalue": "'str' object does not support item assignment",
     "output_type": "error",
     "traceback": [
      "\u001b[0;31m---------------------------------------------------------------------------\u001b[0m",
      "\u001b[0;31mTypeError\u001b[0m                                 Traceback (most recent call last)",
      "\u001b[0;32m<ipython-input-35-4320dce556f8>\u001b[0m in \u001b[0;36m<module>\u001b[0;34m\u001b[0m\n\u001b[1;32m      1\u001b[0m \u001b[0mtext\u001b[0m \u001b[0;34m=\u001b[0m \u001b[0;34m\"Django\"\u001b[0m\u001b[0;34m\u001b[0m\u001b[0;34m\u001b[0m\u001b[0m\n\u001b[1;32m      2\u001b[0m \u001b[0mtext\u001b[0m\u001b[0;34m[\u001b[0m\u001b[0;36m0\u001b[0m\u001b[0;34m]\u001b[0m\u001b[0;34m\u001b[0m\u001b[0;34m\u001b[0m\u001b[0m\n\u001b[0;32m----> 3\u001b[0;31m \u001b[0mtext\u001b[0m\u001b[0;34m[\u001b[0m\u001b[0;36m0\u001b[0m\u001b[0;34m]\u001b[0m \u001b[0;34m=\u001b[0m \u001b[0;34m\"Z\"\u001b[0m\u001b[0;34m\u001b[0m\u001b[0;34m\u001b[0m\u001b[0m\n\u001b[0m",
      "\u001b[0;31mTypeError\u001b[0m: 'str' object does not support item assignment"
     ]
    }
   ],
   "source": [
    "text = \"Django\"\n",
    "text[0]\n",
    "text[0] = \"Z\""
   ]
  },
  {
   "cell_type": "code",
   "execution_count": 38,
   "metadata": {},
   "outputs": [
    {
     "name": "stdout",
     "output_type": "stream",
     "text": [
      "False\n",
      "True\n",
      "True\n"
     ]
    }
   ],
   "source": [
    "text = 'Django'\n",
    "is_z_in = 'z' in text \n",
    "print(is_z_in)        # 'z' 는 Django 안에 존재하지 않으므로, False 를 반환\n",
    "\n",
    "is_D_in = 'D' in text\n",
    "print(is_D_in)        # 'D' 는 Django 안에 존재하므로, True 를 반환  \n",
    "\n",
    "is_word_in = 'jango' in text \n",
    "print(is_word_in)    # 'jango'는 Django 안에 존재하므로, True 를 반환 "
   ]
  },
  {
   "cell_type": "code",
   "execution_count": 44,
   "metadata": {},
   "outputs": [
    {
     "name": "stdout",
     "output_type": "stream",
     "text": [
      "Dja\n",
      "ang\n",
      "ang\n"
     ]
    }
   ],
   "source": [
    "text = \"Django\"\n",
    "\n",
    "print(text[0:3]) # 0, 1, 2 인덱스에 해당하는 문자들을 출력\n",
    "print(text[2:5]) # 2, 3, 4 인덱스에 해당하는 문자들을 출력 \n",
    "\n",
    "print(text[-4:-1])  # -4, -3, -2 인덱스에 해당하는 문자들을 출력 \n",
    "\n",
    "# text[-4:-1] 는 -1에서 1을 뺀 -2 인덱스까지 잘라냅니다 "
   ]
  },
  {
   "cell_type": "code",
   "execution_count": 49,
   "metadata": {},
   "outputs": [
    {
     "name": "stdout",
     "output_type": "stream",
     "text": [
      "4.3\n",
      "1218\n",
      "12\n",
      "1\n",
      "0\n",
      "1.0\n",
      "0.0\n",
      "True\n",
      "False\n",
      "False\n",
      "False\n",
      "True\n",
      "True\n"
     ]
    }
   ],
   "source": [
    "# 문자열을 실수로 전환 \n",
    "print(float(\"4.3\"))\n",
    "\n",
    "# 문자열을 정수로 변환 \n",
    "print(int(\"1218\"))\n",
    "\n",
    "# 실수를 정수로 변환 \n",
    "print(int(12.184))\n",
    "\n",
    "# boolean 을 숫자로 표현, true 는 1, false 는 0 을 갖습니다. \n",
    "print(int(True))\n",
    "print(int(False))\n",
    "print(float(True))\n",
    "print(float(False))\n",
    "\n",
    "# boolean 을 문자로 표현 \n",
    "print(str(True))\n",
    "print(str(False))\n",
    "\n",
    "# 숫자, 문자, 실수를 불리언으로 표현 \n",
    "# 값이 있으면 True, 0 이거나 없으면 False 를 반환 \n",
    "print(bool())\n",
    "print(bool(0))\n",
    "print(bool('Hello world'))\n",
    "print(bool(12.18))"
   ]
  },
  {
   "cell_type": "code",
   "execution_count": null,
   "metadata": {},
   "outputs": [],
   "source": []
  }
 ],
 "metadata": {
  "kernelspec": {
   "display_name": "Python 3",
   "language": "python",
   "name": "python3"
  },
  "language_info": {
   "codemirror_mode": {
    "name": "ipython",
    "version": 3
   },
   "file_extension": ".py",
   "mimetype": "text/x-python",
   "name": "python",
   "nbconvert_exporter": "python",
   "pygments_lexer": "ipython3",
   "version": "3.8.0"
  }
 },
 "nbformat": 4,
 "nbformat_minor": 4
}
