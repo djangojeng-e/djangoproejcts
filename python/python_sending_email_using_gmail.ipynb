{
 "cells": [
  {
   "cell_type": "code",
   "execution_count": 6,
   "metadata": {},
   "outputs": [],
   "source": [
    "import smtplib \n",
    "from email.mime.text import MIMEText\n",
    "from email.mime.multipart import MIMEMultipart \n",
    "\n",
    "gmail_user = 'youraccount@gmail.com'\n",
    "gmail_password = 'Yourpassword'\n",
    "\n",
    "try: \n",
    "    server = smtplib.SMTP_SSL('smtp.gmail.com', 465)\n",
    "    server.ehlo()\n",
    "    server.login(gmail_user, gmail_password)\n",
    "    \n",
    "    msg = MIMEMultipart('alternative')\n",
    "    \n",
    "except:\n",
    "    print (\"Something went wrong\")"
   ]
  },
  {
   "cell_type": "code",
   "execution_count": 7,
   "metadata": {},
   "outputs": [
    {
     "name": "stdout",
     "output_type": "stream",
     "text": [
      "Email Sent!\n"
     ]
    }
   ],
   "source": [
    "import smtplib\n",
    "\n",
    "gmail_user = 'youraccount@gmail.com'\n",
    "gmail_password = 'yourpassword'\n",
    "\n",
    "sent_from = gmail_user \n",
    "to = ['emailtosend@gmail.com', 'emailtosend@naver.com']\n",
    "subject = 'Python mail send testing'\n",
    "\n",
    "body = 'Ok mate, here is the test!'\n",
    "\n",
    "email_text = \"\"\"\\\n",
    "From : %s\n",
    "To : %s\n",
    "Subject : %s\n",
    "\n",
    "%s\n",
    "\"\"\" % (sent_from, \", \".join(to), subject, body)\n",
    "\n",
    "try:\n",
    "    server = smtplib.SMTP_SSL('smtp.gmail.com', 465)\n",
    "    server.ehlo()\n",
    "    server.login(gmail_user, gmail_password)\n",
    "    server.sendmail(sent_from, to, email_text)\n",
    "    server.close()\n",
    "    \n",
    "    print('Email Sent!')\n",
    "except:\n",
    "    print('Something went wrong')\n",
    "    \n"
   ]
  },
  {
   "cell_type": "code",
   "execution_count": null,
   "metadata": {},
   "outputs": [],
   "source": []
  }
 ],
 "metadata": {
  "kernelspec": {
   "display_name": "Python 3",
   "language": "python",
   "name": "python3"
  },
  "language_info": {
   "codemirror_mode": {
    "name": "ipython",
    "version": 3
   },
   "file_extension": ".py",
   "mimetype": "text/x-python",
   "name": "python",
   "nbconvert_exporter": "python",
   "pygments_lexer": "ipython3",
   "version": "3.8.0"
  }
 },
 "nbformat": 4,
 "nbformat_minor": 4
}
