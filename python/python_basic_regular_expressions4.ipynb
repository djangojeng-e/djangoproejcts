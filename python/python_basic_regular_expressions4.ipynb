{
 "cells": [
  {
   "cell_type": "code",
   "execution_count": 1,
   "metadata": {},
   "outputs": [
    {
     "name": "stdout",
     "output_type": "stream",
     "text": [
      "['ai', 'ai']\n"
     ]
    }
   ],
   "source": [
    "# findall() 함수 \n",
    "# \"ai\" 를 포함할때마다 리스트에 담고, 리스트를 반환합니다. \n",
    "\n",
    "import re \n",
    "\n",
    "txt = \"The rain in Spain\"\n",
    "x = re.findall(\"ai\", txt)\n",
    "\n",
    "print(x)"
   ]
  },
  {
   "cell_type": "code",
   "execution_count": 3,
   "metadata": {},
   "outputs": [
    {
     "name": "stdout",
     "output_type": "stream",
     "text": [
      "[]\n",
      "매치 되는게 없습니다.\n",
      "['Spain']\n"
     ]
    }
   ],
   "source": [
    "# findall() 함수 \n",
    "# 문자열안에 \"Portugal\" 이라는 문자가 있는지 확인 합니다 \n",
    "\n",
    "import re \n",
    "\n",
    "txt = \"The rain in Spain\"\n",
    "x = re.findall(\"Portugal\", txt)\n",
    "print(x)\n",
    "\n",
    "if(x):\n",
    "    print(\"매치 되는게 있습니다.\")\n",
    "else:\n",
    "    print(\"매치 되는게 없습니다.\")\n",
    "    \n",
    "x = re.findall(\"Spain\", txt)\n",
    "print(x)\n",
    "\n",
    "if(x):\n",
    "    print(\"매치 되는게 있습니다.\")\n",
    "else:\n",
    "    print(\"매치 되는게 없습니다.\")"
   ]
  },
  {
   "cell_type": "code",
   "execution_count": 4,
   "metadata": {},
   "outputs": [
    {
     "name": "stdout",
     "output_type": "stream",
     "text": [
      "첫번째 공백이 자리하고 있는 위치는.. 3\n"
     ]
    }
   ],
   "source": [
    "# search() 함수 \n",
    "# \\s 를 사용하여, 문자열 안에 공백을 찾습니다. \n",
    "# search() 는 match object 를 반환합니다. \n",
    "\n",
    "import re \n",
    "\n",
    "txt = \"The rain in Spain\"\n",
    "x = re.search(\"\\s\", txt)\n",
    "\n",
    "print(\"첫번째 공백이 자리하고 있는 위치는..\", x.start())\n"
   ]
  },
  {
   "cell_type": "code",
   "execution_count": 5,
   "metadata": {},
   "outputs": [
    {
     "name": "stdout",
     "output_type": "stream",
     "text": [
      "None\n"
     ]
    }
   ],
   "source": [
    "# search() 매칭되는게 없으면, None 을 반환합니다 \n",
    "\n",
    "import re \n",
    "\n",
    "txt = \"The rain in Spain\"\n",
    "x = re.search(\"Portugal\", txt)\n",
    "print(x)"
   ]
  },
  {
   "cell_type": "code",
   "execution_count": 6,
   "metadata": {},
   "outputs": [
    {
     "name": "stdout",
     "output_type": "stream",
     "text": [
      "['The', 'rain', 'in', 'Spain']\n"
     ]
    }
   ],
   "source": [
    "# split() \n",
    "# 문자열은 각 공백마다 분리되어 리스트에 담아집니다. \n",
    "\n",
    "import re \n",
    "\n",
    "txt = \"The rain in Spain\"\n",
    "x = re.split(\"\\s\", txt)\n",
    "print(x)"
   ]
  },
  {
   "cell_type": "code",
   "execution_count": 9,
   "metadata": {},
   "outputs": [
    {
     "name": "stdout",
     "output_type": "stream",
     "text": [
      "['The', 'rain in Spain']\n",
      "['The', 'rain', 'in Spain']\n",
      "['The', 'rain', 'in', 'Spain']\n",
      "['The', 'rain', 'in', 'Spain']\n"
     ]
    }
   ],
   "source": [
    "# split() 파라미터 \n",
    "\n",
    "import re \n",
    "\n",
    "txt = \"The rain in Spain\"\n",
    "x = re.split(\"\\s\", txt, 1)\n",
    "print(x)\n",
    "\n",
    "x = re.split(\"\\s\", txt, 2)\n",
    "print(x)\n",
    "\n",
    "x = re.split(\"\\s\", txt, 3)\n",
    "print(x)"
   ]
  },
  {
   "cell_type": "code",
   "execution_count": 10,
   "metadata": {},
   "outputs": [
    {
     "name": "stdout",
     "output_type": "stream",
     "text": [
      "The9rain9in9Spain\n"
     ]
    }
   ],
   "source": [
    "# sub() 함수 \n",
    "# 각 빈공간을, 숫자 \"9\" 로 바꾸어 줍니다 \n",
    "\n",
    "import re \n",
    "\n",
    "txt = \"The rain in Spain\"\n",
    "x = re.sub(\"\\s\", \"9\", txt)\n",
    "print(x)"
   ]
  },
  {
   "cell_type": "code",
   "execution_count": 12,
   "metadata": {},
   "outputs": [
    {
     "name": "stdout",
     "output_type": "stream",
     "text": [
      "The9rain in Spain\n",
      "The9rain9in Spain\n",
      "The9rain9in9Spain\n"
     ]
    }
   ],
   "source": [
    "import re \n",
    "\n",
    "txt = \"The rain in Spain\"\n",
    "x = re.sub(\"\\s\", \"9\", txt, 1)\n",
    "print(x)\n",
    "\n",
    "x = re.sub(\"\\s\", \"9\", txt, 2)\n",
    "print(x)\n",
    "\n",
    "x = re.sub(\"\\s\", \"9\", txt, 3)\n",
    "print(x)"
   ]
  },
  {
   "cell_type": "code",
   "execution_count": null,
   "metadata": {},
   "outputs": [],
   "source": [
    "\n"
   ]
  }
 ],
 "metadata": {
  "kernelspec": {
   "display_name": "Python 3",
   "language": "python",
   "name": "python3"
  },
  "language_info": {
   "codemirror_mode": {
    "name": "ipython",
    "version": 3
   },
   "file_extension": ".py",
   "mimetype": "text/x-python",
   "name": "python",
   "nbconvert_exporter": "python",
   "pygments_lexer": "ipython3",
   "version": "3.8.0"
  }
 },
 "nbformat": 4,
 "nbformat_minor": 4
}
