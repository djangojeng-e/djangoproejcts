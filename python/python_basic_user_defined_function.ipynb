{
 "cells": [
  {
   "cell_type": "code",
   "execution_count": 1,
   "metadata": {},
   "outputs": [
    {
     "name": "stdout",
     "output_type": "stream",
     "text": [
      "x 와 y 의 평균은 5.0 입니다\n"
     ]
    }
   ],
   "source": [
    "# 사용자 정의 함수\n",
    "# average_number 는 함수 명, \n",
    "# x , y 는 함수에 input 으로 쓰여질 인자들 \n",
    "\n",
    "def average_number(x , y):\n",
    "    print(\"x 와 y 의 평균은 {} 입니다\".format((x + y) / 2))\n",
    "\n",
    "# 정의된 함수를 호출 x 값엔 4 를, y 값엔 6을 넣어줍니다 \n",
    "average_number(4, 6)"
   ]
  },
  {
   "cell_type": "code",
   "execution_count": 2,
   "metadata": {},
   "outputs": [
    {
     "name": "stdout",
     "output_type": "stream",
     "text": [
      "이것은 파이썬 기초 입니다\n",
      "이것은 파이썬 기초 입니다\n",
      "이것은 파이썬 기초 입니다\n"
     ]
    }
   ],
   "source": [
    "# 함수 호출의 예시 \n",
    "\n",
    "def print_three_times():\n",
    "    print(\"이것은 파이썬 기초 입니다\")\n",
    "    print(\"이것은 파이썬 기초 입니다\")\n",
    "    print(\"이것은 파이썬 기초 입니다\")\n",
    "    \n",
    "# 위의 정의된 함수를 호출 \n",
    "# 함수는 인자를 가지지 않고, print 문을 3번 실행합니다 \n",
    "\n",
    "print_three_times()\n"
   ]
  },
  {
   "cell_type": "code",
   "execution_count": 11,
   "metadata": {},
   "outputs": [
    {
     "name": "stdout",
     "output_type": "stream",
     "text": [
      "2와 3의 합계의 제곱은 : 25\n"
     ]
    }
   ],
   "source": [
    "def nsquare(x, y):\n",
    "    return (x*x + 2*x*y + y*y)\n",
    "\n",
    "# return 뒤의 수식 의 값을 함수의 값으로 반환합니다 \n",
    "\n",
    "print(\"2와 3의 합계의 제곱은 : {}\".format(nsquare(2, 3)))\n"
   ]
  },
  {
   "cell_type": "code",
   "execution_count": 13,
   "metadata": {},
   "outputs": [
    {
     "name": "stdout",
     "output_type": "stream",
     "text": [
      "2 와 3의 합계의 제곱은 : {} 16\n",
      "2 와 4의 합계의 제곱은 : 36\n"
     ]
    }
   ],
   "source": [
    "# y 는 2 라는 값을 기본값으로 지정됩니다 \n",
    "def nsquare(x, y = 2):\n",
    "    return (x*x + 2*x*y + y*y)\n",
    "\n",
    "# y 값에 대한 파라미터가 전달되지 않는다 하더라도, \n",
    "# y 는 기본값인 2가 되어, 함수를 실행하고 \n",
    "# 값을 반환합니다. \n",
    "\n",
    "print(\"2 와 3의 합계의 제곱은 : {}\",format(nsquare(2)))\n",
    "\n",
    "# y 값에 대한 파라미터가 4로 전달이 되면, \n",
    "# y 는 전달된 4라는 값을 가지고 함수를 실행하고 \n",
    "# 값을 반환합니다. \n",
    "\n",
    "print(\"2 와 4의 합계의 제곱은 : {}\".format(nsquare(2, 4)))"
   ]
  },
  {
   "cell_type": "code",
   "execution_count": 15,
   "metadata": {},
   "outputs": [
    {
     "name": "stdout",
     "output_type": "stream",
     "text": [
      "Marks in : English is -  71 Math - 77 Science -  80\n",
      "Marks in : English is -  65 Math - 85 Science -  74\n",
      "Marks in : English is -  75 Math - 90 Science -  70\n"
     ]
    }
   ],
   "source": [
    "# 키워드 인자 \n",
    "\n",
    "def marks(english, math = 85, science = 80):\n",
    "    print(\"Marks in : English is - \", english, \"Math -\", math, \"Science - \", science)\n",
    "\n",
    "# english parameter 는 71의 값을 갖고, math 는 77 그리고 science 는 기본값인 80을 갖습니다.     \n",
    "marks(71, 77)\n",
    "\n",
    "# english paramter 는 65 의 값을 갖고, math 는 기본값인 85, 그리고 science 는 74 로 전달됩니다 \n",
    "marks(65, science=74)\n",
    "\n",
    "# 순서가 바뀌긴 했지만, 상관없이 정확히 매칭만 된다면, \n",
    "# english 는 75 의 값을, math 는 90의 값을, science 는 70 의 값을 갖게 됩니다 \n",
    "marks(science=70, math=90, english=75)"
   ]
  },
  {
   "cell_type": "code",
   "execution_count": 22,
   "metadata": {},
   "outputs": [
    {
     "name": "stdout",
     "output_type": "stream",
     "text": [
      "1부터 4까지의 합은 10\n",
      "1부터 10까지의 합은 55\n",
      "<class 'tuple'>\n"
     ]
    }
   ],
   "source": [
    "# 임의의 Argument list \n",
    "# Arbitrary Argument Lists \n",
    "\n",
    "def sum(*numbers):\n",
    "    s = 0\n",
    "    for n in numbers:\n",
    "        s += n \n",
    "    return s \n",
    "\n",
    "# *numbers 로 임의의 인자가 지정되었기 때문에, \n",
    "# 인자가 몇개가 들어가든 상관 없습니다. \n",
    "\n",
    "print(\"1부터 4까지의 합은 {}\".format(sum(1,2,3,4)))\n",
    "print(\"1부터 10까지의 합은 {}\".format(sum(1,2,3,4,5,6,7,8,9,10)))\n",
    "\n",
    "\n",
    "# *args 에는 여러 인자들이 들어갈수 있고, \n",
    "# 함수 내부에서는 tuple 로 감싸져서 사용됩니다. \n",
    "\n",
    "def arbitrary_arguments(*args):\n",
    "    print(type(args))\n",
    "    \n",
    "arbitrary_arguments(1,2,3,4)"
   ]
  },
  {
   "cell_type": "code",
   "execution_count": 24,
   "metadata": {},
   "outputs": [
    {
     "name": "stdout",
     "output_type": "stream",
     "text": [
      "3.5\n",
      "3.5\n"
     ]
    }
   ],
   "source": [
    "# lambda forms \n",
    "\n",
    "def average(x, y):\n",
    "    return (x + y) / 2\n",
    "print(average(4, 3))\n",
    "\n",
    "# 위 함수를 lambda 를 사용하여 정의해본다면, \n",
    "print((lambda x, y: (x + y)/2)(4, 3))"
   ]
  },
  {
   "cell_type": "code",
   "execution_count": 25,
   "metadata": {},
   "outputs": [
    {
     "name": "stdout",
     "output_type": "stream",
     "text": [
      "25\n",
      "25\n"
     ]
    }
   ],
   "source": [
    "# 또다른 lambda 의 예시 \n",
    "\n",
    "def multiply_two(x, y):\n",
    "    return x * y\n",
    "\n",
    "print(multiply_two(5, 5))\n",
    "\n",
    "# 위 함수를 lambda 를 사용하여 정의하면, \n",
    "print((lambda x, y: x * y)(5, 5))\n"
   ]
  },
  {
   "cell_type": "code",
   "execution_count": null,
   "metadata": {},
   "outputs": [],
   "source": []
  }
 ],
 "metadata": {
  "kernelspec": {
   "display_name": "Python 3",
   "language": "python",
   "name": "python3"
  },
  "language_info": {
   "codemirror_mode": {
    "name": "ipython",
    "version": 3
   },
   "file_extension": ".py",
   "mimetype": "text/x-python",
   "name": "python",
   "nbconvert_exporter": "python",
   "pygments_lexer": "ipython3",
   "version": "3.8.0"
  }
 },
 "nbformat": 4,
 "nbformat_minor": 4
}
