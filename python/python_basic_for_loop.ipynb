{
 "cells": [
  {
   "cell_type": "code",
   "execution_count": 1,
   "metadata": {},
   "outputs": [
    {
     "name": "stdout",
     "output_type": "stream",
     "text": [
      "Red\n",
      "Blue\n",
      "Green\n",
      "Black\n"
     ]
    }
   ],
   "source": [
    "# for 반복문 예시 \n",
    "color_list = ['Red', 'Blue', 'Green', 'Black']\n",
    "for c in color_list:\n",
    "    print(c)"
   ]
  },
  {
   "cell_type": "code",
   "execution_count": 9,
   "metadata": {},
   "outputs": [
    {
     "name": "stdout",
     "output_type": "stream",
     "text": [
      "0\n",
      "1\n",
      "2\n",
      "3\n",
      "0\n",
      "1\n",
      "2\n",
      "3\n",
      "range의 시작지점과 끝 지점을 정할수 있습니다\n",
      "2\n",
      "3\n",
      "4\n",
      "5\n",
      "6\n",
      "파라미터의 마지막값을 지정합니다\n",
      "2\n",
      "7\n",
      "12\n",
      "17\n"
     ]
    }
   ],
   "source": [
    "# range(4) 는 0 부터 4 이전의 숫자로 된 리스트를 반환합니다. \n",
    "# 따라서, 아래 코드는 for a in [0, 1, 2, 3]: 과 같은 효과를 가집니다. \n",
    "for a in range(4):\n",
    "    print(a)\n",
    "    \n",
    "for a in [0, 1, 2, 3]:\n",
    "    print(a)\n",
    "    \n",
    "\n",
    "# range 의 시작지점과 끝 지점을 정할수 있습니다 \n",
    "print(\"range의 시작지점과 끝 지점을 정할수 있습니다\")\n",
    "\n",
    "# 아래 range 는, 2 부터 시작하고, 7의 바로 이전 숫자인 6에서 끝납니다. \n",
    "\n",
    "for a in range(2, 7):\n",
    "    print(a)\n",
    "\n",
    "print(\"파라미터의 마지막값을 지정합니다\")\n",
    "    \n",
    "# 기본값으로, 시작지점부터 끝지점까지 1씩 증가하는 요소들을 리스트에 넣어 리스트를 반환하지만, \n",
    "# 파라미터의 마지막값을 지정하여, 지정한 숫자만큼 증가하는 요소들을 리스트에 넣어 생성할수 있습니다. \n",
    "for a in range(2, 19, 5):\n",
    "    print(a)"
   ]
  },
  {
   "cell_type": "code",
   "execution_count": 10,
   "metadata": {},
   "outputs": [
    {
     "name": "stdout",
     "output_type": "stream",
     "text": [
      "짝수의 갯수 : 4\n",
      "홀수의 갯수 : 5\n"
     ]
    }
   ],
   "source": [
    "# for 반복문을 사용하여 tuple 순회하기 \n",
    "# numbers 튜플을 생성 \n",
    "numbers = (1, 2, 3, 4, 5, 6, 7, 8, 9) \n",
    "count_odd = 0 \n",
    "count_even = 0 \n",
    "\n",
    "for x in numbers:\n",
    "    if x % 2:\n",
    "        count_odd += 1\n",
    "    else:\n",
    "        count_even += 1 \n",
    "\n",
    "print(\"짝수의 갯수 :\", count_even)\n",
    "print(\"홀수의 갯수 :\", count_odd)"
   ]
  },
  {
   "cell_type": "code",
   "execution_count": 11,
   "metadata": {},
   "outputs": [
    {
     "name": "stdout",
     "output_type": "stream",
     "text": [
      "1452 의 타입은 <class 'int'> 입니다\n",
      "11.23 의 타입은 <class 'float'> 입니다\n",
      "(1+2j) 의 타입은 <class 'complex'> 입니다\n",
      "True 의 타입은 <class 'bool'> 입니다\n",
      "django 의 타입은 <class 'str'> 입니다\n",
      "(0, -1) 의 타입은 <class 'tuple'> 입니다\n",
      "[5, 12] 의 타입은 <class 'list'> 입니다\n",
      "{'class': 'V', 'section': 'A'} 의 타입은 <class 'dict'> 입니다\n"
     ]
    }
   ],
   "source": [
    "# for 반복문을 사용하여 list 순회하기 \n",
    "# datalist 리스트를 생성 \n",
    "# 다른 타입들을 가지고 있는 요소를 가진 리스트를 순회하며, print 를 할수 있습니다. \n",
    "\n",
    "datalist = [1452, 11.23, 1+2j, True, 'django', (0, -1), [5, 12],\n",
    "{\"class\": 'V', \"section\": 'A'}] \n",
    "\n",
    "for item in datalist:\n",
    "    print(item, \"의 타입은\", type(item), \"입니다\")"
   ]
  },
  {
   "cell_type": "code",
   "execution_count": 17,
   "metadata": {},
   "outputs": [
    {
     "name": "stdout",
     "output_type": "stream",
     "text": [
      "c1\n",
      "c2\n",
      "c3\n",
      "color.keys() 를 사용하여 key 값만 순회 \n",
      "c1\n",
      "c2\n",
      "c3\n",
      "color.values() 를 사용하여 value 값만 순회\n",
      "Red\n",
      "Green\n",
      "Orange\n"
     ]
    }
   ],
   "source": [
    "# for 반복문을 사용하여 dictionary 순회하기 \n",
    "# key 와 value 로 이루어진 사전을 생성 \n",
    "\n",
    "color = {\"c1\": \"Red\", \"c2\": \"Green\", \"c3\": \"Orange\"}\n",
    "\n",
    "for key in color:\n",
    "    print(key)\n",
    "    \n",
    "print(\"color.keys() 를 사용하여 key 값만 순회 \")  \n",
    "\n",
    "# key 값만 순회 \n",
    "for key in color.keys():\n",
    "    print(key)\n",
    "    \n",
    "print(\"color.values() 를 사용하여 value 값만 순회\")\n",
    "for value in color.values():\n",
    "    print(value)"
   ]
  },
  {
   "cell_type": "code",
   "execution_count": null,
   "metadata": {},
   "outputs": [],
   "source": []
  }
 ],
 "metadata": {
  "kernelspec": {
   "display_name": "Python 3",
   "language": "python",
   "name": "python3"
  },
  "language_info": {
   "codemirror_mode": {
    "name": "ipython",
    "version": 3
   },
   "file_extension": ".py",
   "mimetype": "text/x-python",
   "name": "python",
   "nbconvert_exporter": "python",
   "pygments_lexer": "ipython3",
   "version": "3.8.0"
  }
 },
 "nbformat": 4,
 "nbformat_minor": 4
}
