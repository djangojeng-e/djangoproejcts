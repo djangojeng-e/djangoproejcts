{
 "cells": [
  {
   "cell_type": "code",
   "execution_count": 2,
   "metadata": {},
   "outputs": [
    {
     "name": "stdout",
     "output_type": "stream",
     "text": [
      "55\n"
     ]
    }
   ],
   "source": [
    "# abs() \n",
    "# 주어진 숫자의 절대값(양수) 를 구함 \n",
    "\n",
    "number = -55\n",
    "print(abs(number))"
   ]
  },
  {
   "cell_type": "code",
   "execution_count": 4,
   "metadata": {},
   "outputs": [
    {
     "name": "stdout",
     "output_type": "stream",
     "text": [
      "False\n",
      "True\n"
     ]
    }
   ],
   "source": [
    "# all() \n",
    "# 주어진 순회가능 객체의 모든 요소들이 True 인지 테스트 합니다. \n",
    "\n",
    "test_list = [0, 1, 2, 3, 4]\n",
    "print(all(test_list))\n",
    "\n",
    "test_list2 = [-1, 2, 3, 4]\n",
    "print(all(test_list2))"
   ]
  },
  {
   "cell_type": "code",
   "execution_count": 6,
   "metadata": {},
   "outputs": [
    {
     "name": "stdout",
     "output_type": "stream",
     "text": [
      "True\n",
      "False\n"
     ]
    }
   ],
   "source": [
    "# any()\n",
    "# 주어진 순회가능 객체의 어떤 요소라도 True 인지 확인 합니다 \n",
    "# 순회가능 객체가 비어있을 경우, False 를 반환 합니다 \n",
    "\n",
    "test_list = [0, 0, 0, 1]\n",
    "\n",
    "# 1 이 True 이므로, True 를 리턴 \n",
    "print(any(test_list))\n",
    "\n",
    "test_list = []\n",
    "\n",
    "# 비어 있는 리스트를 테스트하므로, False 를 리턴 \n",
    "print(any(test_list))\n"
   ]
  },
  {
   "cell_type": "code",
   "execution_count": 8,
   "metadata": {},
   "outputs": [
    {
     "name": "stdout",
     "output_type": "stream",
     "text": [
      "'text printable format'\n",
      "'\\xa5'\n",
      "'\\xb5'\n",
      "'\\xcb'\n"
     ]
    }
   ],
   "source": [
    "# ascii() \n",
    "# 객체를 출력가능한 형태의 문자열로 리턴 \n",
    "\n",
    "text = \"text printable format\"\n",
    "print(ascii(text))\n",
    "\n",
    "# ascii 문자가 아닌것을, ascii 형태로 리턴합니다 \n",
    "\n",
    "print(ascii(\"¥\"))\n",
    "\n",
    "print(ascii(\"µ\"))\n",
    "\n",
    "print(ascii(\"Ë\"))\n"
   ]
  },
  {
   "cell_type": "code",
   "execution_count": 9,
   "metadata": {},
   "outputs": [
    {
     "name": "stdout",
     "output_type": "stream",
     "text": [
      "0b101\n"
     ]
    }
   ],
   "source": [
    "# bin()\n",
    "# 정수를 이진수 문자열로 전환해줍니다 \n",
    "\n",
    "number = 5\n",
    "print(bin(number))"
   ]
  },
  {
   "cell_type": "code",
   "execution_count": 11,
   "metadata": {},
   "outputs": [
    {
     "name": "stdout",
     "output_type": "stream",
     "text": [
      "True\n",
      "True\n",
      "True\n",
      "True\n",
      "True\n",
      "False\n"
     ]
    }
   ],
   "source": [
    "# bool()\n",
    "# 하나의 값을 Boolean 값으로 전환해줍니다 \n",
    "\n",
    "a = 1218 \n",
    "b = 'Django'\n",
    "c = [1,2,3]\n",
    "d = (4,5,6)\n",
    "e = {'django': 'framework'}\n",
    "f = []\n",
    "\n",
    "print(bool(a))\n",
    "print(bool(b))\n",
    "print(bool(c))\n",
    "print(bool(d))\n",
    "print(bool(e))\n",
    "print(bool(f))"
   ]
  },
  {
   "cell_type": "code",
   "execution_count": 13,
   "metadata": {},
   "outputs": [
    {
     "name": "stdout",
     "output_type": "stream",
     "text": [
      "True\n",
      "False\n"
     ]
    }
   ],
   "source": [
    "# callable() \n",
    "# 호출 가능한 객체인지 아닌지 확인 \n",
    "\n",
    "def callable_function():\n",
    "    x = 3 \n",
    "    y = 5\n",
    "    z = x + y \n",
    "    return z \n",
    "\n",
    "x = 3 \n",
    "y = 5 \n",
    "z = x + y \n",
    "\n",
    "call = callable_function\n",
    "\n",
    "print(callable(call))\n",
    "print(callable(z))"
   ]
  },
  {
   "cell_type": "code",
   "execution_count": 14,
   "metadata": {},
   "outputs": [
    {
     "name": "stdout",
     "output_type": "stream",
     "text": [
      "TUTORIALS\n"
     ]
    }
   ],
   "source": [
    "# chr() \n",
    "# 정수로 된 유니코드 코드포인트 문자를, 일반 문자열 형태로 반환해줍니다 \n",
    "\n",
    "str = \"\"\n",
    "series = [84,85,84,79,82,73,65,76,83]\n",
    "for i in range(0,len(series)):\n",
    "   char = chr(series[i])\n",
    "   str = str + char\n",
    "   i=i+1\n",
    "print(str)"
   ]
  },
  {
   "cell_type": "code",
   "execution_count": 15,
   "metadata": {},
   "outputs": [
    {
     "name": "stdout",
     "output_type": "stream",
     "text": [
      "The age is: 25\n"
     ]
    }
   ],
   "source": [
    "# classmethod() \n",
    "# 하나의 메서드를 클래스 메서드로 전환 시켜줍니다 \n",
    "\n",
    "class Person:\n",
    "    age = 25\n",
    "    \n",
    "    def printAge(cls):\n",
    "        print(\"The age is:\", cls.age)\n",
    "        \n",
    "\n",
    "# printAge 클래스 메서드 생성하기 \n",
    "Person.printAge = classmethod(Person.printAge)\n",
    "\n",
    "Person.printAge()"
   ]
  },
  {
   "cell_type": "code",
   "execution_count": 19,
   "metadata": {},
   "outputs": [
    {
     "name": "stdout",
     "output_type": "stream",
     "text": [
      "55\n"
     ]
    }
   ],
   "source": [
    "# compile() \n",
    "# 소스를 코드로 만들어 줍니다 \n",
    "\n",
    "x = compile('print(55)', 'print(test)', 'eval')\n",
    "exec(x)"
   ]
  },
  {
   "cell_type": "code",
   "execution_count": 22,
   "metadata": {},
   "outputs": [
    {
     "name": "stdout",
     "output_type": "stream",
     "text": [
      "(15+0j)\n"
     ]
    }
   ],
   "source": [
    "# complex()\n",
    "# 복소수를 생성 혹은 숫자를 복소수로 전환해줄때 사용합니다 \n",
    "\n",
    "a = 15\n",
    "\n",
    "print(complex(a))\n"
   ]
  },
  {
   "cell_type": "code",
   "execution_count": 23,
   "metadata": {},
   "outputs": [
    {
     "name": "stdout",
     "output_type": "stream",
     "text": [
      "['__class__', '__delattr__', '__dict__', '__dir__', '__doc__', '__eq__', '__format__', '__ge__', '__getattribute__', '__gt__', '__hash__', '__init__', '__init_subclass__', '__le__', '__lt__', '__module__', '__ne__', '__new__', '__reduce__', '__reduce_ex__', '__repr__', '__setattr__', '__sizeof__', '__str__', '__subclasshook__', '__weakref__', 'age', 'country', 'name']\n",
      "['__class__', '__delattr__', '__dict__', '__dir__', '__doc__', '__eq__', '__format__', '__ge__', '__getattribute__', '__gt__', '__hash__', '__init__', '__init_subclass__', '__le__', '__lt__', '__module__', '__ne__', '__new__', '__reduce__', '__reduce_ex__', '__repr__', '__setattr__', '__sizeof__', '__str__', '__subclasshook__', '__weakref__', 'country', 'name']\n"
     ]
    }
   ],
   "source": [
    "# delattr() \n",
    "# 특정 객체에서, 특정 속성을 삭제하는데 사용합니다 \n",
    "\n",
    "class Person:\n",
    "    name = \"Djangojeng-e\"\n",
    "    age = 36\n",
    "    country = \"Australia\"\n",
    "\n",
    "print(dir(Person))    \n",
    "    \n",
    "delattr(Person, 'age')\n",
    "\n",
    "# delattr 이후로 age 속성이 Person 객체에서 없어진것을 확인할수 있습니다 \n",
    "\n",
    "print(dir(Person))"
   ]
  },
  {
   "cell_type": "code",
   "execution_count": 24,
   "metadata": {},
   "outputs": [
    {
     "name": "stdout",
     "output_type": "stream",
     "text": [
      "{'django': 'framework', 'language': 'python', 'difficulty': 'difficult'}\n"
     ]
    }
   ],
   "source": [
    "# dict()\n",
    "# 새로운 사전을 생성하기 위해 사용됩니다 \n",
    "\n",
    "dictionary = {\n",
    "    'django': 'framework',\n",
    "    'language': 'python',\n",
    "    'difficulty': 'difficult'\n",
    "}\n",
    "\n",
    "dict_copy = dict(dictionary)\n",
    "print(dict_copy)"
   ]
  },
  {
   "cell_type": "code",
   "execution_count": 26,
   "metadata": {},
   "outputs": [
    {
     "name": "stdout",
     "output_type": "stream",
     "text": [
      "['__call__', '__class__', '__delattr__', '__dir__', '__doc__', '__eq__', '__format__', '__ge__', '__getattribute__', '__gt__', '__hash__', '__init__', '__init_subclass__', '__le__', '__lt__', '__module__', '__name__', '__ne__', '__new__', '__qualname__', '__reduce__', '__reduce_ex__', '__repr__', '__self__', '__setattr__', '__sizeof__', '__str__', '__subclasshook__', '__text_signature__']\n",
      "['__add__', '__class__', '__contains__', '__delattr__', '__delitem__', '__dir__', '__doc__', '__eq__', '__format__', '__ge__', '__getattribute__', '__getitem__', '__gt__', '__hash__', '__iadd__', '__imul__', '__init__', '__init_subclass__', '__iter__', '__le__', '__len__', '__lt__', '__mul__', '__ne__', '__new__', '__reduce__', '__reduce_ex__', '__repr__', '__reversed__', '__rmul__', '__setattr__', '__setitem__', '__sizeof__', '__str__', '__subclasshook__', 'append', 'clear', 'copy', 'count', 'extend', 'index', 'insert', 'pop', 'remove', 'reverse', 'sort']\n"
     ]
    }
   ],
   "source": [
    "# dir() \n",
    "# 객체의 모든 속성과 메서드들을 알수 있습니다 \n",
    "\n",
    "print(dir(print))    # print 에 있는 모든 메서드와 속성들 \n",
    "\n",
    "print(dir(list))     # list 에 있는 모든 메서드와 속성들 "
   ]
  },
  {
   "cell_type": "code",
   "execution_count": 27,
   "metadata": {},
   "outputs": [
    {
     "name": "stdout",
     "output_type": "stream",
     "text": [
      "(2, 1)\n"
     ]
    }
   ],
   "source": [
    "# divmod()\n",
    "# 복소수가 아닌 두개의 숫자를 인자로 받고, \n",
    "# 정수 나누기를 하여, 몫과 나머지로 이루어진 한쌍의 숫자를 반환합니다 \n",
    "\n",
    "print(divmod(5, 2))"
   ]
  },
  {
   "cell_type": "code",
   "execution_count": 32,
   "metadata": {},
   "outputs": [
    {
     "name": "stdout",
     "output_type": "stream",
     "text": [
      "[(0, 'python'), (1, 'django'), (2, 'pyramid')]\n",
      "[(0, 'djangojeng-e'), (1, 'python'), (2, 'django')]\n"
     ]
    }
   ],
   "source": [
    "# enumerate()\n",
    "# 객체의 순서를 카운트한것을 반환합니다. \n",
    "\n",
    "x = ('python', 'django', 'pyramid')\n",
    "y = enumerate(x)\n",
    "print(list(y))\n",
    "\n",
    "x = {'djangojeng-e': '멋쟁이', 'python': 'programming', 'django': 'framework'}\n",
    "y = enumerate(x)\n",
    "\n",
    "print(list(y))"
   ]
  },
  {
   "cell_type": "code",
   "execution_count": 34,
   "metadata": {},
   "outputs": [
    {
     "name": "stdout",
     "output_type": "stream",
     "text": [
      "55\n"
     ]
    }
   ],
   "source": [
    "# eval() \n",
    "# 지정된 수식을 평가하기 위해 사용됩니다 \n",
    "\n",
    "x = 'print(55)'\n",
    "eval(x)\n"
   ]
  },
  {
   "cell_type": "code",
   "execution_count": 37,
   "metadata": {},
   "outputs": [
    {
     "name": "stdout",
     "output_type": "stream",
     "text": [
      "Djangojeng-e\n"
     ]
    }
   ],
   "source": [
    "# exec()\n",
    "\n",
    "x = 'name = \"Djangojeng-e\"\\nprint(name)'\n",
    "exec(x)"
   ]
  },
  {
   "cell_type": "code",
   "execution_count": null,
   "metadata": {},
   "outputs": [],
   "source": []
  }
 ],
 "metadata": {
  "kernelspec": {
   "display_name": "Python 3",
   "language": "python",
   "name": "python3"
  },
  "language_info": {
   "codemirror_mode": {
    "name": "ipython",
    "version": 3
   },
   "file_extension": ".py",
   "mimetype": "text/x-python",
   "name": "python",
   "nbconvert_exporter": "python",
   "pygments_lexer": "ipython3",
   "version": "3.8.0"
  }
 },
 "nbformat": 4,
 "nbformat_minor": 4
}
