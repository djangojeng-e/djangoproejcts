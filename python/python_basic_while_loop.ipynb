{
 "cells": [
  {
   "cell_type": "code",
   "execution_count": 1,
   "metadata": {},
   "outputs": [
    {
     "name": "stdout",
     "output_type": "stream",
     "text": [
      "0\n",
      "1\n",
      "2\n",
      "3\n",
      "4\n"
     ]
    }
   ],
   "source": [
    "# x 가 5보다 작을동안 \n",
    "# x 를 출력 \n",
    "\n",
    "x = 0\n",
    "while (x < 5):\n",
    "    print(x)\n",
    "    x = x + 1 "
   ]
  },
  {
   "cell_type": "code",
   "execution_count": 2,
   "metadata": {},
   "outputs": [],
   "source": [
    "# 아래는 아무것도 실행 되지 않습니다. \n",
    "# 반복문이 시작될때부터, 조건이 False 가 됩니다 \n",
    "# 10 은 5보다 크지 않습니다. \n",
    "\n",
    "x = 10 \n",
    "while(x < 5):\n",
    "    print(x)\n",
    "    x = x + 1 \n"
   ]
  },
  {
   "cell_type": "code",
   "execution_count": 3,
   "metadata": {},
   "outputs": [
    {
     "name": "stdout",
     "output_type": "stream",
     "text": [
      "첫번째 9숫자의 합은 :  45\n"
     ]
    }
   ],
   "source": [
    "# while... else \n",
    "\n",
    "x = 0 \n",
    "s = 0 \n",
    "while (x < 10):\n",
    "    s = s + x \n",
    "    x = x + 1 \n",
    "else:\n",
    "    print(\"첫번째 9숫자의 합은 : \", s)\n",
    "    "
   ]
  },
  {
   "cell_type": "code",
   "execution_count": 5,
   "metadata": {},
   "outputs": [
    {
     "name": "stdout",
     "output_type": "stream",
     "text": [
      " 첫번째  5 의 합은 :  10\n"
     ]
    }
   ],
   "source": [
    "# if-else 그리고 break 문을 사용한 while 반복문 \n",
    "x = 1\n",
    "s = 0\n",
    "while (x < 10):\n",
    "    s = s + x\n",
    "    x = x + 1\n",
    "    if (x == 5):\n",
    "        break\n",
    "else:\n",
    "    print('첫번째 9숫자의 합은 : ', s)\n",
    "print(' 첫번째 ', x, '의 합은 : ', s)\n",
    "\n",
    "# 여기서는 else 가 실행되지 않습니다 \n",
    "# while 반복문이, x 값이 5가 될때 종료되었기 때문에, \n",
    "# while 문에 붙어 있는 else 밑의 코드는 실행되지 않고, while 문을 빠져나갑니다. \n",
    "# 따라서, while 문 밖에 있는 print 함수가 실행됩니다. "
   ]
  },
  {
   "cell_type": "code",
   "execution_count": null,
   "metadata": {},
   "outputs": [],
   "source": []
  }
 ],
 "metadata": {
  "kernelspec": {
   "display_name": "Python 3",
   "language": "python",
   "name": "python3"
  },
  "language_info": {
   "codemirror_mode": {
    "name": "ipython",
    "version": 3
   },
   "file_extension": ".py",
   "mimetype": "text/x-python",
   "name": "python",
   "nbconvert_exporter": "python",
   "pygments_lexer": "ipython3",
   "version": "3.8.0"
  }
 },
 "nbformat": 4,
 "nbformat_minor": 4
}
