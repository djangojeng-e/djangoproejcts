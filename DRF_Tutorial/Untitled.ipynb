{
 "cells": [
  {
   "cell_type": "code",
   "execution_count": 15,
   "metadata": {},
   "outputs": [
    {
     "data": {
      "text/plain": [
       "('APL', ('apl',), ('*.apl',), ())"
      ]
     },
     "execution_count": 15,
     "metadata": {},
     "output_type": "execute_result"
    }
   ],
   "source": [
    "from pygments.lexers import get_all_lexers\n",
    "\n",
    "\n",
    "LEXERS = [item for item in get_all_lexers() if item[1]]\n",
    "# LEXERS 를 출력해보기 \n",
    "LEXERS[0]\n"
   ]
  },
  {
   "cell_type": "code",
   "execution_count": 19,
   "metadata": {},
   "outputs": [
    {
     "data": {
      "text/plain": [
       "('APL', ('apl',), ('*.apl',), ())"
      ]
     },
     "execution_count": 19,
     "metadata": {},
     "output_type": "execute_result"
    }
   ],
   "source": [
    "LEXERS[1]"
   ]
  },
  {
   "cell_type": "code",
   "execution_count": 14,
   "metadata": {},
   "outputs": [
    {
     "data": {
      "text/plain": [
       "('abap', 'ABAP')"
      ]
     },
     "execution_count": 14,
     "metadata": {},
     "output_type": "execute_result"
    }
   ],
   "source": [
    "LANGUAGE_CHOICES = sorted([(item[1][0], item[0]) for item in LEXERS])\n",
    "# LANGUAGE_CHOICES 를 출력해 보기 \n",
    "LANGUAGE_CHOICES[0]"
   ]
  },
  {
   "cell_type": "code",
   "execution_count": 20,
   "metadata": {},
   "outputs": [
    {
     "data": {
      "text/plain": [
       "('abnf', 'ABNF')"
      ]
     },
     "execution_count": 20,
     "metadata": {},
     "output_type": "execute_result"
    }
   ],
   "source": [
    "LANGUAGE_CHOICES[1]"
   ]
  },
  {
   "cell_type": "code",
   "execution_count": 23,
   "metadata": {},
   "outputs": [
    {
     "data": {
      "text/plain": [
       "[('abap', 'abap'),\n",
       " ('algol', 'algol'),\n",
       " ('algol_nu', 'algol_nu'),\n",
       " ('arduino', 'arduino'),\n",
       " ('autumn', 'autumn'),\n",
       " ('borland', 'borland'),\n",
       " ('bw', 'bw'),\n",
       " ('colorful', 'colorful'),\n",
       " ('default', 'default'),\n",
       " ('emacs', 'emacs'),\n",
       " ('friendly', 'friendly'),\n",
       " ('fruity', 'fruity'),\n",
       " ('igor', 'igor'),\n",
       " ('inkpot', 'inkpot'),\n",
       " ('lovelace', 'lovelace'),\n",
       " ('manni', 'manni'),\n",
       " ('monokai', 'monokai'),\n",
       " ('murphy', 'murphy'),\n",
       " ('native', 'native'),\n",
       " ('paraiso-dark', 'paraiso-dark'),\n",
       " ('paraiso-light', 'paraiso-light'),\n",
       " ('pastie', 'pastie'),\n",
       " ('perldoc', 'perldoc'),\n",
       " ('rainbow_dash', 'rainbow_dash'),\n",
       " ('rrt', 'rrt'),\n",
       " ('sas', 'sas'),\n",
       " ('solarized-dark', 'solarized-dark'),\n",
       " ('solarized-light', 'solarized-light'),\n",
       " ('stata', 'stata'),\n",
       " ('stata-dark', 'stata-dark'),\n",
       " ('stata-light', 'stata-light'),\n",
       " ('tango', 'tango'),\n",
       " ('trac', 'trac'),\n",
       " ('vim', 'vim'),\n",
       " ('vs', 'vs'),\n",
       " ('xcode', 'xcode')]"
      ]
     },
     "execution_count": 23,
     "metadata": {},
     "output_type": "execute_result"
    }
   ],
   "source": [
    "from pygments.styles import get_all_styles\n",
    "\n",
    "STYLE = [(item, item) for item in get_all_styles()]\n",
    "STYLE_CHOICES = sorted([(item, item) for item in get_all_styles()])\n",
    "STYLE_CHOICES"
   ]
  },
  {
   "cell_type": "code",
   "execution_count": null,
   "metadata": {},
   "outputs": [],
   "source": []
  },
  {
   "cell_type": "code",
   "execution_count": null,
   "metadata": {},
   "outputs": [],
   "source": []
  }
 ],
 "metadata": {
  "kernelspec": {
   "display_name": "Django Shell-Plus",
   "language": "python",
   "name": "django_extensions"
  },
  "language_info": {
   "codemirror_mode": {
    "name": "ipython",
    "version": 3
   },
   "file_extension": ".py",
   "mimetype": "text/x-python",
   "name": "python",
   "nbconvert_exporter": "python",
   "pygments_lexer": "ipython3",
   "version": "3.7.4"
  }
 },
 "nbformat": 4,
 "nbformat_minor": 4
}
